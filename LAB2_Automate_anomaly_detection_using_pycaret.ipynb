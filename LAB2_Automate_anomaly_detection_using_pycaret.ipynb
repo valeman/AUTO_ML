{
 "cells": [
  {
   "cell_type": "markdown",
   "metadata": {
    "colab_type": "text",
    "id": "uJKtmB7_Rlg5"
   },
   "source": [
    "Anomaly detection is the detection of some anonymous items from the datasets which looks suspicious. That means some fraud features ,unkown features detection mainly called anomaly detection. Basically pycaret anomaly dtection help to predict some fraud features in credict card fraud detection use cases , bank fraud and so on. Anomalies are also referred to as outliers, novelties, noise, deviations and exceptions.This anomaly detection is unsupervised learning help to visulaize the outliers and noisy points and finally predict the fraud points."
   ]
  },
  {
   "cell_type": "code",
   "execution_count": 2,
   "metadata": {
    "colab": {
     "base_uri": "https://localhost:8080/",
     "height": 1000
    },
    "colab_type": "code",
    "id": "WhDLcZ-kKOJI",
    "outputId": "df439cba-73ca-4948-fe8e-07da7b04f726"
   },
   "outputs": [
    {
     "name": "stdout",
     "output_type": "stream",
     "text": [
      "Requirement already satisfied: pycaret in /usr/local/lib/python3.6/dist-packages (1.0.0)\n",
      "Requirement already satisfied: awscli in /usr/local/lib/python3.6/dist-packages (from pycaret) (1.18.46)\n",
      "Requirement already satisfied: ipywidgets in /usr/local/lib/python3.6/dist-packages (from pycaret) (7.5.1)\n",
      "Requirement already satisfied: wordcloud in /usr/local/lib/python3.6/dist-packages (from pycaret) (1.5.0)\n",
      "Requirement already satisfied: pandas-profiling==2.3.0 in /usr/local/lib/python3.6/dist-packages (from pycaret) (2.3.0)\n",
      "Requirement already satisfied: pyLDAvis in /usr/local/lib/python3.6/dist-packages (from pycaret) (2.1.2)\n",
      "Requirement already satisfied: gensim in /usr/local/lib/python3.6/dist-packages (from pycaret) (3.6.0)\n",
      "Requirement already satisfied: shap==0.32.1 in /usr/local/lib/python3.6/dist-packages (from pycaret) (0.32.1)\n",
      "Requirement already satisfied: plotly==4.4.1 in /usr/local/lib/python3.6/dist-packages (from pycaret) (4.4.1)\n",
      "Requirement already satisfied: numpy in /usr/local/lib/python3.6/dist-packages (from pycaret) (1.18.3)\n",
      "Requirement already satisfied: DateTime==4.3 in /usr/local/lib/python3.6/dist-packages (from pycaret) (4.3)\n",
      "Requirement already satisfied: xgboost==0.90 in /usr/local/lib/python3.6/dist-packages (from pycaret) (0.90)\n",
      "Requirement already satisfied: kmodes==0.10.1 in /usr/local/lib/python3.6/dist-packages (from pycaret) (0.10.1)\n",
      "Requirement already satisfied: datefinder==0.7.0 in /usr/local/lib/python3.6/dist-packages (from pycaret) (0.7.0)\n",
      "Requirement already satisfied: lightgbm==2.3.1 in /usr/local/lib/python3.6/dist-packages (from pycaret) (2.3.1)\n",
      "Requirement already satisfied: scikit-learn==0.22 in /usr/local/lib/python3.6/dist-packages (from pycaret) (0.22)\n",
      "Requirement already satisfied: nltk in /usr/local/lib/python3.6/dist-packages (from pycaret) (3.2.5)\n",
      "Requirement already satisfied: mlxtend in /usr/local/lib/python3.6/dist-packages (from pycaret) (0.14.0)\n",
      "Requirement already satisfied: IPython in /usr/local/lib/python3.6/dist-packages (from pycaret) (5.5.0)\n",
      "Requirement already satisfied: yellowbrick==1.0.1 in /usr/local/lib/python3.6/dist-packages (from pycaret) (1.0.1)\n",
      "Requirement already satisfied: catboost==0.20.2 in /usr/local/lib/python3.6/dist-packages (from pycaret) (0.20.2)\n",
      "Requirement already satisfied: spacy in /usr/local/lib/python3.6/dist-packages (from pycaret) (2.2.4)\n",
      "Requirement already satisfied: textblob in /usr/local/lib/python3.6/dist-packages (from pycaret) (0.15.3)\n",
      "Requirement already satisfied: matplotlib in /usr/local/lib/python3.6/dist-packages (from pycaret) (3.2.1)\n",
      "Requirement already satisfied: cufflinks==0.17.0 in /usr/local/lib/python3.6/dist-packages (from pycaret) (0.17.0)\n",
      "Requirement already satisfied: pyod in /usr/local/lib/python3.6/dist-packages (from pycaret) (0.7.8.2)\n",
      "Requirement already satisfied: umap-learn in /usr/local/lib/python3.6/dist-packages (from pycaret) (0.4.1)\n",
      "Requirement already satisfied: seaborn in /usr/local/lib/python3.6/dist-packages (from pycaret) (0.10.0)\n",
      "Requirement already satisfied: joblib in /usr/local/lib/python3.6/dist-packages (from pycaret) (0.14.1)\n",
      "Requirement already satisfied: pandas in /usr/local/lib/python3.6/dist-packages (from pycaret) (1.0.3)\n",
      "Requirement already satisfied: botocore==1.15.46 in /usr/local/lib/python3.6/dist-packages (from awscli->pycaret) (1.15.46)\n",
      "Requirement already satisfied: colorama<0.4.4,>=0.2.5; python_version != \"3.4\" in /usr/local/lib/python3.6/dist-packages (from awscli->pycaret) (0.4.3)\n",
      "Requirement already satisfied: s3transfer<0.4.0,>=0.3.0 in /usr/local/lib/python3.6/dist-packages (from awscli->pycaret) (0.3.3)\n",
      "Requirement already satisfied: PyYAML<5.4,>=3.10; python_version != \"3.4\" in /usr/local/lib/python3.6/dist-packages (from awscli->pycaret) (3.13)\n",
      "Requirement already satisfied: rsa<=3.5.0,>=3.1.2 in /usr/local/lib/python3.6/dist-packages (from awscli->pycaret) (3.4.2)\n",
      "Requirement already satisfied: docutils<0.16,>=0.10 in /usr/local/lib/python3.6/dist-packages (from awscli->pycaret) (0.15.2)\n",
      "Requirement already satisfied: ipykernel>=4.5.1 in /usr/local/lib/python3.6/dist-packages (from ipywidgets->pycaret) (4.10.1)\n",
      "Requirement already satisfied: nbformat>=4.2.0 in /usr/local/lib/python3.6/dist-packages (from ipywidgets->pycaret) (5.0.6)\n",
      "Requirement already satisfied: widgetsnbextension~=3.5.0 in /usr/local/lib/python3.6/dist-packages (from ipywidgets->pycaret) (3.5.1)\n",
      "Requirement already satisfied: traitlets>=4.3.1 in /usr/local/lib/python3.6/dist-packages (from ipywidgets->pycaret) (4.3.3)\n",
      "Requirement already satisfied: pillow in /usr/local/lib/python3.6/dist-packages (from wordcloud->pycaret) (7.0.0)\n",
      "Requirement already satisfied: astropy in /usr/local/lib/python3.6/dist-packages (from pandas-profiling==2.3.0->pycaret) (4.0.1.post1)\n",
      "Requirement already satisfied: phik>=0.9.8 in /usr/local/lib/python3.6/dist-packages (from pandas-profiling==2.3.0->pycaret) (0.9.11)\n",
      "Requirement already satisfied: missingno>=0.4.2 in /usr/local/lib/python3.6/dist-packages (from pandas-profiling==2.3.0->pycaret) (0.4.2)\n",
      "Requirement already satisfied: jinja2>=2.8 in /usr/local/lib/python3.6/dist-packages (from pandas-profiling==2.3.0->pycaret) (2.11.2)\n",
      "Requirement already satisfied: htmlmin>=0.1.12 in /usr/local/lib/python3.6/dist-packages (from pandas-profiling==2.3.0->pycaret) (0.1.12)\n",
      "Requirement already satisfied: confuse>=1.0.0 in /usr/local/lib/python3.6/dist-packages (from pandas-profiling==2.3.0->pycaret) (1.1.0)\n",
      "Requirement already satisfied: wheel>=0.23.0 in /usr/local/lib/python3.6/dist-packages (from pyLDAvis->pycaret) (0.34.2)\n",
      "Requirement already satisfied: pytest in /usr/local/lib/python3.6/dist-packages (from pyLDAvis->pycaret) (3.6.4)\n",
      "Requirement already satisfied: numexpr in /usr/local/lib/python3.6/dist-packages (from pyLDAvis->pycaret) (2.7.1)\n",
      "Requirement already satisfied: funcy in /usr/local/lib/python3.6/dist-packages (from pyLDAvis->pycaret) (1.14)\n",
      "Requirement already satisfied: future in /usr/local/lib/python3.6/dist-packages (from pyLDAvis->pycaret) (0.16.0)\n",
      "Requirement already satisfied: scipy>=0.18.0 in /usr/local/lib/python3.6/dist-packages (from pyLDAvis->pycaret) (1.4.1)\n",
      "Requirement already satisfied: smart-open>=1.2.1 in /usr/local/lib/python3.6/dist-packages (from gensim->pycaret) (1.11.1)\n",
      "Requirement already satisfied: six>=1.5.0 in /usr/local/lib/python3.6/dist-packages (from gensim->pycaret) (1.12.0)\n",
      "Requirement already satisfied: tqdm>4.25.0 in /usr/local/lib/python3.6/dist-packages (from shap==0.32.1->pycaret) (4.38.0)\n",
      "Requirement already satisfied: retrying>=1.3.3 in /usr/local/lib/python3.6/dist-packages (from plotly==4.4.1->pycaret) (1.3.3)\n",
      "Requirement already satisfied: zope.interface in /usr/local/lib/python3.6/dist-packages (from DateTime==4.3->pycaret) (5.1.0)\n",
      "Requirement already satisfied: pytz in /usr/local/lib/python3.6/dist-packages (from DateTime==4.3->pycaret) (2018.9)\n",
      "Requirement already satisfied: regex>=2017.02.08 in /usr/local/lib/python3.6/dist-packages (from datefinder==0.7.0->pycaret) (2019.12.20)\n",
      "Requirement already satisfied: python-dateutil>=2.4.2 in /usr/local/lib/python3.6/dist-packages (from datefinder==0.7.0->pycaret) (2.8.1)\n",
      "Requirement already satisfied: setuptools in /usr/local/lib/python3.6/dist-packages (from mlxtend->pycaret) (46.1.3)\n",
      "Requirement already satisfied: simplegeneric>0.8 in /usr/local/lib/python3.6/dist-packages (from IPython->pycaret) (0.8.1)\n",
      "Requirement already satisfied: prompt-toolkit<2.0.0,>=1.0.4 in /usr/local/lib/python3.6/dist-packages (from IPython->pycaret) (1.0.18)\n",
      "Requirement already satisfied: pygments in /usr/local/lib/python3.6/dist-packages (from IPython->pycaret) (2.1.3)\n",
      "Requirement already satisfied: pickleshare in /usr/local/lib/python3.6/dist-packages (from IPython->pycaret) (0.7.5)\n",
      "Requirement already satisfied: decorator in /usr/local/lib/python3.6/dist-packages (from IPython->pycaret) (4.4.2)\n",
      "Requirement already satisfied: pexpect; sys_platform != \"win32\" in /usr/local/lib/python3.6/dist-packages (from IPython->pycaret) (4.8.0)\n",
      "Requirement already satisfied: cycler>=0.10.0 in /usr/local/lib/python3.6/dist-packages (from yellowbrick==1.0.1->pycaret) (0.10.0)\n",
      "Requirement already satisfied: graphviz in /usr/local/lib/python3.6/dist-packages (from catboost==0.20.2->pycaret) (0.10.1)\n",
      "Requirement already satisfied: plac<1.2.0,>=0.9.6 in /usr/local/lib/python3.6/dist-packages (from spacy->pycaret) (1.1.3)\n",
      "Requirement already satisfied: blis<0.5.0,>=0.4.0 in /usr/local/lib/python3.6/dist-packages (from spacy->pycaret) (0.4.1)\n",
      "Requirement already satisfied: catalogue<1.1.0,>=0.0.7 in /usr/local/lib/python3.6/dist-packages (from spacy->pycaret) (1.0.0)\n",
      "Requirement already satisfied: requests<3.0.0,>=2.13.0 in /usr/local/lib/python3.6/dist-packages (from spacy->pycaret) (2.21.0)\n",
      "Requirement already satisfied: preshed<3.1.0,>=3.0.2 in /usr/local/lib/python3.6/dist-packages (from spacy->pycaret) (3.0.2)\n",
      "Requirement already satisfied: thinc==7.4.0 in /usr/local/lib/python3.6/dist-packages (from spacy->pycaret) (7.4.0)\n",
      "Requirement already satisfied: srsly<1.1.0,>=1.0.2 in /usr/local/lib/python3.6/dist-packages (from spacy->pycaret) (1.0.2)\n",
      "Requirement already satisfied: murmurhash<1.1.0,>=0.28.0 in /usr/local/lib/python3.6/dist-packages (from spacy->pycaret) (1.0.2)\n",
      "Requirement already satisfied: wasabi<1.1.0,>=0.4.0 in /usr/local/lib/python3.6/dist-packages (from spacy->pycaret) (0.6.0)\n",
      "Requirement already satisfied: cymem<2.1.0,>=2.0.2 in /usr/local/lib/python3.6/dist-packages (from spacy->pycaret) (2.0.3)\n",
      "Requirement already satisfied: pyparsing!=2.0.4,!=2.1.2,!=2.1.6,>=2.0.1 in /usr/local/lib/python3.6/dist-packages (from matplotlib->pycaret) (2.4.7)\n",
      "Requirement already satisfied: kiwisolver>=1.0.1 in /usr/local/lib/python3.6/dist-packages (from matplotlib->pycaret) (1.2.0)\n",
      "Requirement already satisfied: colorlover>=0.2.1 in /usr/local/lib/python3.6/dist-packages (from cufflinks==0.17.0->pycaret) (0.3.0)\n",
      "Requirement already satisfied: chart-studio>=1.0.0 in /usr/local/lib/python3.6/dist-packages (from cufflinks==0.17.0->pycaret) (1.1.0)\n",
      "Requirement already satisfied: numba>=0.35 in /usr/local/lib/python3.6/dist-packages (from pyod->pycaret) (0.48.0)\n",
      "Requirement already satisfied: combo in /usr/local/lib/python3.6/dist-packages (from pyod->pycaret) (0.1.0)\n",
      "Requirement already satisfied: suod in /usr/local/lib/python3.6/dist-packages (from pyod->pycaret) (0.0.4)\n",
      "Requirement already satisfied: tbb>=2019.0 in /usr/local/lib/python3.6/dist-packages (from umap-learn->pycaret) (2020.0.133)\n",
      "Requirement already satisfied: jmespath<1.0.0,>=0.7.1 in /usr/local/lib/python3.6/dist-packages (from botocore==1.15.46->awscli->pycaret) (0.9.5)\n",
      "Requirement already satisfied: urllib3<1.26,>=1.20; python_version != \"3.4\" in /usr/local/lib/python3.6/dist-packages (from botocore==1.15.46->awscli->pycaret) (1.24.3)\n",
      "Requirement already satisfied: pyasn1>=0.1.3 in /usr/local/lib/python3.6/dist-packages (from rsa<=3.5.0,>=3.1.2->awscli->pycaret) (0.4.8)\n",
      "Requirement already satisfied: tornado>=4.0 in /usr/local/lib/python3.6/dist-packages (from ipykernel>=4.5.1->ipywidgets->pycaret) (4.5.3)\n",
      "Requirement already satisfied: jupyter-client in /usr/local/lib/python3.6/dist-packages (from ipykernel>=4.5.1->ipywidgets->pycaret) (5.3.4)\n",
      "Requirement already satisfied: jsonschema!=2.5.0,>=2.4 in /usr/local/lib/python3.6/dist-packages (from nbformat>=4.2.0->ipywidgets->pycaret) (2.6.0)\n",
      "Requirement already satisfied: ipython-genutils in /usr/local/lib/python3.6/dist-packages (from nbformat>=4.2.0->ipywidgets->pycaret) (0.2.0)\n",
      "Requirement already satisfied: jupyter-core in /usr/local/lib/python3.6/dist-packages (from nbformat>=4.2.0->ipywidgets->pycaret) (4.6.3)\n",
      "Requirement already satisfied: notebook>=4.4.1 in /usr/local/lib/python3.6/dist-packages (from widgetsnbextension~=3.5.0->ipywidgets->pycaret) (5.2.2)\n",
      "Requirement already satisfied: MarkupSafe>=0.23 in /usr/local/lib/python3.6/dist-packages (from jinja2>=2.8->pandas-profiling==2.3.0->pycaret) (1.1.1)\n",
      "Requirement already satisfied: more-itertools>=4.0.0 in /usr/local/lib/python3.6/dist-packages (from pytest->pyLDAvis->pycaret) (8.2.0)\n",
      "Requirement already satisfied: atomicwrites>=1.0 in /usr/local/lib/python3.6/dist-packages (from pytest->pyLDAvis->pycaret) (1.3.0)\n",
      "Requirement already satisfied: attrs>=17.4.0 in /usr/local/lib/python3.6/dist-packages (from pytest->pyLDAvis->pycaret) (19.3.0)\n",
      "Requirement already satisfied: pluggy<0.8,>=0.5 in /usr/local/lib/python3.6/dist-packages (from pytest->pyLDAvis->pycaret) (0.7.1)\n",
      "Requirement already satisfied: py>=1.5.0 in /usr/local/lib/python3.6/dist-packages (from pytest->pyLDAvis->pycaret) (1.8.1)\n",
      "Requirement already satisfied: boto in /usr/local/lib/python3.6/dist-packages (from smart-open>=1.2.1->gensim->pycaret) (2.49.0)\n",
      "Requirement already satisfied: boto3 in /usr/local/lib/python3.6/dist-packages (from smart-open>=1.2.1->gensim->pycaret) (1.12.43)\n",
      "Requirement already satisfied: wcwidth in /usr/local/lib/python3.6/dist-packages (from prompt-toolkit<2.0.0,>=1.0.4->IPython->pycaret) (0.1.9)\n",
      "Requirement already satisfied: ptyprocess>=0.5 in /usr/local/lib/python3.6/dist-packages (from pexpect; sys_platform != \"win32\"->IPython->pycaret) (0.6.0)\n",
      "Requirement already satisfied: importlib-metadata>=0.20; python_version < \"3.8\" in /usr/local/lib/python3.6/dist-packages (from catalogue<1.1.0,>=0.0.7->spacy->pycaret) (1.6.0)\n",
      "Requirement already satisfied: chardet<3.1.0,>=3.0.2 in /usr/local/lib/python3.6/dist-packages (from requests<3.0.0,>=2.13.0->spacy->pycaret) (3.0.4)\n",
      "Requirement already satisfied: idna<2.9,>=2.5 in /usr/local/lib/python3.6/dist-packages (from requests<3.0.0,>=2.13.0->spacy->pycaret) (2.8)\n",
      "Requirement already satisfied: certifi>=2017.4.17 in /usr/local/lib/python3.6/dist-packages (from requests<3.0.0,>=2.13.0->spacy->pycaret) (2020.4.5.1)\n",
      "Requirement already satisfied: llvmlite<0.32.0,>=0.31.0dev0 in /usr/local/lib/python3.6/dist-packages (from numba>=0.35->pyod->pycaret) (0.31.0)\n",
      "Requirement already satisfied: pyzmq>=13 in /usr/local/lib/python3.6/dist-packages (from jupyter-client->ipykernel>=4.5.1->ipywidgets->pycaret) (19.0.0)\n",
      "Requirement already satisfied: nbconvert in /usr/local/lib/python3.6/dist-packages (from notebook>=4.4.1->widgetsnbextension~=3.5.0->ipywidgets->pycaret) (5.6.1)\n",
      "Requirement already satisfied: terminado>=0.3.3; sys_platform != \"win32\" in /usr/local/lib/python3.6/dist-packages (from notebook>=4.4.1->widgetsnbextension~=3.5.0->ipywidgets->pycaret) (0.8.3)\n",
      "Requirement already satisfied: zipp>=0.5 in /usr/local/lib/python3.6/dist-packages (from importlib-metadata>=0.20; python_version < \"3.8\"->catalogue<1.1.0,>=0.0.7->spacy->pycaret) (3.1.0)\n",
      "Requirement already satisfied: entrypoints>=0.2.2 in /usr/local/lib/python3.6/dist-packages (from nbconvert->notebook>=4.4.1->widgetsnbextension~=3.5.0->ipywidgets->pycaret) (0.3)\n",
      "Requirement already satisfied: bleach in /usr/local/lib/python3.6/dist-packages (from nbconvert->notebook>=4.4.1->widgetsnbextension~=3.5.0->ipywidgets->pycaret) (3.1.4)\n",
      "Requirement already satisfied: mistune<2,>=0.8.1 in /usr/local/lib/python3.6/dist-packages (from nbconvert->notebook>=4.4.1->widgetsnbextension~=3.5.0->ipywidgets->pycaret) (0.8.4)\n",
      "Requirement already satisfied: testpath in /usr/local/lib/python3.6/dist-packages (from nbconvert->notebook>=4.4.1->widgetsnbextension~=3.5.0->ipywidgets->pycaret) (0.4.4)\n",
      "Requirement already satisfied: defusedxml in /usr/local/lib/python3.6/dist-packages (from nbconvert->notebook>=4.4.1->widgetsnbextension~=3.5.0->ipywidgets->pycaret) (0.6.0)\n",
      "Requirement already satisfied: pandocfilters>=1.4.1 in /usr/local/lib/python3.6/dist-packages (from nbconvert->notebook>=4.4.1->widgetsnbextension~=3.5.0->ipywidgets->pycaret) (1.4.2)\n",
      "Requirement already satisfied: webencodings in /usr/local/lib/python3.6/dist-packages (from bleach->nbconvert->notebook>=4.4.1->widgetsnbextension~=3.5.0->ipywidgets->pycaret) (0.5.1)\n"
     ]
    }
   ],
   "source": [
    "!pip install pycaret"
   ]
  },
  {
   "cell_type": "code",
   "execution_count": 0,
   "metadata": {
    "colab": {},
    "colab_type": "code",
    "id": "CyFttzYUKohG"
   },
   "outputs": [],
   "source": [
    "from pycaret.datasets import get_data"
   ]
  },
  {
   "cell_type": "code",
   "execution_count": 4,
   "metadata": {
    "colab": {
     "base_uri": "https://localhost:8080/",
     "height": 202
    },
    "colab_type": "code",
    "id": "umW_GOgbMhpe",
    "outputId": "d4620b90-af72-47f3-cd86-6482f7d1efb5"
   },
   "outputs": [
    {
     "data": {
      "text/html": [
       "<div>\n",
       "<style scoped>\n",
       "    .dataframe tbody tr th:only-of-type {\n",
       "        vertical-align: middle;\n",
       "    }\n",
       "\n",
       "    .dataframe tbody tr th {\n",
       "        vertical-align: top;\n",
       "    }\n",
       "\n",
       "    .dataframe thead th {\n",
       "        text-align: right;\n",
       "    }\n",
       "</style>\n",
       "<table border=\"1\" class=\"dataframe\">\n",
       "  <thead>\n",
       "    <tr style=\"text-align: right;\">\n",
       "      <th></th>\n",
       "      <th>Col1</th>\n",
       "      <th>Col2</th>\n",
       "      <th>Col3</th>\n",
       "      <th>Col4</th>\n",
       "      <th>Col5</th>\n",
       "      <th>Col6</th>\n",
       "      <th>Col7</th>\n",
       "      <th>Col8</th>\n",
       "      <th>Col9</th>\n",
       "      <th>Col10</th>\n",
       "    </tr>\n",
       "  </thead>\n",
       "  <tbody>\n",
       "    <tr>\n",
       "      <th>0</th>\n",
       "      <td>0.263995</td>\n",
       "      <td>0.764929</td>\n",
       "      <td>0.138424</td>\n",
       "      <td>0.935242</td>\n",
       "      <td>0.605867</td>\n",
       "      <td>0.518790</td>\n",
       "      <td>0.912225</td>\n",
       "      <td>0.608234</td>\n",
       "      <td>0.723782</td>\n",
       "      <td>0.733591</td>\n",
       "    </tr>\n",
       "    <tr>\n",
       "      <th>1</th>\n",
       "      <td>0.546092</td>\n",
       "      <td>0.653975</td>\n",
       "      <td>0.065575</td>\n",
       "      <td>0.227772</td>\n",
       "      <td>0.845269</td>\n",
       "      <td>0.837066</td>\n",
       "      <td>0.272379</td>\n",
       "      <td>0.331679</td>\n",
       "      <td>0.429297</td>\n",
       "      <td>0.367422</td>\n",
       "    </tr>\n",
       "    <tr>\n",
       "      <th>2</th>\n",
       "      <td>0.336714</td>\n",
       "      <td>0.538842</td>\n",
       "      <td>0.192801</td>\n",
       "      <td>0.553563</td>\n",
       "      <td>0.074515</td>\n",
       "      <td>0.332993</td>\n",
       "      <td>0.365792</td>\n",
       "      <td>0.861309</td>\n",
       "      <td>0.899017</td>\n",
       "      <td>0.088600</td>\n",
       "    </tr>\n",
       "    <tr>\n",
       "      <th>3</th>\n",
       "      <td>0.092108</td>\n",
       "      <td>0.995017</td>\n",
       "      <td>0.014465</td>\n",
       "      <td>0.176371</td>\n",
       "      <td>0.241530</td>\n",
       "      <td>0.514724</td>\n",
       "      <td>0.562208</td>\n",
       "      <td>0.158963</td>\n",
       "      <td>0.073715</td>\n",
       "      <td>0.208463</td>\n",
       "    </tr>\n",
       "    <tr>\n",
       "      <th>4</th>\n",
       "      <td>0.325261</td>\n",
       "      <td>0.805968</td>\n",
       "      <td>0.957033</td>\n",
       "      <td>0.331665</td>\n",
       "      <td>0.307923</td>\n",
       "      <td>0.355315</td>\n",
       "      <td>0.501899</td>\n",
       "      <td>0.558449</td>\n",
       "      <td>0.885169</td>\n",
       "      <td>0.182754</td>\n",
       "    </tr>\n",
       "  </tbody>\n",
       "</table>\n",
       "</div>"
      ],
      "text/plain": [
       "       Col1      Col2      Col3  ...      Col8      Col9     Col10\n",
       "0  0.263995  0.764929  0.138424  ...  0.608234  0.723782  0.733591\n",
       "1  0.546092  0.653975  0.065575  ...  0.331679  0.429297  0.367422\n",
       "2  0.336714  0.538842  0.192801  ...  0.861309  0.899017  0.088600\n",
       "3  0.092108  0.995017  0.014465  ...  0.158963  0.073715  0.208463\n",
       "4  0.325261  0.805968  0.957033  ...  0.558449  0.885169  0.182754\n",
       "\n",
       "[5 rows x 10 columns]"
      ]
     },
     "metadata": {
      "tags": []
     },
     "output_type": "display_data"
    }
   ],
   "source": [
    "data=get_data('anomaly')"
   ]
  },
  {
   "cell_type": "code",
   "execution_count": 0,
   "metadata": {
    "colab": {},
    "colab_type": "code",
    "id": "q-MK4uWGMniN"
   },
   "outputs": [],
   "source": [
    "from pycaret.anomaly import *"
   ]
  },
  {
   "cell_type": "code",
   "execution_count": 7,
   "metadata": {
    "colab": {
     "base_uri": "https://localhost:8080/",
     "height": 571,
     "referenced_widgets": [
      "f19ea5d238ac4d258e2da33b25e02b1a",
      "b85d10ee43fc4287bc4892b2e056531f",
      "49ea9a13f5b2472191cf4134d20c8651",
      "69380d64266b4cccb792e80dc2b65860",
      "ed4550269acf44aaab0195d54490b799",
      "b050eddb583c4d3db7834269f2605d20"
     ]
    },
    "colab_type": "code",
    "id": "zkWKAqHuMtCk",
    "outputId": "38213e5f-901c-41cb-850c-eb5f36a273b3"
   },
   "outputs": [
    {
     "name": "stdout",
     "output_type": "stream",
     "text": [
      "\n",
      "Setup Succesfully Completed!\n"
     ]
    },
    {
     "data": {
      "text/html": [
       "<style  type=\"text/css\" >\n",
       "</style><table id=\"T_c2d9dbc4_8899_11ea_9d47_0242ac1c0002\" ><thead>    <tr>        <th class=\"blank level0\" ></th>        <th class=\"col_heading level0 col0\" >Description</th>        <th class=\"col_heading level0 col1\" >Value</th>    </tr></thead><tbody>\n",
       "                <tr>\n",
       "                        <th id=\"T_c2d9dbc4_8899_11ea_9d47_0242ac1c0002level0_row0\" class=\"row_heading level0 row0\" >0</th>\n",
       "                        <td id=\"T_c2d9dbc4_8899_11ea_9d47_0242ac1c0002row0_col0\" class=\"data row0 col0\" >session_id </td>\n",
       "                        <td id=\"T_c2d9dbc4_8899_11ea_9d47_0242ac1c0002row0_col1\" class=\"data row0 col1\" >2530</td>\n",
       "            </tr>\n",
       "            <tr>\n",
       "                        <th id=\"T_c2d9dbc4_8899_11ea_9d47_0242ac1c0002level0_row1\" class=\"row_heading level0 row1\" >1</th>\n",
       "                        <td id=\"T_c2d9dbc4_8899_11ea_9d47_0242ac1c0002row1_col0\" class=\"data row1 col0\" >Original Data </td>\n",
       "                        <td id=\"T_c2d9dbc4_8899_11ea_9d47_0242ac1c0002row1_col1\" class=\"data row1 col1\" >(1000, 10)</td>\n",
       "            </tr>\n",
       "            <tr>\n",
       "                        <th id=\"T_c2d9dbc4_8899_11ea_9d47_0242ac1c0002level0_row2\" class=\"row_heading level0 row2\" >2</th>\n",
       "                        <td id=\"T_c2d9dbc4_8899_11ea_9d47_0242ac1c0002row2_col0\" class=\"data row2 col0\" >Missing Values </td>\n",
       "                        <td id=\"T_c2d9dbc4_8899_11ea_9d47_0242ac1c0002row2_col1\" class=\"data row2 col1\" >False</td>\n",
       "            </tr>\n",
       "            <tr>\n",
       "                        <th id=\"T_c2d9dbc4_8899_11ea_9d47_0242ac1c0002level0_row3\" class=\"row_heading level0 row3\" >3</th>\n",
       "                        <td id=\"T_c2d9dbc4_8899_11ea_9d47_0242ac1c0002row3_col0\" class=\"data row3 col0\" >Numeric Features </td>\n",
       "                        <td id=\"T_c2d9dbc4_8899_11ea_9d47_0242ac1c0002row3_col1\" class=\"data row3 col1\" >10</td>\n",
       "            </tr>\n",
       "            <tr>\n",
       "                        <th id=\"T_c2d9dbc4_8899_11ea_9d47_0242ac1c0002level0_row4\" class=\"row_heading level0 row4\" >4</th>\n",
       "                        <td id=\"T_c2d9dbc4_8899_11ea_9d47_0242ac1c0002row4_col0\" class=\"data row4 col0\" >Categorical Features </td>\n",
       "                        <td id=\"T_c2d9dbc4_8899_11ea_9d47_0242ac1c0002row4_col1\" class=\"data row4 col1\" >0</td>\n",
       "            </tr>\n",
       "            <tr>\n",
       "                        <th id=\"T_c2d9dbc4_8899_11ea_9d47_0242ac1c0002level0_row5\" class=\"row_heading level0 row5\" >5</th>\n",
       "                        <td id=\"T_c2d9dbc4_8899_11ea_9d47_0242ac1c0002row5_col0\" class=\"data row5 col0\" >Ordinal Features </td>\n",
       "                        <td id=\"T_c2d9dbc4_8899_11ea_9d47_0242ac1c0002row5_col1\" class=\"data row5 col1\" >False</td>\n",
       "            </tr>\n",
       "            <tr>\n",
       "                        <th id=\"T_c2d9dbc4_8899_11ea_9d47_0242ac1c0002level0_row6\" class=\"row_heading level0 row6\" >6</th>\n",
       "                        <td id=\"T_c2d9dbc4_8899_11ea_9d47_0242ac1c0002row6_col0\" class=\"data row6 col0\" >High Cardinality Features </td>\n",
       "                        <td id=\"T_c2d9dbc4_8899_11ea_9d47_0242ac1c0002row6_col1\" class=\"data row6 col1\" >False</td>\n",
       "            </tr>\n",
       "            <tr>\n",
       "                        <th id=\"T_c2d9dbc4_8899_11ea_9d47_0242ac1c0002level0_row7\" class=\"row_heading level0 row7\" >7</th>\n",
       "                        <td id=\"T_c2d9dbc4_8899_11ea_9d47_0242ac1c0002row7_col0\" class=\"data row7 col0\" >Transformed Data </td>\n",
       "                        <td id=\"T_c2d9dbc4_8899_11ea_9d47_0242ac1c0002row7_col1\" class=\"data row7 col1\" >(1000, 10)</td>\n",
       "            </tr>\n",
       "            <tr>\n",
       "                        <th id=\"T_c2d9dbc4_8899_11ea_9d47_0242ac1c0002level0_row8\" class=\"row_heading level0 row8\" >8</th>\n",
       "                        <td id=\"T_c2d9dbc4_8899_11ea_9d47_0242ac1c0002row8_col0\" class=\"data row8 col0\" >Numeric Imputer </td>\n",
       "                        <td id=\"T_c2d9dbc4_8899_11ea_9d47_0242ac1c0002row8_col1\" class=\"data row8 col1\" >mean</td>\n",
       "            </tr>\n",
       "            <tr>\n",
       "                        <th id=\"T_c2d9dbc4_8899_11ea_9d47_0242ac1c0002level0_row9\" class=\"row_heading level0 row9\" >9</th>\n",
       "                        <td id=\"T_c2d9dbc4_8899_11ea_9d47_0242ac1c0002row9_col0\" class=\"data row9 col0\" >Categorical Imputer </td>\n",
       "                        <td id=\"T_c2d9dbc4_8899_11ea_9d47_0242ac1c0002row9_col1\" class=\"data row9 col1\" >constant</td>\n",
       "            </tr>\n",
       "            <tr>\n",
       "                        <th id=\"T_c2d9dbc4_8899_11ea_9d47_0242ac1c0002level0_row10\" class=\"row_heading level0 row10\" >10</th>\n",
       "                        <td id=\"T_c2d9dbc4_8899_11ea_9d47_0242ac1c0002row10_col0\" class=\"data row10 col0\" >Normalize </td>\n",
       "                        <td id=\"T_c2d9dbc4_8899_11ea_9d47_0242ac1c0002row10_col1\" class=\"data row10 col1\" >False</td>\n",
       "            </tr>\n",
       "            <tr>\n",
       "                        <th id=\"T_c2d9dbc4_8899_11ea_9d47_0242ac1c0002level0_row11\" class=\"row_heading level0 row11\" >11</th>\n",
       "                        <td id=\"T_c2d9dbc4_8899_11ea_9d47_0242ac1c0002row11_col0\" class=\"data row11 col0\" >Normalize Method </td>\n",
       "                        <td id=\"T_c2d9dbc4_8899_11ea_9d47_0242ac1c0002row11_col1\" class=\"data row11 col1\" >None</td>\n",
       "            </tr>\n",
       "            <tr>\n",
       "                        <th id=\"T_c2d9dbc4_8899_11ea_9d47_0242ac1c0002level0_row12\" class=\"row_heading level0 row12\" >12</th>\n",
       "                        <td id=\"T_c2d9dbc4_8899_11ea_9d47_0242ac1c0002row12_col0\" class=\"data row12 col0\" >Transformation </td>\n",
       "                        <td id=\"T_c2d9dbc4_8899_11ea_9d47_0242ac1c0002row12_col1\" class=\"data row12 col1\" >False</td>\n",
       "            </tr>\n",
       "            <tr>\n",
       "                        <th id=\"T_c2d9dbc4_8899_11ea_9d47_0242ac1c0002level0_row13\" class=\"row_heading level0 row13\" >13</th>\n",
       "                        <td id=\"T_c2d9dbc4_8899_11ea_9d47_0242ac1c0002row13_col0\" class=\"data row13 col0\" >Transformation Method </td>\n",
       "                        <td id=\"T_c2d9dbc4_8899_11ea_9d47_0242ac1c0002row13_col1\" class=\"data row13 col1\" >None</td>\n",
       "            </tr>\n",
       "            <tr>\n",
       "                        <th id=\"T_c2d9dbc4_8899_11ea_9d47_0242ac1c0002level0_row14\" class=\"row_heading level0 row14\" >14</th>\n",
       "                        <td id=\"T_c2d9dbc4_8899_11ea_9d47_0242ac1c0002row14_col0\" class=\"data row14 col0\" >PCA </td>\n",
       "                        <td id=\"T_c2d9dbc4_8899_11ea_9d47_0242ac1c0002row14_col1\" class=\"data row14 col1\" >False</td>\n",
       "            </tr>\n",
       "            <tr>\n",
       "                        <th id=\"T_c2d9dbc4_8899_11ea_9d47_0242ac1c0002level0_row15\" class=\"row_heading level0 row15\" >15</th>\n",
       "                        <td id=\"T_c2d9dbc4_8899_11ea_9d47_0242ac1c0002row15_col0\" class=\"data row15 col0\" >PCA Method </td>\n",
       "                        <td id=\"T_c2d9dbc4_8899_11ea_9d47_0242ac1c0002row15_col1\" class=\"data row15 col1\" >None</td>\n",
       "            </tr>\n",
       "            <tr>\n",
       "                        <th id=\"T_c2d9dbc4_8899_11ea_9d47_0242ac1c0002level0_row16\" class=\"row_heading level0 row16\" >16</th>\n",
       "                        <td id=\"T_c2d9dbc4_8899_11ea_9d47_0242ac1c0002row16_col0\" class=\"data row16 col0\" >PCA components </td>\n",
       "                        <td id=\"T_c2d9dbc4_8899_11ea_9d47_0242ac1c0002row16_col1\" class=\"data row16 col1\" >None</td>\n",
       "            </tr>\n",
       "            <tr>\n",
       "                        <th id=\"T_c2d9dbc4_8899_11ea_9d47_0242ac1c0002level0_row17\" class=\"row_heading level0 row17\" >17</th>\n",
       "                        <td id=\"T_c2d9dbc4_8899_11ea_9d47_0242ac1c0002row17_col0\" class=\"data row17 col0\" >Ignore Low Variance </td>\n",
       "                        <td id=\"T_c2d9dbc4_8899_11ea_9d47_0242ac1c0002row17_col1\" class=\"data row17 col1\" >False</td>\n",
       "            </tr>\n",
       "            <tr>\n",
       "                        <th id=\"T_c2d9dbc4_8899_11ea_9d47_0242ac1c0002level0_row18\" class=\"row_heading level0 row18\" >18</th>\n",
       "                        <td id=\"T_c2d9dbc4_8899_11ea_9d47_0242ac1c0002row18_col0\" class=\"data row18 col0\" >Combine Rare Levels </td>\n",
       "                        <td id=\"T_c2d9dbc4_8899_11ea_9d47_0242ac1c0002row18_col1\" class=\"data row18 col1\" >False</td>\n",
       "            </tr>\n",
       "            <tr>\n",
       "                        <th id=\"T_c2d9dbc4_8899_11ea_9d47_0242ac1c0002level0_row19\" class=\"row_heading level0 row19\" >19</th>\n",
       "                        <td id=\"T_c2d9dbc4_8899_11ea_9d47_0242ac1c0002row19_col0\" class=\"data row19 col0\" >Rare Level Threshold </td>\n",
       "                        <td id=\"T_c2d9dbc4_8899_11ea_9d47_0242ac1c0002row19_col1\" class=\"data row19 col1\" >None</td>\n",
       "            </tr>\n",
       "            <tr>\n",
       "                        <th id=\"T_c2d9dbc4_8899_11ea_9d47_0242ac1c0002level0_row20\" class=\"row_heading level0 row20\" >20</th>\n",
       "                        <td id=\"T_c2d9dbc4_8899_11ea_9d47_0242ac1c0002row20_col0\" class=\"data row20 col0\" >Numeric Binning </td>\n",
       "                        <td id=\"T_c2d9dbc4_8899_11ea_9d47_0242ac1c0002row20_col1\" class=\"data row20 col1\" >False</td>\n",
       "            </tr>\n",
       "            <tr>\n",
       "                        <th id=\"T_c2d9dbc4_8899_11ea_9d47_0242ac1c0002level0_row21\" class=\"row_heading level0 row21\" >21</th>\n",
       "                        <td id=\"T_c2d9dbc4_8899_11ea_9d47_0242ac1c0002row21_col0\" class=\"data row21 col0\" >Remove Multicollinearity </td>\n",
       "                        <td id=\"T_c2d9dbc4_8899_11ea_9d47_0242ac1c0002row21_col1\" class=\"data row21 col1\" >False</td>\n",
       "            </tr>\n",
       "            <tr>\n",
       "                        <th id=\"T_c2d9dbc4_8899_11ea_9d47_0242ac1c0002level0_row22\" class=\"row_heading level0 row22\" >22</th>\n",
       "                        <td id=\"T_c2d9dbc4_8899_11ea_9d47_0242ac1c0002row22_col0\" class=\"data row22 col0\" >Multicollinearity Threshold </td>\n",
       "                        <td id=\"T_c2d9dbc4_8899_11ea_9d47_0242ac1c0002row22_col1\" class=\"data row22 col1\" >None</td>\n",
       "            </tr>\n",
       "            <tr>\n",
       "                        <th id=\"T_c2d9dbc4_8899_11ea_9d47_0242ac1c0002level0_row23\" class=\"row_heading level0 row23\" >23</th>\n",
       "                        <td id=\"T_c2d9dbc4_8899_11ea_9d47_0242ac1c0002row23_col0\" class=\"data row23 col0\" >Group Features </td>\n",
       "                        <td id=\"T_c2d9dbc4_8899_11ea_9d47_0242ac1c0002row23_col1\" class=\"data row23 col1\" >False</td>\n",
       "            </tr>\n",
       "    </tbody></table>"
      ],
      "text/plain": [
       "<pandas.io.formats.style.Styler at 0x7fdf35f72eb8>"
      ]
     },
     "metadata": {
      "tags": []
     },
     "output_type": "display_data"
    }
   ],
   "source": [
    "algo=setup(data)  # here actually all types of feature engineering steps occur."
   ]
  },
  {
   "cell_type": "code",
   "execution_count": 8,
   "metadata": {
    "colab": {
     "base_uri": "https://localhost:8080/",
     "height": 415
    },
    "colab_type": "code",
    "id": "ThGGAIVOM8qc",
    "outputId": "2bf0a604-2826-4124-bf94-9b7512e9c3e0"
   },
   "outputs": [
    {
     "data": {
      "text/html": [
       "<div>\n",
       "<style scoped>\n",
       "    .dataframe tbody tr th:only-of-type {\n",
       "        vertical-align: middle;\n",
       "    }\n",
       "\n",
       "    .dataframe tbody tr th {\n",
       "        vertical-align: top;\n",
       "    }\n",
       "\n",
       "    .dataframe thead th {\n",
       "        text-align: right;\n",
       "    }\n",
       "</style>\n",
       "<table border=\"1\" class=\"dataframe\">\n",
       "  <thead>\n",
       "    <tr style=\"text-align: right;\">\n",
       "      <th></th>\n",
       "      <th>Col1</th>\n",
       "      <th>Col2</th>\n",
       "      <th>Col3</th>\n",
       "      <th>Col4</th>\n",
       "      <th>Col5</th>\n",
       "      <th>Col6</th>\n",
       "      <th>Col7</th>\n",
       "      <th>Col8</th>\n",
       "      <th>Col9</th>\n",
       "      <th>Col10</th>\n",
       "    </tr>\n",
       "  </thead>\n",
       "  <tbody>\n",
       "    <tr>\n",
       "      <th>0</th>\n",
       "      <td>0.263995</td>\n",
       "      <td>0.764929</td>\n",
       "      <td>0.138424</td>\n",
       "      <td>0.935242</td>\n",
       "      <td>0.605867</td>\n",
       "      <td>0.518790</td>\n",
       "      <td>0.912225</td>\n",
       "      <td>0.608234</td>\n",
       "      <td>0.723782</td>\n",
       "      <td>0.733591</td>\n",
       "    </tr>\n",
       "    <tr>\n",
       "      <th>1</th>\n",
       "      <td>0.546092</td>\n",
       "      <td>0.653975</td>\n",
       "      <td>0.065575</td>\n",
       "      <td>0.227772</td>\n",
       "      <td>0.845269</td>\n",
       "      <td>0.837066</td>\n",
       "      <td>0.272379</td>\n",
       "      <td>0.331679</td>\n",
       "      <td>0.429297</td>\n",
       "      <td>0.367422</td>\n",
       "    </tr>\n",
       "    <tr>\n",
       "      <th>2</th>\n",
       "      <td>0.336714</td>\n",
       "      <td>0.538842</td>\n",
       "      <td>0.192801</td>\n",
       "      <td>0.553563</td>\n",
       "      <td>0.074515</td>\n",
       "      <td>0.332993</td>\n",
       "      <td>0.365792</td>\n",
       "      <td>0.861309</td>\n",
       "      <td>0.899017</td>\n",
       "      <td>0.088600</td>\n",
       "    </tr>\n",
       "    <tr>\n",
       "      <th>3</th>\n",
       "      <td>0.092108</td>\n",
       "      <td>0.995017</td>\n",
       "      <td>0.014465</td>\n",
       "      <td>0.176371</td>\n",
       "      <td>0.241530</td>\n",
       "      <td>0.514724</td>\n",
       "      <td>0.562208</td>\n",
       "      <td>0.158963</td>\n",
       "      <td>0.073715</td>\n",
       "      <td>0.208463</td>\n",
       "    </tr>\n",
       "    <tr>\n",
       "      <th>4</th>\n",
       "      <td>0.325261</td>\n",
       "      <td>0.805968</td>\n",
       "      <td>0.957033</td>\n",
       "      <td>0.331665</td>\n",
       "      <td>0.307923</td>\n",
       "      <td>0.355315</td>\n",
       "      <td>0.501899</td>\n",
       "      <td>0.558449</td>\n",
       "      <td>0.885169</td>\n",
       "      <td>0.182754</td>\n",
       "    </tr>\n",
       "    <tr>\n",
       "      <th>...</th>\n",
       "      <td>...</td>\n",
       "      <td>...</td>\n",
       "      <td>...</td>\n",
       "      <td>...</td>\n",
       "      <td>...</td>\n",
       "      <td>...</td>\n",
       "      <td>...</td>\n",
       "      <td>...</td>\n",
       "      <td>...</td>\n",
       "      <td>...</td>\n",
       "    </tr>\n",
       "    <tr>\n",
       "      <th>995</th>\n",
       "      <td>0.305055</td>\n",
       "      <td>0.656837</td>\n",
       "      <td>0.331665</td>\n",
       "      <td>0.822525</td>\n",
       "      <td>0.907127</td>\n",
       "      <td>0.882276</td>\n",
       "      <td>0.855732</td>\n",
       "      <td>0.584786</td>\n",
       "      <td>0.808640</td>\n",
       "      <td>0.242762</td>\n",
       "    </tr>\n",
       "    <tr>\n",
       "      <th>996</th>\n",
       "      <td>0.812627</td>\n",
       "      <td>0.864258</td>\n",
       "      <td>0.616604</td>\n",
       "      <td>0.167966</td>\n",
       "      <td>0.811223</td>\n",
       "      <td>0.938071</td>\n",
       "      <td>0.418462</td>\n",
       "      <td>0.472306</td>\n",
       "      <td>0.348347</td>\n",
       "      <td>0.671129</td>\n",
       "    </tr>\n",
       "    <tr>\n",
       "      <th>997</th>\n",
       "      <td>0.250967</td>\n",
       "      <td>0.138627</td>\n",
       "      <td>0.919703</td>\n",
       "      <td>0.461234</td>\n",
       "      <td>0.886555</td>\n",
       "      <td>0.869888</td>\n",
       "      <td>0.800908</td>\n",
       "      <td>0.530324</td>\n",
       "      <td>0.779433</td>\n",
       "      <td>0.234952</td>\n",
       "    </tr>\n",
       "    <tr>\n",
       "      <th>998</th>\n",
       "      <td>0.502436</td>\n",
       "      <td>0.936820</td>\n",
       "      <td>0.580062</td>\n",
       "      <td>0.540773</td>\n",
       "      <td>0.151995</td>\n",
       "      <td>0.059452</td>\n",
       "      <td>0.225220</td>\n",
       "      <td>0.242755</td>\n",
       "      <td>0.279385</td>\n",
       "      <td>0.538755</td>\n",
       "    </tr>\n",
       "    <tr>\n",
       "      <th>999</th>\n",
       "      <td>0.457991</td>\n",
       "      <td>0.017755</td>\n",
       "      <td>0.714113</td>\n",
       "      <td>0.125992</td>\n",
       "      <td>0.063316</td>\n",
       "      <td>0.154739</td>\n",
       "      <td>0.922974</td>\n",
       "      <td>0.692299</td>\n",
       "      <td>0.816777</td>\n",
       "      <td>0.307592</td>\n",
       "    </tr>\n",
       "  </tbody>\n",
       "</table>\n",
       "<p>1000 rows × 10 columns</p>\n",
       "</div>"
      ],
      "text/plain": [
       "         Col1      Col2      Col3  ...      Col8      Col9     Col10\n",
       "0    0.263995  0.764929  0.138424  ...  0.608234  0.723782  0.733591\n",
       "1    0.546092  0.653975  0.065575  ...  0.331679  0.429297  0.367422\n",
       "2    0.336714  0.538842  0.192801  ...  0.861309  0.899017  0.088600\n",
       "3    0.092108  0.995017  0.014465  ...  0.158963  0.073715  0.208463\n",
       "4    0.325261  0.805968  0.957033  ...  0.558449  0.885169  0.182754\n",
       "..        ...       ...       ...  ...       ...       ...       ...\n",
       "995  0.305055  0.656837  0.331665  ...  0.584786  0.808640  0.242762\n",
       "996  0.812627  0.864258  0.616604  ...  0.472306  0.348347  0.671129\n",
       "997  0.250967  0.138627  0.919703  ...  0.530324  0.779433  0.234952\n",
       "998  0.502436  0.936820  0.580062  ...  0.242755  0.279385  0.538755\n",
       "999  0.457991  0.017755  0.714113  ...  0.692299  0.816777  0.307592\n",
       "\n",
       "[1000 rows x 10 columns]"
      ]
     },
     "execution_count": 8,
     "metadata": {
      "tags": []
     },
     "output_type": "execute_result"
    }
   ],
   "source": [
    "data # here we need to detect which features points are fraud"
   ]
  },
  {
   "cell_type": "code",
   "execution_count": 0,
   "metadata": {
    "colab": {},
    "colab_type": "code",
    "id": "N3kpqoA_OhPR"
   },
   "outputs": [],
   "source": [
    "model1=create_model('iforest') # one of the technique of anomaly detection"
   ]
  },
  {
   "cell_type": "code",
   "execution_count": 11,
   "metadata": {
    "colab": {
     "base_uri": "https://localhost:8080/",
     "height": 817
    },
    "colab_type": "code",
    "id": "eCOZzDBLOs2k",
    "outputId": "48fdb62f-b111-4f27-9498-76f66f8a2339"
   },
   "outputs": [
    {
     "data": {
      "text/html": [
       "        <script type=\"text/javascript\">\n",
       "        window.PlotlyConfig = {MathJaxConfig: 'local'};\n",
       "        if (window.MathJax) {MathJax.Hub.Config({SVG: {font: \"STIX-Web\"}});}\n",
       "        if (typeof require !== 'undefined') {\n",
       "        require.undef(\"plotly\");\n",
       "        requirejs.config({\n",
       "            paths: {\n",
       "                'plotly': ['https://cdn.plot.ly/plotly-latest.min']\n",
       "            }\n",
       "        });\n",
       "        require(['plotly'], function(Plotly) {\n",
       "            window._Plotly = Plotly;\n",
       "        });\n",
       "        }\n",
       "        </script>\n",
       "        "
      ]
     },
     "metadata": {
      "tags": []
     },
     "output_type": "display_data"
    },
    {
     "data": {
      "application/vnd.plotly.v1+json": {
       "config": {
        "plotlyServerURL": "https://plot.ly"
       },
       "data": [
        {
         "customdata": [
          [
           0.263995357
          ],
          [
           0.546092303
          ],
          [
           0.33671410399999996
          ],
          [
           0.092107835
          ],
          [
           0.325261175
          ],
          [
           0.212464853
          ],
          [
           0.258565714
          ],
          [
           0.869236755
          ],
          [
           0.197077957
          ],
          [
           0.292984504
          ],
          [
           0.82178316
          ],
          [
           0.796622959
          ],
          [
           0.045577010999999994
          ],
          [
           0.613660351
          ],
          [
           0.9507445659999999
          ],
          [
           0.33634633700000005
          ],
          [
           0.034440667
          ],
          [
           0.741544275
          ],
          [
           0.18443265
          ],
          [
           0.664514943
          ],
          [
           0.16282485800000002
          ],
          [
           0.729838445
          ],
          [
           0.62837389
          ],
          [
           0.057883660999999996
          ],
          [
           0.445534827
          ],
          [
           0.80183695
          ],
          [
           0.27709612
          ],
          [
           0.228634015
          ],
          [
           0.834860657
          ],
          [
           0.6697665110000001
          ],
          [
           0.532527349
          ],
          [
           0.17045907100000002
          ],
          [
           0.5102884679999999
          ],
          [
           0.977561989
          ],
          [
           0.249775993
          ],
          [
           0.9755006820000001
          ],
          [
           0.613701727
          ],
          [
           0.16742036300000002
          ],
          [
           0.537472516
          ],
          [
           0.379899131
          ],
          [
           0.633897303
          ],
          [
           0.633960424
          ],
          [
           0.5499746529999999
          ],
          [
           0.178172988
          ],
          [
           0.85563814
          ],
          [
           0.321796672
          ],
          [
           0.8174905370000001
          ],
          [
           0.254879417
          ],
          [
           0.344140513
          ],
          [
           0.8061457259999999
          ],
          [
           0.27708167100000003
          ],
          [
           0.544328519
          ],
          [
           0.07708393
          ],
          [
           0.273081458
          ],
          [
           0.390877336
          ],
          [
           0.349621385
          ],
          [
           0.214549744
          ],
          [
           0.206075222
          ],
          [
           0.86461997
          ],
          [
           0.9817088540000001
          ],
          [
           0.33482964600000004
          ],
          [
           0.648387061
          ],
          [
           0.093643561
          ],
          [
           0.837802698
          ],
          [
           0.7603439670000001
          ],
          [
           0.29140417399999996
          ],
          [
           0.3413454
          ],
          [
           0.7611124840000001
          ],
          [
           0.541899775
          ],
          [
           0.684176639
          ],
          [
           0.983535597
          ],
          [
           0.52081245
          ],
          [
           0.328227724
          ],
          [
           0.09715793800000001
          ],
          [
           0.876088593
          ],
          [
           0.870214512
          ],
          [
           0.656086992
          ],
          [
           0.306791514
          ],
          [
           0.48126734
          ],
          [
           0.259559174
          ],
          [
           0.326123655
          ],
          [
           0.930568042
          ],
          [
           0.6583894
          ],
          [
           0.689992335
          ],
          [
           0.315781109
          ],
          [
           0.5669050929999999
          ],
          [
           0.637526619
          ],
          [
           0.687540723
          ],
          [
           0.324300602
          ],
          [
           0.592704906
          ],
          [
           0.7402531259999999
          ],
          [
           0.5940328770000001
          ],
          [
           0.596452977
          ],
          [
           0.27768081699999997
          ],
          [
           0.258329663
          ],
          [
           0.142460864
          ],
          [
           0.435533461
          ],
          [
           0.7024990440000001
          ],
          [
           0.58897535
          ],
          [
           0.653304374
          ],
          [
           0.336968524
          ],
          [
           0.631244736
          ],
          [
           0.73530076
          ],
          [
           0.050390366
          ],
          [
           0.064264924
          ],
          [
           0.665359476
          ],
          [
           0.917835245
          ],
          [
           0.44651012
          ],
          [
           0.661938199
          ],
          [
           0.43935985299999997
          ],
          [
           0.6875724040000001
          ],
          [
           0.363462248
          ],
          [
           0.6542621820000001
          ],
          [
           0.578553536
          ],
          [
           0.065927945
          ],
          [
           0.550148559
          ],
          [
           0.13918281400000002
          ],
          [
           0.080004635
          ],
          [
           0.278228358
          ],
          [
           0.560124266
          ],
          [
           0.53639864
          ],
          [
           0.42653190399999996
          ],
          [
           0.789109796
          ],
          [
           0.742900474
          ],
          [
           0.901692589
          ],
          [
           0.650337401
          ],
          [
           0.114057311
          ],
          [
           0.260812592
          ],
          [
           0.43991232
          ],
          [
           0.964409284
          ],
          [
           0.184401415
          ],
          [
           0.345145446
          ],
          [
           0.17589458100000002
          ],
          [
           0.312514453
          ],
          [
           0.674131879
          ],
          [
           0.32825045
          ],
          [
           0.598231057
          ],
          [
           0.09259881699999999
          ],
          [
           0.497916521
          ],
          [
           0.419776521
          ],
          [
           0.31217670000000003
          ],
          [
           0.937857107
          ],
          [
           0.049030963
          ],
          [
           0.47610452600000003
          ],
          [
           0.447397526
          ],
          [
           0.295806058
          ],
          [
           0.737363977
          ],
          [
           0.625896253
          ],
          [
           0.408813429
          ],
          [
           0.437511156
          ],
          [
           0.691351375
          ],
          [
           0.935555275
          ],
          [
           0.437846654
          ],
          [
           0.072217715
          ],
          [
           0.67636067
          ],
          [
           0.468883999
          ],
          [
           0.543820644
          ],
          [
           0.6555226470000001
          ],
          [
           0.6935289240000001
          ],
          [
           0.10887831199999999
          ],
          [
           0.285463743
          ],
          [
           0
          ],
          [
           0.706495497
          ],
          [
           0.273530633
          ],
          [
           0.292320271
          ],
          [
           0.673984307
          ],
          [
           0.12612182800000002
          ],
          [
           0.9467074590000001
          ],
          [
           0.9363388979999999
          ],
          [
           0.8537553640000001
          ],
          [
           0.7060713609999999
          ],
          [
           0.693682186
          ],
          [
           0.508527882
          ],
          [
           0.34717038899999997
          ],
          [
           0.704154263
          ],
          [
           0.658730088
          ],
          [
           0.155841557
          ],
          [
           0.311085435
          ],
          [
           0.281135347
          ],
          [
           0.094587802
          ],
          [
           0.6832609540000001
          ],
          [
           0.9077292509999999
          ],
          [
           0.29151267399999997
          ],
          [
           0.752734459
          ],
          [
           0.93482964
          ],
          [
           0.071413953
          ],
          [
           0.5948963270000001
          ],
          [
           0.404672015
          ],
          [
           0.13837621
          ],
          [
           0.7473384679999999
          ],
          [
           0.530882486
          ],
          [
           0.282649594
          ],
          [
           0.699335734
          ],
          [
           0.056111250999999994
          ],
          [
           0.855234998
          ],
          [
           0.07789512700000001
          ],
          [
           0.891649583
          ],
          [
           0.38674227899999997
          ],
          [
           0.27113158
          ],
          [
           0.958888961
          ],
          [
           0.085120869
          ],
          [
           0.5269022489999999
          ],
          [
           0.066577785
          ],
          [
           0.841506738
          ],
          [
           0.255342095
          ],
          [
           0.060545771
          ],
          [
           0.073385869
          ],
          [
           0.187493723
          ],
          [
           0.858365688
          ],
          [
           0.090640352
          ],
          [
           0.7097252270000001
          ],
          [
           0.631300647
          ],
          [
           0.24750447399999997
          ],
          [
           0.822843584
          ],
          [
           0.373476759
          ],
          [
           0.625538582
          ],
          [
           0.292951715
          ],
          [
           0.299730324
          ],
          [
           0.25121407
          ],
          [
           0.344480551
          ],
          [
           0.293064767
          ],
          [
           0.7628032240000001
          ],
          [
           0.7384708040000001
          ],
          [
           0.674883265
          ],
          [
           0.719151612
          ],
          [
           0.13098021599999998
          ],
          [
           0.511328036
          ],
          [
           0.04492903
          ],
          [
           0.560914449
          ],
          [
           0.7440406409999999
          ],
          [
           0.266961634
          ],
          [
           0.644231853
          ],
          [
           0.038113352
          ],
          [
           0.05715529900000001
          ],
          [
           0.34139246100000004
          ],
          [
           0.7204636320000001
          ],
          [
           0.402878236
          ],
          [
           0.635148967
          ],
          [
           0.320729467
          ],
          [
           0.09120969400000001
          ],
          [
           0.23414609
          ],
          [
           0.8902211309999999
          ],
          [
           0.602170884
          ],
          [
           0.633652055
          ],
          [
           0.806240837
          ],
          [
           0.739731184
          ],
          [
           0.465231269
          ],
          [
           0.7321109
          ],
          [
           0.373874305
          ],
          [
           0.501587947
          ],
          [
           0.11538315800000001
          ],
          [
           0.7319466040000001
          ],
          [
           0.41829872799999995
          ],
          [
           0.062259590999999996
          ],
          [
           0.391496379
          ],
          [
           0.35984929
          ],
          [
           0.24523562699999998
          ],
          [
           0.610028339
          ],
          [
           0.43540360200000006
          ],
          [
           0.434309675
          ],
          [
           0.523763344
          ],
          [
           0.17118786600000002
          ],
          [
           0.18773430300000002
          ],
          [
           0.945014638
          ],
          [
           0.027851097000000002
          ],
          [
           0.68445706
          ],
          [
           0.178014532
          ],
          [
           0.643427879
          ],
          [
           0.59588355
          ],
          [
           0.372361682
          ],
          [
           0.586103584
          ],
          [
           0.271658852
          ],
          [
           0.59951107
          ],
          [
           0.468363088
          ],
          [
           0.314515565
          ],
          [
           0.21893726
          ],
          [
           0.254716562
          ],
          [
           0.25612815
          ],
          [
           0.602259755
          ],
          [
           0.134381075
          ],
          [
           0.513887424
          ],
          [
           0.624241636
          ],
          [
           0.160251854
          ],
          [
           0.580708108
          ],
          [
           0.270540486
          ],
          [
           0.832919932
          ],
          [
           0.93032134
          ],
          [
           0.719157884
          ],
          [
           0.886720033
          ],
          [
           0.098792281
          ],
          [
           0.787174286
          ],
          [
           0.365592376
          ],
          [
           0.719576193
          ],
          [
           0.8058956
          ],
          [
           0.7555783340000001
          ],
          [
           0.526005909
          ],
          [
           0.68880424
          ],
          [
           0.22111531199999998
          ],
          [
           0.739369477
          ],
          [
           0.408440236
          ],
          [
           0.348926542
          ],
          [
           0.433713763
          ],
          [
           0.5964966070000001
          ],
          [
           0.6942953000000001
          ],
          [
           0.7090309659999999
          ],
          [
           0.867652984
          ],
          [
           0.89332545
          ],
          [
           0.746020922
          ],
          [
           0.538284443
          ],
          [
           0.8922193140000001
          ],
          [
           0.935175765
          ],
          [
           0.260527707
          ],
          [
           0.956780449
          ],
          [
           0.204932484
          ],
          [
           0.687733351
          ],
          [
           0.329063619
          ],
          [
           0.632149831
          ],
          [
           0.463744506
          ],
          [
           0.698859621
          ],
          [
           0.385446564
          ],
          [
           0.47997537700000004
          ],
          [
           0.732279108
          ],
          [
           0.3813543
          ],
          [
           0.459326013
          ],
          [
           0.257401434
          ],
          [
           0.665014804
          ],
          [
           0.103399542
          ],
          [
           0.425284413
          ],
          [
           0.943529051
          ],
          [
           0.594750236
          ],
          [
           0.543776817
          ],
          [
           0.18203988
          ],
          [
           0.23584208399999998
          ],
          [
           0.585984497
          ],
          [
           0.762013168
          ],
          [
           0.6849829070000001
          ],
          [
           0.676936933
          ],
          [
           0.290184964
          ],
          [
           0.48106822200000005
          ],
          [
           0.492766033
          ],
          [
           0.22185623399999999
          ],
          [
           0.053875998
          ],
          [
           0.082751144
          ],
          [
           0.385366225
          ],
          [
           0.702513961
          ],
          [
           0.91553156
          ],
          [
           0.082087436
          ],
          [
           0.251280378
          ],
          [
           0.41672181700000005
          ],
          [
           0.277032672
          ],
          [
           0.579539754
          ],
          [
           0.569363476
          ],
          [
           0.133399703
          ],
          [
           0.265045463
          ],
          [
           0.936571901
          ],
          [
           0.252618554
          ],
          [
           0.054033081
          ],
          [
           0.802481439
          ],
          [
           0.528197693
          ],
          [
           0.9515026
          ],
          [
           0.572121173
          ],
          [
           0.752938227
          ],
          [
           0.143857535
          ],
          [
           0.513484576
          ],
          [
           0.313322389
          ],
          [
           0.6877973959999999
          ],
          [
           0.37705984
          ],
          [
           0.348226142
          ],
          [
           0.67763282
          ],
          [
           0.24138752100000002
          ],
          [
           0.8506501790000001
          ],
          [
           0.22034810300000002
          ],
          [
           0.476445464
          ],
          [
           0.690324025
          ],
          [
           0.364695946
          ],
          [
           0.6492491970000001
          ],
          [
           0.9437019209999999
          ],
          [
           0.529645971
          ],
          [
           0.299097002
          ],
          [
           0.96696247
          ],
          [
           0.272005242
          ],
          [
           0.314161447
          ],
          [
           0.752020991
          ],
          [
           0.221882453
          ],
          [
           0.7203326729999999
          ],
          [
           0.379204782
          ],
          [
           0.60168653
          ],
          [
           0.582932673
          ],
          [
           0.950809853
          ],
          [
           0.58830141
          ],
          [
           0.880887227
          ],
          [
           0.467857701
          ],
          [
           0.8799021709999999
          ],
          [
           0.619844009
          ],
          [
           0.359002573
          ],
          [
           0.291511278
          ],
          [
           0.694157143
          ],
          [
           0.727960353
          ],
          [
           0.617703921
          ],
          [
           0.39581257
          ],
          [
           0.58317282
          ],
          [
           0.710332374
          ],
          [
           0.253753693
          ],
          [
           0.049412227999999996
          ],
          [
           0.728378695
          ],
          [
           0.432432881
          ],
          [
           0.58612345
          ],
          [
           0.052342373
          ],
          [
           0.053483902
          ],
          [
           0.518729378
          ],
          [
           0.933040208
          ],
          [
           0.7035542840000001
          ],
          [
           0.268989899
          ],
          [
           0.733006927
          ],
          [
           0.44435246700000003
          ],
          [
           0.5833946210000001
          ],
          [
           0.871172692
          ],
          [
           0.42876707799999997
          ],
          [
           0.30046084100000003
          ],
          [
           0.9533294590000001
          ],
          [
           0.606443965
          ],
          [
           0.90986815
          ],
          [
           0.714896449
          ],
          [
           0.49734950899999997
          ],
          [
           0.8530974859999999
          ],
          [
           0.721804145
          ],
          [
           0.303467328
          ],
          [
           0.664485096
          ],
          [
           0.27978062
          ],
          [
           0.569481665
          ],
          [
           0.628628926
          ],
          [
           0.088368123
          ],
          [
           0.733567326
          ],
          [
           0.537436778
          ],
          [
           0.638593691
          ],
          [
           0.954726948
          ],
          [
           0.632202332
          ],
          [
           0.642134651
          ],
          [
           0.744653087
          ],
          [
           0.115714007
          ],
          [
           0.48625007299999995
          ],
          [
           0.440356144
          ],
          [
           0.08272289
          ],
          [
           0.511591027
          ],
          [
           0.394627555
          ],
          [
           0.224394
          ],
          [
           0.626927584
          ],
          [
           0.290254057
          ],
          [
           0.779008053
          ],
          [
           0.86610579
          ],
          [
           0.873326081
          ],
          [
           0.49548916
          ],
          [
           0.594297695
          ],
          [
           0.9182015840000001
          ],
          [
           0.5770427539999999
          ],
          [
           0.019467671000000002
          ],
          [
           0.6702982820000001
          ],
          [
           0.546595316
          ],
          [
           0.591665146
          ],
          [
           0.42155819
          ],
          [
           0.6856085590000001
          ],
          [
           0.340303024
          ],
          [
           0.675626741
          ],
          [
           0.319067345
          ],
          [
           0.38849966399999997
          ],
          [
           0.706949589
          ],
          [
           0.559409515
          ],
          [
           0.687663508
          ],
          [
           0.7088045540000001
          ],
          [
           0.6818880940000001
          ],
          [
           0.42253510899999996
          ],
          [
           0.320004605
          ],
          [
           0.6582813679999999
          ],
          [
           0.634154867
          ],
          [
           0.7773320090000001
          ],
          [
           0.812677205
          ],
          [
           0.074280797
          ],
          [
           0.39600217
          ],
          [
           0.054933913
          ],
          [
           0.825058925
          ],
          [
           0.382642009
          ],
          [
           0.8687298179999999
          ],
          [
           0.588043346
          ],
          [
           0.891551577
          ],
          [
           0.10920046
          ],
          [
           0.647682781
          ],
          [
           0.724342512
          ],
          [
           0.07016304400000001
          ],
          [
           0.280882054
          ],
          [
           0.039113261
          ],
          [
           0.579641592
          ],
          [
           0.639000922
          ],
          [
           0.281745925
          ],
          [
           0.647857744
          ],
          [
           0.6479057970000001
          ],
          [
           0.875226264
          ],
          [
           0.567603305
          ],
          [
           0.262940591
          ],
          [
           0.268026042
          ],
          [
           0.40519133
          ],
          [
           0.479965451
          ],
          [
           0.33552403
          ],
          [
           0.777165379
          ],
          [
           0.42548796299999997
          ],
          [
           0.237986115
          ],
          [
           0.142522971
          ],
          [
           0.724176488
          ],
          [
           0.234698933
          ],
          [
           0.07818228099999999
          ],
          [
           0.855990155
          ],
          [
           0.270251765
          ],
          [
           0.435517841
          ],
          [
           0.762697513
          ],
          [
           0.46448725799999996
          ],
          [
           0.396112685
          ],
          [
           0.37638092100000003
          ],
          [
           0.29459467699999997
          ],
          [
           0.6944921209999999
          ],
          [
           0.622767949
          ],
          [
           0.8475597220000001
          ],
          [
           0.301463054
          ],
          [
           0.912937812
          ],
          [
           0.500017182
          ],
          [
           0.902587935
          ],
          [
           0.304517943
          ],
          [
           0.299165673
          ],
          [
           0.092014087
          ],
          [
           0.488548917
          ],
          [
           0.664664437
          ],
          [
           0.26534954899999996
          ],
          [
           0.723657021
          ],
          [
           0.149262385
          ],
          [
           0.04577339
          ],
          [
           0.69661064
          ],
          [
           0.42181486
          ],
          [
           0.733845785
          ],
          [
           0.418795386
          ],
          [
           0.677443529
          ],
          [
           0.26128360300000003
          ],
          [
           0.268527767
          ],
          [
           0.5443222360000001
          ],
          [
           0.431632036
          ],
          [
           0.981018141
          ],
          [
           0.21498072399999998
          ],
          [
           0.39472999299999995
          ],
          [
           0.122224944
          ],
          [
           0.297496875
          ],
          [
           0.37490443100000004
          ],
          [
           0.68698771
          ],
          [
           0.388549207
          ],
          [
           0.039296071
          ],
          [
           0.73553424
          ],
          [
           0.37929489299999997
          ],
          [
           0.7321233859999999
          ],
          [
           0.33922143899999996
          ],
          [
           0.659450594
          ],
          [
           0.054838642
          ],
          [
           0.640112102
          ],
          [
           0.30714170399999996
          ],
          [
           0.39661190700000004
          ],
          [
           0.420439161
          ],
          [
           0.24171497399999997
          ],
          [
           0.065893153
          ],
          [
           0.9105219370000001
          ],
          [
           0.697163103
          ],
          [
           0.072559853
          ],
          [
           0.81825094
          ],
          [
           0.311888815
          ],
          [
           0.961644609
          ],
          [
           0.816325524
          ],
          [
           0.14647302
          ],
          [
           0.548753945
          ],
          [
           0.946158087
          ],
          [
           0.293992717
          ],
          [
           0.331479643
          ],
          [
           0.9062200309999999
          ],
          [
           0.525540416
          ],
          [
           0.83301411
          ],
          [
           0.514849806
          ],
          [
           0.574609024
          ],
          [
           0.46871185299999996
          ],
          [
           0.71002775
          ],
          [
           0.645973276
          ],
          [
           0.229794416
          ],
          [
           0.551783393
          ],
          [
           0.055822990999999995
          ],
          [
           0.331750941
          ],
          [
           0.715520198
          ],
          [
           0.583924357
          ],
          [
           0.30695769100000003
          ],
          [
           0.7914782370000001
          ],
          [
           0.16423663900000002
          ],
          [
           0.065711219
          ],
          [
           0.948993132
          ],
          [
           0.080423835
          ],
          [
           0.052495426
          ],
          [
           0.566346135
          ],
          [
           0.3630266
          ],
          [
           0.605442195
          ],
          [
           0.6308505839999999
          ],
          [
           0.065791238
          ],
          [
           0.28681707100000003
          ],
          [
           0.685462839
          ],
          [
           0.260853706
          ],
          [
           0.659122429
          ],
          [
           0.44317392200000005
          ],
          [
           0.602063986
          ],
          [
           0.060366910999999995
          ],
          [
           0.781903153
          ],
          [
           0.5145798070000001
          ],
          [
           0.48388621299999995
          ],
          [
           0.600213807
          ],
          [
           0.49736405200000006
          ],
          [
           0.411145245
          ],
          [
           0.116999171
          ],
          [
           0.34189014100000004
          ],
          [
           0.746950848
          ],
          [
           0.39629274600000003
          ],
          [
           0.6221438429999999
          ],
          [
           0.335271141
          ],
          [
           0.140257137
          ],
          [
           0.081620681
          ],
          [
           0.069837569
          ],
          [
           0.46894000799999996
          ],
          [
           0.9908574170000001
          ],
          [
           0.896616832
          ],
          [
           0.255310561
          ],
          [
           0.22464526699999998
          ],
          [
           0.01991825
          ],
          [
           0.296480415
          ],
          [
           0.155458996
          ],
          [
           0.577916714
          ],
          [
           0.9563030309999999
          ],
          [
           0.813464394
          ],
          [
           0.529675785
          ],
          [
           0.287671353
          ],
          [
           0.48039136
          ],
          [
           0.28104482199999997
          ],
          [
           0.633196521
          ],
          [
           0.09332537699999999
          ],
          [
           0.28447398100000004
          ],
          [
           0.052223775
          ],
          [
           0.051129385
          ],
          [
           0.967405608
          ],
          [
           0.040045727999999996
          ],
          [
           0.9085829209999999
          ],
          [
           0.6621174160000001
          ],
          [
           0.42470320899999997
          ],
          [
           0.72207806
          ],
          [
           0.666193327
          ],
          [
           0.509681253
          ],
          [
           0.7513536209999999
          ],
          [
           0.279073124
          ],
          [
           0.074927
          ],
          [
           0.916359535
          ],
          [
           0.31040327
          ],
          [
           0.716604052
          ],
          [
           0.485587085
          ],
          [
           0.30607518100000003
          ],
          [
           0.477558204
          ],
          [
           0.7119239409999999
          ],
          [
           0.066348638
          ],
          [
           0.27453935100000004
          ],
          [
           0.31082252
          ],
          [
           0.47607312700000004
          ],
          [
           0.186795565
          ],
          [
           0.26654207
          ],
          [
           0.070231142
          ],
          [
           0.26951927
          ],
          [
           0.800004713
          ],
          [
           0.27363366699999997
          ],
          [
           0.14647919199999998
          ],
          [
           0.378318951
          ],
          [
           0.373849065
          ],
          [
           0.242170835
          ],
          [
           0.249796488
          ],
          [
           0.066591188
          ],
          [
           0.372956798
          ],
          [
           0.501812291
          ],
          [
           0.313097752
          ],
          [
           0.8802021959999999
          ],
          [
           0.51981893
          ],
          [
           0.364138746
          ],
          [
           0.49268289600000004
          ],
          [
           0.285732652
          ],
          [
           0.890114985
          ],
          [
           0.316419561
          ],
          [
           0.26866354
          ],
          [
           0.771975959
          ],
          [
           0.968888992
          ],
          [
           0.080334377
          ],
          [
           0.7368282209999999
          ],
          [
           0.30055807100000004
          ],
          [
           0.9179503929999999
          ],
          [
           0.465815039
          ],
          [
           0.054036682
          ],
          [
           0.963150123
          ],
          [
           0.08965350300000001
          ],
          [
           0.7076932340000001
          ],
          [
           0.636416037
          ],
          [
           0.539521117
          ],
          [
           0.114757161
          ],
          [
           0.357312419
          ],
          [
           0.67639834
          ],
          [
           0.43482839
          ],
          [
           0.032326387000000005
          ],
          [
           0.711365605
          ],
          [
           0.187486519
          ],
          [
           0.052789653
          ],
          [
           0.5058636129999999
          ],
          [
           0.927431873
          ],
          [
           0.6809842559999999
          ],
          [
           0.882822186
          ],
          [
           0.495705441
          ],
          [
           0.596240398
          ],
          [
           0.320610701
          ],
          [
           0.3413685
          ],
          [
           0.159681797
          ],
          [
           0.318133669
          ],
          [
           0.8393010479999999
          ],
          [
           0.06435925099999999
          ],
          [
           0.470216633
          ],
          [
           0.7762522909999999
          ],
          [
           0.635843383
          ],
          [
           0.62510543
          ],
          [
           0.52959065
          ],
          [
           0.986900166
          ],
          [
           0.078585688
          ],
          [
           0.233284267
          ],
          [
           0.363330957
          ],
          [
           0.7167169809999999
          ],
          [
           0.37588979200000006
          ],
          [
           0.223316889
          ],
          [
           0.299343986
          ],
          [
           0.538595767
          ],
          [
           0.730297124
          ],
          [
           0.66033077
          ],
          [
           0.435296009
          ],
          [
           0.326494313
          ],
          [
           0.854402708
          ],
          [
           0.5734938470000001
          ],
          [
           0.757786135
          ],
          [
           0.704743233
          ],
          [
           0.281575597
          ],
          [
           0.671968208
          ],
          [
           0.313726015
          ],
          [
           0.364338275
          ],
          [
           0.368216396
          ],
          [
           0.38629520700000003
          ],
          [
           0.655971865
          ],
          [
           0.5660252729999999
          ],
          [
           0.424999093
          ],
          [
           0.090110371
          ],
          [
           0.772350538
          ],
          [
           0.331047258
          ],
          [
           0.273716188
          ],
          [
           0.23877568
          ],
          [
           0.37307977200000003
          ],
          [
           0.331185868
          ],
          [
           0.256134531
          ],
          [
           0.678373225
          ],
          [
           0.43463833799999996
          ],
          [
           0.654668307
          ],
          [
           0.986681065
          ],
          [
           0.371520495
          ],
          [
           0.408359618
          ],
          [
           0.40932365
          ],
          [
           0.283412082
          ],
          [
           0.395246531
          ],
          [
           0.010984428000000001
          ],
          [
           0.306013869
          ],
          [
           0.266194806
          ],
          [
           0.299318521
          ],
          [
           0.318293946
          ],
          [
           0.74282591
          ],
          [
           0.09766432900000001
          ],
          [
           0.079666942
          ],
          [
           0.613258767
          ],
          [
           0.99443072
          ],
          [
           0.568835082
          ],
          [
           0.7080345159999999
          ],
          [
           0.37059271899999996
          ],
          [
           0.669867361
          ],
          [
           0.651295625
          ],
          [
           0.462531569
          ],
          [
           0.7196256190000001
          ],
          [
           0.45377248
          ],
          [
           0.394863946
          ],
          [
           0.323974831
          ],
          [
           0.146454724
          ],
          [
           0.7790670409999999
          ],
          [
           0.401828915
          ],
          [
           0.601479585
          ],
          [
           0.856423023
          ],
          [
           0.565242962
          ],
          [
           0.301225108
          ],
          [
           0.282108144
          ],
          [
           0.594378011
          ],
          [
           0.705312368
          ],
          [
           0.5408696279999999
          ],
          [
           0.319249574
          ],
          [
           0.36176613799999996
          ],
          [
           0.625000704
          ],
          [
           0.316287401
          ],
          [
           0.047239021
          ],
          [
           0.801182233
          ],
          [
           0.508474436
          ],
          [
           0.8178934109999999
          ],
          [
           0.399235601
          ],
          [
           0.9740519990000001
          ],
          [
           0.72241535
          ],
          [
           0.039564764
          ],
          [
           0.908684108
          ],
          [
           0.47301013399999997
          ],
          [
           0.7180496279999999
          ],
          [
           0.7634790690000001
          ],
          [
           0.6475965370000001
          ],
          [
           0.8949973859999999
          ],
          [
           0.22282590100000002
          ],
          [
           0.359012234
          ],
          [
           0.944910252
          ],
          [
           0.297877816
          ],
          [
           0.172517997
          ],
          [
           0.556586265
          ],
          [
           0.876481735
          ],
          [
           0.48667784299999994
          ],
          [
           0.459496733
          ],
          [
           0.47412637700000004
          ],
          [
           0.70101144
          ],
          [
           0.337597387
          ],
          [
           0.537578886
          ],
          [
           0.966992448
          ],
          [
           0.056849545
          ],
          [
           0.233249065
          ],
          [
           0.380054711
          ],
          [
           0.602929443
          ],
          [
           0.303847999
          ],
          [
           0.170194553
          ],
          [
           0.972168554
          ],
          [
           0.332168927
          ],
          [
           0.6887286890000001
          ],
          [
           0.110773401
          ],
          [
           0.273352065
          ],
          [
           0.572939678
          ],
          [
           0.491457065
          ],
          [
           0.281389999
          ],
          [
           0.821697261
          ],
          [
           0.6749776829999999
          ],
          [
           0.585134549
          ],
          [
           0.7105961159999999
          ],
          [
           0.040488789
          ],
          [
           0.568054311
          ],
          [
           0.321752928
          ],
          [
           0.611850232
          ],
          [
           0.926096887
          ],
          [
           0.618347428
          ],
          [
           0.667629785
          ],
          [
           0.39773346600000004
          ],
          [
           0.290875487
          ],
          [
           0.594375103
          ],
          [
           0.508255233
          ],
          [
           0.338571357
          ],
          [
           0.43230234700000003
          ],
          [
           0.302221978
          ],
          [
           0.87619819
          ],
          [
           0.080204492
          ],
          [
           0.092333532
          ],
          [
           0.09365644699999999
          ],
          [
           0.6084523510000001
          ],
          [
           0.732654598
          ],
          [
           0.944158855
          ],
          [
           0.26742308
          ],
          [
           0.731124201
          ],
          [
           0.661308553
          ],
          [
           0.38776626200000003
          ],
          [
           0.962585273
          ],
          [
           0.322067067
          ],
          [
           0.6340810929999999
          ],
          [
           0.475345002
          ],
          [
           0.35355897299999994
          ],
          [
           0.8859363159999999
          ],
          [
           0.876798106
          ],
          [
           0.221581064
          ],
          [
           0.394362449
          ],
          [
           0.8050356759999999
          ],
          [
           0.452898486
          ],
          [
           0.592520516
          ],
          [
           0.761026394
          ],
          [
           0.245049023
          ],
          [
           0.37213936299999995
          ],
          [
           0.681054822
          ],
          [
           0.7471431479999999
          ],
          [
           0.9207395290000001
          ],
          [
           0.097207945
          ],
          [
           0.699302998
          ],
          [
           0.721647006
          ],
          [
           0.5353561139999999
          ],
          [
           0.738293805
          ],
          [
           0.7064675509999999
          ],
          [
           0.67395061
          ],
          [
           0.7112122909999999
          ],
          [
           0.302558708
          ],
          [
           0.080097855
          ],
          [
           0.707010837
          ],
          [
           0.512248622
          ],
          [
           0.659627472
          ],
          [
           0.657559694
          ],
          [
           0.100645606
          ],
          [
           0.92665363
          ],
          [
           0.892879338
          ],
          [
           0.839157508
          ],
          [
           0.890959718
          ],
          [
           0.556754471
          ],
          [
           0.960361937
          ],
          [
           0.631037864
          ],
          [
           0.029838065
          ],
          [
           0.278843351
          ],
          [
           0.926157705
          ],
          [
           0.551504258
          ],
          [
           0.485942349
          ],
          [
           0.43723469600000003
          ],
          [
           0.25231801800000003
          ],
          [
           0.515466972
          ],
          [
           0.43725229600000004
          ],
          [
           0.493724207
          ],
          [
           0.83324725
          ],
          [
           0.317521477
          ],
          [
           0.28623456199999997
          ],
          [
           0.726833965
          ],
          [
           0.495667033
          ],
          [
           0.028645255
          ],
          [
           0.31967191699999997
          ],
          [
           0.674344598
          ],
          [
           0.7660371890000001
          ],
          [
           0.65456992
          ],
          [
           0.7565143809999999
          ],
          [
           0.528253719
          ],
          [
           0.38971949100000003
          ],
          [
           0.355087459
          ],
          [
           0.87015202
          ],
          [
           0.7390833059999999
          ],
          [
           0.305761846
          ],
          [
           0.411587673
          ],
          [
           0.063633094
          ],
          [
           0.735409395
          ],
          [
           0.605916669
          ],
          [
           0.539395562
          ],
          [
           0.566183532
          ],
          [
           0.674795186
          ],
          [
           0.070993366
          ],
          [
           0.12526410000000002
          ],
          [
           0.279601492
          ],
          [
           0.952174402
          ],
          [
           0.233806762
          ],
          [
           0.43724742899999997
          ],
          [
           0.925423095
          ],
          [
           0.433498634
          ],
          [
           0.52517902
          ],
          [
           0.088435529
          ],
          [
           0.447677638
          ],
          [
           0.647000631
          ],
          [
           0.9036033370000001
          ],
          [
           0.265790738
          ],
          [
           0.66419695
          ],
          [
           0.498120658
          ],
          [
           0.49018894399999996
          ],
          [
           0.747084187
          ],
          [
           0.906783648
          ],
          [
           0.678770917
          ],
          [
           0.348599859
          ],
          [
           0.294839683
          ],
          [
           0.705691827
          ],
          [
           0.211917931
          ],
          [
           0.063201124
          ],
          [
           0.276699543
          ],
          [
           0.672459395
          ],
          [
           0.8082059490000001
          ],
          [
           0.296538373
          ],
          [
           0.16012686199999998
          ],
          [
           0.439385032
          ],
          [
           0.555951416
          ],
          [
           0.386240112
          ],
          [
           0.158689619
          ],
          [
           0.214499855
          ],
          [
           0.299579429
          ],
          [
           0.569161656
          ],
          [
           0.488614799
          ],
          [
           0.8782950209999999
          ],
          [
           0.649380949
          ],
          [
           0.465713341
          ],
          [
           0.16813774
          ],
          [
           0.87529545
          ],
          [
           0.8411323409999999
          ],
          [
           0.33292081
          ],
          [
           0.5130478589999999
          ],
          [
           0.30505507800000004
          ],
          [
           0.8126269909999999
          ],
          [
           0.25096706
          ],
          [
           0.5024355779999999
          ],
          [
           0.45799074100000003
          ]
         ],
         "hoverlabel": {
          "namelength": 0
         },
         "hovertemplate": "0=%{x}<br>1=%{y}<br>2=%{z}<br>Feature=%{customdata[0]}<br>Label=%{marker.color}",
         "legendgroup": "",
         "marker": {
          "color": [
           0,
           0,
           1,
           1,
           0,
           0,
           0,
           1,
           1,
           0,
           0,
           1,
           0,
           1,
           1,
           0,
           0,
           0,
           1,
           0,
           1,
           0,
           0,
           1,
           1,
           1,
           0,
           0,
           1,
           1,
           0,
           0,
           0,
           1,
           1,
           0,
           0,
           0,
           0,
           0,
           0,
           0,
           0,
           1,
           0,
           0,
           0,
           0,
           0,
           0,
           1,
           1,
           0,
           1,
           0,
           1,
           0,
           0,
           0,
           1,
           0,
           0,
           1,
           1,
           1,
           0,
           1,
           0,
           0,
           0,
           0,
           0,
           0,
           0,
           0,
           0,
           0,
           0,
           0,
           0,
           0,
           0,
           0,
           0,
           0,
           0,
           0,
           0,
           0,
           0,
           0,
           0,
           0,
           0,
           0,
           0,
           0,
           0,
           0,
           0,
           0,
           0,
           0,
           0,
           0,
           0,
           0,
           0,
           0,
           0,
           0,
           0,
           0,
           0,
           0,
           0,
           0,
           0,
           0,
           0,
           0,
           0,
           0,
           0,
           0,
           0,
           0,
           0,
           0,
           0,
           1,
           0,
           0,
           0,
           0,
           0,
           1,
           0,
           0,
           0,
           0,
           0,
           0,
           0,
           0,
           0,
           0,
           0,
           0,
           0,
           0,
           0,
           0,
           0,
           0,
           0,
           0,
           0,
           0,
           0,
           0,
           0,
           0,
           0,
           0,
           0,
           0,
           0,
           0,
           0,
           0,
           0,
           0,
           0,
           0,
           0,
           0,
           0,
           0,
           0,
           0,
           0,
           0,
           0,
           0,
           0,
           0,
           0,
           0,
           0,
           0,
           0,
           0,
           0,
           0,
           0,
           0,
           0,
           0,
           0,
           0,
           0,
           0,
           0,
           0,
           0,
           0,
           0,
           0,
           0,
           0,
           0,
           0,
           0,
           0,
           0,
           0,
           0,
           0,
           0,
           0,
           0,
           0,
           0,
           0,
           0,
           0,
           0,
           0,
           0,
           0,
           0,
           0,
           0,
           0,
           0,
           0,
           0,
           0,
           0,
           0,
           0,
           0,
           0,
           0,
           0,
           0,
           0,
           0,
           0,
           0,
           0,
           0,
           0,
           0,
           0,
           0,
           0,
           0,
           0,
           0,
           0,
           0,
           0,
           0,
           0,
           0,
           0,
           0,
           0,
           0,
           0,
           0,
           0,
           0,
           0,
           0,
           0,
           0,
           0,
           0,
           0,
           0,
           0,
           0,
           0,
           0,
           0,
           0,
           0,
           0,
           0,
           0,
           0,
           0,
           0,
           0,
           0,
           0,
           0,
           0,
           0,
           0,
           0,
           0,
           0,
           0,
           0,
           0,
           0,
           0,
           0,
           0,
           0,
           0,
           0,
           0,
           0,
           0,
           0,
           0,
           0,
           0,
           0,
           0,
           0,
           0,
           0,
           0,
           0,
           0,
           0,
           0,
           0,
           0,
           0,
           0,
           0,
           0,
           0,
           0,
           0,
           0,
           0,
           0,
           0,
           0,
           0,
           0,
           0,
           0,
           0,
           0,
           0,
           0,
           0,
           0,
           0,
           0,
           0,
           0,
           0,
           0,
           0,
           0,
           0,
           0,
           0,
           0,
           0,
           0,
           0,
           0,
           0,
           0,
           0,
           0,
           0,
           0,
           0,
           0,
           0,
           0,
           0,
           0,
           0,
           0,
           0,
           0,
           0,
           0,
           0,
           0,
           0,
           0,
           0,
           0,
           0,
           0,
           0,
           0,
           0,
           0,
           0,
           0,
           0,
           0,
           0,
           0,
           0,
           0,
           0,
           1,
           0,
           0,
           0,
           0,
           0,
           0,
           0,
           0,
           0,
           0,
           0,
           0,
           0,
           0,
           0,
           0,
           0,
           0,
           0,
           0,
           0,
           0,
           0,
           0,
           0,
           0,
           0,
           0,
           0,
           0,
           0,
           0,
           0,
           0,
           0,
           0,
           0,
           0,
           1,
           0,
           0,
           0,
           0,
           0,
           0,
           0,
           0,
           0,
           0,
           0,
           0,
           0,
           0,
           0,
           0,
           0,
           0,
           0,
           0,
           0,
           0,
           0,
           0,
           0,
           0,
           0,
           0,
           0,
           0,
           0,
           0,
           0,
           0,
           0,
           0,
           0,
           0,
           0,
           0,
           0,
           0,
           0,
           0,
           0,
           0,
           0,
           0,
           0,
           0,
           0,
           0,
           0,
           0,
           0,
           0,
           0,
           0,
           0,
           0,
           0,
           0,
           0,
           0,
           0,
           0,
           0,
           0,
           0,
           0,
           0,
           1,
           0,
           0,
           0,
           0,
           0,
           0,
           0,
           0,
           0,
           0,
           0,
           0,
           0,
           0,
           0,
           0,
           0,
           0,
           0,
           0,
           0,
           0,
           0,
           0,
           0,
           0,
           0,
           0,
           0,
           0,
           0,
           0,
           0,
           0,
           0,
           0,
           0,
           0,
           0,
           0,
           0,
           0,
           0,
           0,
           0,
           0,
           0,
           0,
           0,
           0,
           0,
           0,
           0,
           0,
           0,
           0,
           0,
           0,
           0,
           0,
           0,
           0,
           0,
           0,
           0,
           0,
           0,
           0,
           0,
           0,
           0,
           0,
           0,
           0,
           0,
           0,
           0,
           0,
           0,
           0,
           0,
           0,
           0,
           0,
           0,
           0,
           0,
           0,
           0,
           0,
           0,
           0,
           0,
           0,
           0,
           0,
           0,
           0,
           0,
           0,
           0,
           0,
           0,
           0,
           0,
           0,
           0,
           0,
           0,
           0,
           0,
           0,
           0,
           0,
           0,
           0,
           0,
           0,
           0,
           0,
           0,
           0,
           0,
           0,
           0,
           0,
           0,
           0,
           0,
           0,
           0,
           0,
           0,
           0,
           0,
           0,
           0,
           0,
           0,
           0,
           0,
           0,
           0,
           0,
           0,
           0,
           1,
           0,
           0,
           0,
           0,
           0,
           0,
           0,
           0,
           0,
           0,
           0,
           0,
           0,
           0,
           0,
           0,
           0,
           0,
           0,
           0,
           0,
           0,
           0,
           0,
           0,
           0,
           0,
           0,
           0,
           1,
           1,
           0,
           1,
           0,
           0,
           0,
           1,
           1,
           0,
           1,
           0,
           1,
           1,
           0,
           0,
           0,
           1,
           1,
           0,
           1,
           0,
           1,
           1,
           1,
           0,
           0,
           0,
           1,
           0,
           0,
           0,
           0,
           0,
           0,
           0,
           0,
           0,
           0,
           0,
           0,
           0,
           0,
           0,
           0,
           0,
           0,
           0,
           0,
           0,
           0,
           0,
           0,
           0,
           0,
           0,
           0,
           0,
           0,
           0,
           0,
           0,
           0,
           0,
           0,
           0,
           0,
           0,
           0,
           0,
           0,
           0,
           0,
           0,
           0,
           0,
           0,
           0,
           0,
           0,
           0,
           0,
           0,
           0,
           0,
           0,
           0,
           0,
           0,
           0,
           1,
           0,
           0,
           0,
           0,
           0,
           0,
           0,
           0,
           1,
           0,
           0,
           0,
           0,
           0,
           0,
           0,
           0,
           0,
           0,
           0,
           0,
           0,
           0,
           0,
           0,
           0,
           0,
           0,
           0,
           0,
           0,
           0,
           0,
           0,
           0,
           0,
           0,
           0,
           0,
           0,
           0,
           0,
           0,
           0,
           0,
           0,
           0,
           0,
           0,
           0,
           0,
           0,
           0,
           0,
           0,
           0,
           0,
           0,
           0,
           0,
           0,
           0,
           0,
           0,
           0,
           0,
           0,
           0,
           0,
           0,
           0,
           0,
           0,
           0,
           0,
           0,
           0,
           0,
           0,
           0,
           0,
           0,
           0,
           0,
           0,
           0,
           0,
           0,
           0,
           0,
           0,
           0,
           0,
           0,
           0,
           0,
           0,
           0,
           0,
           0,
           0,
           0,
           0,
           0,
           0,
           0,
           0,
           0,
           0,
           0,
           0,
           0,
           0,
           0,
           0,
           0,
           0,
           0,
           0,
           0,
           0,
           0,
           0,
           0,
           0,
           0,
           0,
           0,
           0,
           0,
           0,
           0,
           0,
           0,
           0,
           0,
           0,
           0,
           0,
           0,
           0,
           0,
           0,
           0,
           0,
           0,
           0,
           0,
           0,
           0,
           0,
           0,
           0,
           0,
           0,
           0,
           0,
           0,
           0,
           0,
           0,
           1,
           0,
           0,
           0,
           0,
           0,
           0,
           0,
           0,
           0,
           0,
           0,
           0,
           0,
           0,
           0,
           0,
           0,
           0,
           0,
           0,
           0,
           0,
           0,
           0,
           0,
           0,
           0,
           0,
           0,
           0,
           0,
           0,
           0,
           0,
           0,
           0,
           0,
           0,
           0,
           0,
           0,
           0,
           0,
           0,
           0,
           0,
           0
          ],
          "coloraxis": "coloraxis",
          "opacity": 0.7,
          "symbol": "circle"
         },
         "mode": "markers",
         "name": "",
         "scene": "scene",
         "showlegend": false,
         "type": "scatter3d",
         "x": [
          -5.172070503234863,
          6.567863941192627,
          -11.08640193939209,
          2.091864824295044,
          -11.475711822509766,
          3.264720916748047,
          -0.035534366965293884,
          6.189387321472168,
          2.833822250366211,
          -6.302335262298584,
          8.843596458435059,
          -11.106990814208984,
          0.4838014245033264,
          -5.706056594848633,
          -2.906578540802002,
          -2.892908811569214,
          0.5855433344841003,
          9.007715225219727,
          -11.177383422851562,
          1.680086612701416,
          3.4111368656158447,
          -8.221807479858398,
          -6.348428249359131,
          3.775348663330078,
          1.0963383913040161,
          -7.133749008178711,
          -10.703300476074219,
          1.1548118591308594,
          -3.1156749725341797,
          0.5722289681434631,
          2.393404722213745,
          5.757721900939941,
          -4.940751075744629,
          -0.8643338680267334,
          4.078719139099121,
          -6.605527400970459,
          1.9032925367355347,
          0.6994409561157227,
          -7.626889228820801,
          4.582253932952881,
          4.207766532897949,
          -0.6457563042640686,
          5.252878665924072,
          -0.5509009957313538,
          -2.1351828575134277,
          -2.639202356338501,
          -1.4474977254867554,
          3.4462573528289795,
          -10.990218162536621,
          7.548726558685303,
          4.566123008728027,
          -11.072874069213867,
          1.0137022733688354,
          -2.718764543533325,
          1.3687127828598022,
          7.217099666595459,
          5.567005157470703,
          1.1738251447677612,
          -0.4205830991268158,
          -7.611582279205322,
          3.420102834701538,
          4.9716105461120605,
          -3.3118886947631836,
          -0.015196605585515499,
          8.076876640319824,
          -1.3078508377075195,
          7.6078338623046875,
          1.4525322914123535,
          -10.053498268127441,
          4.829071521759033,
          -0.8990634083747864,
          2.6319026947021484,
          -8.549166679382324,
          3.3032195568084717,
          -11.221236228942871,
          -6.07223653793335,
          -7.865767955780029,
          -1.1627470254898071,
          -10.858922004699707,
          -9.164412498474121,
          -8.570584297180176,
          -10.053001403808594,
          -6.814739227294922,
          4.958174705505371,
          3.00930118560791,
          6.7602128982543945,
          7.694077968597412,
          5.434055805206299,
          7.9464287757873535,
          -11.145432472229004,
          -7.924534320831299,
          7.115289211273193,
          5.344712734222412,
          0.41472285985946655,
          7.063421726226807,
          -3.3824782371520996,
          -0.6342672109603882,
          7.55615234375,
          2.7174060344696045,
          -7.095778465270996,
          -9.35645580291748,
          5.657309532165527,
          6.841932773590088,
          0.7560370564460754,
          -1.270527720451355,
          -3.402876138687134,
          -0.585796594619751,
          10.181900978088379,
          -12.109782218933105,
          -0.6706387400627136,
          -12.612716674804688,
          -10.163351058959961,
          8.911805152893066,
          -4.926385402679443,
          -11.159360885620117,
          -11.604613304138184,
          2.5991342067718506,
          0.16745036840438843,
          1.8355530500411987,
          1.6047532558441162,
          -11.592034339904785,
          7.712921142578125,
          9.402300834655762,
          6.118226051330566,
          -3.42293643951416,
          6.242425441741943,
          8.727066993713379,
          1.8886463642120361,
          3.4243552684783936,
          7.1459736824035645,
          6.7967119216918945,
          -0.3045770227909088,
          3.923952579498291,
          3.7621428966522217,
          5.555448055267334,
          -5.359686374664307,
          -8.36709213256836,
          1.3719457387924194,
          4.461349010467529,
          4.205993175506592,
          4.098098278045654,
          -10.743670463562012,
          1.0788222551345825,
          -8.777753829956055,
          0.7768310308456421,
          -6.378955841064453,
          6.453939437866211,
          3.7844460010528564,
          4.853758811950684,
          1.0096126794815063,
          -12.886534690856934,
          -9.655137062072754,
          9.74876880645752,
          1.1405234336853027,
          -7.923469066619873,
          -0.0642082616686821,
          8.144704818725586,
          5.973703384399414,
          -9.21781063079834,
          3.090428590774536,
          2.2866384983062744,
          3.1984682083129883,
          -12.937564849853516,
          -10.855917930603027,
          2.1966805458068848,
          6.676661014556885,
          3.1998589038848877,
          -0.2831909954547882,
          -6.5747785568237305,
          -2.540858745574951,
          -0.9285538792610168,
          7.686437129974365,
          2.370340347290039,
          -10.128814697265625,
          7.3243727684021,
          6.083348751068115,
          2.0752060413360596,
          -9.621450424194336,
          5.031903266906738,
          1.7143044471740723,
          8.337053298950195,
          5.439599514007568,
          7.510748386383057,
          2.5872058868408203,
          0.6962034702301025,
          1.7460108995437622,
          -1.4771432876586914,
          6.309362411499023,
          -7.110428810119629,
          -9.968339920043945,
          4.4803571701049805,
          -9.973540306091309,
          7.395044326782227,
          -11.232715606689453,
          5.499727725982666,
          1.0604580640792847,
          9.266888618469238,
          10.968634605407715,
          -10.76695728302002,
          8.094837188720703,
          6.411534309387207,
          2.847360610961914,
          8.06633472442627,
          -7.087313175201416,
          -10.790292739868164,
          5.878448963165283,
          -9.925113677978516,
          6.855674743652344,
          5.953778266906738,
          2.5733642578125,
          8.454665184020996,
          -2.5861823558807373,
          -2.4441263675689697,
          -11.995906829833984,
          7.866129398345947,
          7.422831058502197,
          3.210538864135742,
          -0.9600857496261597,
          -1.9291434288024902,
          4.651511192321777,
          -11.588933944702148,
          7.507224082946777,
          -7.454753875732422,
          -12.361285209655762,
          5.7907185554504395,
          -10.674518585205078,
          5.850524425506592,
          -6.887347221374512,
          5.37194299697876,
          -3.292832612991333,
          1.7163145542144775,
          5.535931587219238,
          2.4425172805786133,
          1.5647820234298706,
          0.1930292695760727,
          7.962435245513916,
          1.8291155099868774,
          -9.134218215942383,
          1.8980306386947632,
          -9.998947143554688,
          7.190244674682617,
          10.099019050598145,
          -7.364946365356445,
          4.328770637512207,
          4.729880332946777,
          6.038036823272705,
          -6.267381191253662,
          -12.969744682312012,
          5.2813825607299805,
          -7.080699920654297,
          1.8361682891845703,
          5.148255348205566,
          2.347388982772827,
          3.5962274074554443,
          -4.405348777770996,
          4.188466548919678,
          -6.2035088539123535,
          3.2624671459198,
          -3.3011348247528076,
          0.5920276045799255,
          -8.209053993225098,
          4.754883766174316,
          -10.658496856689453,
          7.715260028839111,
          0.5168110132217407,
          4.5049214363098145,
          1.6386966705322266,
          5.125932693481445,
          -12.113411903381348,
          12.308931350708008,
          10.339630126953125,
          5.9079132080078125,
          -8.114296913146973,
          -7.854930877685547,
          2.1672720909118652,
          4.222919940948486,
          -3.6316730976104736,
          -10.142460823059082,
          9.405399322509766,
          -6.84268045425415,
          5.39534854888916,
          -7.492600440979004,
          -5.591355323791504,
          -4.278894424438477,
          -10.456808090209961,
          8.269755363464355,
          4.420382499694824,
          7.146971702575684,
          4.588094711303711,
          -9.9829740524292,
          -12.203653335571289,
          9.294132232666016,
          -0.7422466278076172,
          7.420078277587891,
          5.300570487976074,
          6.092280864715576,
          5.4298481941223145,
          -11.837191581726074,
          1.4088175296783447,
          -5.651785373687744,
          5.9143900871276855,
          1.8928369283676147,
          -0.8962869048118591,
          4.482458114624023,
          3.3669142723083496,
          -11.026881217956543,
          9.158479690551758,
          -11.407694816589355,
          3.9082422256469727,
          1.1919541358947754,
          1.0066667795181274,
          2.4942967891693115,
          4.831089019775391,
          -9.279842376708984,
          9.103947639465332,
          -7.306432723999023,
          -2.243168830871582,
          2.305799722671509,
          -10.950947761535645,
          7.593007564544678,
          6.662261486053467,
          -7.170405387878418,
          2.804752826690674,
          4.448110103607178,
          -12.718088150024414,
          -7.401978492736816,
          0.08221033215522766,
          2.560356855392456,
          -4.533545017242432,
          4.155167102813721,
          4.848628997802734,
          -2.8158469200134277,
          4.892191410064697,
          -1.9759083986282349,
          6.004347801208496,
          -7.065213680267334,
          6.059574127197266,
          -5.3484110832214355,
          -1.1020047664642334,
          -3.746555805206299,
          -6.4640069007873535,
          -6.34757661819458,
          1.8002381324768066,
          1.8236082792282104,
          5.266348838806152,
          -5.548985004425049,
          3.07829213142395,
          4.1225409507751465,
          2.190608024597168,
          -2.377422571182251,
          4.418402671813965,
          -7.275052547454834,
          -0.10971785336732864,
          5.901934623718262,
          4.387650012969971,
          -5.994170665740967,
          2.6835460662841797,
          5.920022964477539,
          -2.8944294452667236,
          -7.608471393585205,
          6.709813117980957,
          7.950819492340088,
          0.4323181211948395,
          4.136443138122559,
          2.8920507431030273,
          -13.054828643798828,
          -0.617458701133728,
          2.112816095352173,
          3.4957571029663086,
          10.36707878112793,
          6.532622814178467,
          7.303709506988525,
          -8.908987998962402,
          -4.267800331115723,
          2.693408727645874,
          6.625617504119873,
          -12.271068572998047,
          3.4467029571533203,
          7.076157093048096,
          -9.45193862915039,
          4.02227783203125,
          3.187117338180542,
          -11.425783157348633,
          -7.896097660064697,
          6.929854393005371,
          -0.869380533695221,
          -1.088046908378601,
          0.08133596926927567,
          8.082188606262207,
          -10.922919273376465,
          6.126978397369385,
          -1.2552380561828613,
          -8.007225036621094,
          -9.159809112548828,
          0.7172957062721252,
          6.086187362670898,
          -3.310718059539795,
          4.135210037231445,
          -6.850356578826904,
          -5.6982645988464355,
          1.6503151655197144,
          6.68512487411499,
          2.2665200233459473,
          6.323015213012695,
          4.036364555358887,
          4.252195358276367,
          -8.368634223937988,
          2.1167163848876953,
          3.763838052749634,
          9.351869583129883,
          5.78331184387207,
          -9.945374488830566,
          -0.8606168031692505,
          -2.9256153106689453,
          8.725530624389648,
          5.514507293701172,
          7.11916971206665,
          2.720984935760498,
          2.6196815967559814,
          -5.419691562652588,
          -11.095723152160645,
          8.837855339050293,
          7.801663398742676,
          5.201911449432373,
          -6.502786159515381,
          5.203334808349609,
          1.4747296571731567,
          3.8686649799346924,
          -7.810909748077393,
          -7.280496120452881,
          -11.36401653289795,
          0.9885246157646179,
          4.506521701812744,
          3.0692050457000732,
          -1.6445677280426025,
          7.9252028465271,
          1.642605185508728,
          -8.07632064819336,
          -12.195765495300293,
          -10.80289363861084,
          -4.142539024353027,
          -11.597146987915039,
          -10.999283790588379,
          -7.248137474060059,
          6.462387561798096,
          2.0951409339904785,
          -0.13313651084899902,
          3.5140721797943115,
          -6.421730041503906,
          6.842586994171143,
          6.44655179977417,
          -8.673791885375977,
          5.8392462730407715,
          -11.706515312194824,
          8.152111053466797,
          8.144917488098145,
          6.770788669586182,
          -8.266430854797363,
          -10.902482032775879,
          -9.198655128479004,
          7.492169380187988,
          -9.586562156677246,
          6.404049873352051,
          -7.419255256652832,
          4.14434289932251,
          -8.140880584716797,
          -12.104231834411621,
          1.2323007583618164,
          6.312799453735352,
          -7.1311140060424805,
          -11.244097709655762,
          -0.37119683623313904,
          7.781050205230713,
          -6.419682025909424,
          6.871345520019531,
          4.994481563568115,
          1.5943354368209839,
          2.1546571254730225,
          -3.927903890609741,
          4.406083106994629,
          4.495020389556885,
          5.699729919433594,
          2.9541141986846924,
          -6.0068583488464355,
          2.0794999599456787,
          -7.353428840637207,
          8.577348709106445,
          -8.105484008789062,
          -5.587320327758789,
          -10.849167823791504,
          -12.717439651489258,
          6.749510288238525,
          -0.11029405146837234,
          -1.6067943572998047,
          -7.395670413970947,
          6.148251056671143,
          9.89057731628418,
          4.573567867279053,
          2.671693801879883,
          -11.450434684753418,
          4.637560844421387,
          1.9979292154312134,
          -8.076162338256836,
          8.11400032043457,
          -7.2818427085876465,
          -10.094378471374512,
          -10.48150634765625,
          3.0464491844177246,
          -8.68833065032959,
          4.5560760498046875,
          -11.085309982299805,
          5.635837554931641,
          10.314281463623047,
          -2.9741673469543457,
          -10.569591522216797,
          4.229538917541504,
          1.391736388206482,
          -10.532858848571777,
          4.736577987670898,
          10.10113525390625,
          -9.986726760864258,
          -5.151458263397217,
          -1.9521487951278687,
          -4.065280914306641,
          -2.45835280418396,
          3.6095917224884033,
          -6.866218566894531,
          1.9695979356765747,
          6.9356608390808105,
          -8.451790809631348,
          7.0465779304504395,
          -1.1160669326782227,
          3.4480535984039307,
          6.505441665649414,
          6.353600025177002,
          1.513279676437378,
          8.38811206817627,
          -7.446979999542236,
          -1.215628981590271,
          11.946274757385254,
          5.176937580108643,
          4.808351039886475,
          6.003331661224365,
          4.263197898864746,
          4.512270927429199,
          4.220637798309326,
          -5.373930931091309,
          4.082843780517578,
          5.39769172668457,
          -5.579675674438477,
          1.152707815170288,
          -4.724464416503906,
          -9.631484985351562,
          -9.189631462097168,
          4.208792209625244,
          4.866762638092041,
          3.475694179534912,
          -9.9346923828125,
          1.2666393518447876,
          4.3858561515808105,
          -7.981020450592041,
          -1.5975905656814575,
          3.9623944759368896,
          7.700575828552246,
          3.2004969120025635,
          -9.302538871765137,
          6.536769866943359,
          2.359729766845703,
          7.310030460357666,
          7.985967636108398,
          -6.5667243003845215,
          7.186379432678223,
          4.938790321350098,
          -2.6715445518493652,
          6.303512096405029,
          -0.044549111276865005,
          2.872140407562256,
          4.705740451812744,
          -4.946620941162109,
          -12.713369369506836,
          -10.088770866394043,
          -12.84729290008545,
          -4.952658653259277,
          2.0148394107818604,
          4.1343841552734375,
          -9.718158721923828,
          -7.8543829917907715,
          8.12016487121582,
          4.345052719116211,
          -0.6579620242118835,
          7.199228763580322,
          2.7154881954193115,
          3.1393985748291016,
          4.271760940551758,
          3.404273748397827,
          0.912058413028717,
          4.23911190032959,
          -2.0296356678009033,
          3.172520399093628,
          -7.319136142730713,
          2.227829933166504,
          6.2097601890563965,
          3.951601266860962,
          0.9702511429786682,
          5.484004974365234,
          4.3613457679748535,
          2.9611523151397705,
          -3.8178958892822266,
          2.3544554710388184,
          5.001723289489746,
          -2.0091090202331543,
          -11.062125205993652,
          -10.76585578918457,
          -7.311004161834717,
          -6.543141841888428,
          3.431358814239502,
          9.309255599975586,
          9.048365592956543,
          -2.5440335273742676,
          -8.117981910705566,
          1.3729220628738403,
          1.6200263500213623,
          1.1583698987960815,
          3.9137234687805176,
          -4.432370185852051,
          2.9182353019714355,
          2.2766592502593994,
          -12.079010963439941,
          3.317584991455078,
          -7.991217136383057,
          -0.178146630525589,
          10.27128791809082,
          -10.237531661987305,
          -5.96726655960083,
          -11.021166801452637,
          -1.3931947946548462,
          -0.4761587083339691,
          1.7533780336380005,
          8.237679481506348,
          2.7666449546813965,
          -10.74163818359375,
          2.635115385055542,
          1.371335506439209,
          -10.133641242980957,
          -3.7732155323028564,
          -13.465201377868652,
          -7.702068328857422,
          -4.85667610168457,
          1.7290362119674683,
          -7.715004920959473,
          5.899349212646484,
          6.298003196716309,
          4.0447468757629395,
          2.9345974922180176,
          6.486624717712402,
          4.191656589508057,
          -7.128760814666748,
          -4.6705322265625,
          0.5353617072105408,
          -0.5649967789649963,
          0.25714027881622314,
          2.144972085952759,
          3.9864251613616943,
          -5.845700263977051,
          4.566091060638428,
          1.910176157951355,
          0.5412382483482361,
          3.35194730758667,
          11.172642707824707,
          5.949650764465332,
          4.819113731384277,
          -5.688413143157959,
          1.5347970724105835,
          1.4059662818908691,
          2.940934896469116,
          1.8687412738800049,
          4.019942760467529,
          7.433109283447266,
          4.009487628936768,
          3.84912109375,
          -6.074230194091797,
          5.276487350463867,
          -6.975327968597412,
          2.508859395980835,
          1.7567213773727417,
          5.735662937164307,
          -6.224562168121338,
          4.179258823394775,
          7.864306926727295,
          0.0070597222074866295,
          -3.8383166790008545,
          1.6700587272644043,
          -1.3771727085113525,
          8.340068817138672,
          8.391371726989746,
          2.7546839714050293,
          -8.090190887451172,
          -10.581759452819824,
          -9.987013816833496,
          -2.026066303253174,
          9.82475757598877,
          -12.12710189819336,
          -5.729544162750244,
          -3.144712209701538,
          -4.932907581329346,
          6.9096784591674805,
          6.646441459655762,
          4.6203131675720215,
          0.3043048679828644,
          -0.6899973750114441,
          -1.0826219320297241,
          6.1501851081848145,
          -2.498298168182373,
          -7.093984603881836,
          -2.5013251304626465,
          4.963238716125488,
          3.4545655250549316,
          -2.528140068054199,
          -2.622572183609009,
          8.85630989074707,
          -11.179028511047363,
          4.445039749145508,
          9.507421493530273,
          -11.063873291015625,
          5.799941539764404,
          -4.865963935852051,
          6.112743854522705,
          2.1941590309143066,
          3.6159815788269043,
          4.071389198303223,
          8.643031120300293,
          -8.51636028289795,
          1.5025734901428223,
          -0.5727462768554688,
          6.108397483825684,
          8.34051513671875,
          -11.716647148132324,
          -12.10068130493164,
          -11.165080070495605,
          -3.0836448669433594,
          1.8412126302719116,
          -4.834259033203125,
          -4.986880302429199,
          -1.5302190780639648,
          -6.936697483062744,
          -11.685912132263184,
          -12.0057954788208,
          7.5813398361206055,
          -8.757415771484375,
          -0.1349126696586609,
          6.231161594390869,
          -9.300905227661133,
          6.520692825317383,
          5.335537433624268,
          4.3917317390441895,
          -10.233699798583984,
          -9.105891227722168,
          4.882707118988037,
          -3.0480196475982666,
          3.386718988418579,
          1.7737562656402588,
          1.497969388961792,
          7.056192874908447,
          6.9961748123168945,
          -7.001621246337891,
          2.482053279876709,
          4.17149543762207,
          -9.737407684326172,
          1.9074175357818604,
          -10.657751083374023,
          -8.881335258483887,
          -3.316682815551758,
          2.4189276695251465,
          1.9901468753814697,
          -6.534366607666016,
          2.3650593757629395,
          3.271893262863159,
          9.345955848693848,
          -10.118391990661621,
          -5.450245380401611,
          -10.20050048828125,
          3.1951963901519775,
          7.529514312744141,
          -12.536408424377441,
          -12.987234115600586,
          0.6123843789100647,
          5.932633876800537,
          3.6729815006256104,
          -10.373428344726562,
          -10.419177055358887,
          4.3382134437561035,
          -8.169934272766113,
          -3.103408098220825,
          -10.611196517944336,
          4.368237018585205,
          6.672963619232178,
          2.626619815826416,
          -7.109266757965088,
          -11.19556999206543,
          3.0783069133758545,
          6.119889736175537,
          2.0056211948394775,
          5.92058801651001,
          5.6835246086120605,
          -10.492277145385742,
          6.374631404876709,
          4.494103908538818,
          5.6801862716674805,
          4.7697930335998535,
          7.271646976470947,
          -7.835378170013428,
          -0.13507302105426788,
          -10.966294288635254,
          -10.349260330200195,
          7.662247657775879,
          -6.287644863128662,
          6.874476909637451,
          2.992107629776001,
          2.4635536670684814,
          3.8566150665283203,
          7.884777545928955,
          -8.794282913208008,
          -11.914112091064453,
          4.756661891937256,
          9.830183982849121,
          0.24716214835643768,
          4.957268714904785,
          -10.291094779968262,
          -7.922060489654541,
          -1.9404826164245605,
          4.601172924041748,
          -8.140386581420898,
          -3.6638450622558594,
          -0.4812433123588562,
          -8.731740951538086,
          4.541380882263184,
          -8.83188533782959,
          -10.1027193069458,
          7.769308567047119,
          3.4787497520446777,
          -11.081541061401367,
          0.723227858543396,
          3.2868142127990723,
          9.181381225585938,
          2.8810465335845947,
          4.996457576751709,
          10.028226852416992,
          -11.414849281311035,
          -12.752068519592285,
          -3.1769728660583496,
          3.3829236030578613,
          -11.147221565246582,
          2.2065775394439697,
          -11.27679443359375,
          7.7722086906433105,
          11.104910850524902,
          6.859877109527588,
          5.406912326812744,
          -10.914050102233887,
          -2.928014039993286,
          -8.49154281616211,
          -9.957610130310059,
          5.424964427947998,
          -12.028214454650879,
          9.783089637756348,
          1.7529239654541016,
          0.2338094860315323,
          -10.42614459991455,
          5.344860553741455,
          -10.709314346313477,
          7.4857635498046875,
          1.5294201374053955,
          7.371510982513428,
          -13.11383056640625,
          6.893799304962158,
          8.54970645904541,
          0.7316012382507324,
          8.469812393188477,
          -3.4637107849121094,
          -9.198688507080078,
          -11.932337760925293,
          -14.50351333618164,
          -5.620717525482178,
          1.0318902730941772,
          4.438016414642334,
          8.40638256072998,
          -5.746021747589111,
          0.3031541705131531,
          -5.714585781097412,
          -0.7943679094314575,
          -7.894733428955078,
          1.308031439781189,
          -5.633920669555664,
          -6.075479030609131,
          2.0377395153045654,
          -9.73690414428711,
          -5.437718868255615,
          5.431568622589111,
          7.113402366638184,
          2.676213264465332,
          7.047854423522949,
          4.414064407348633,
          2.653242826461792,
          2.4860310554504395,
          -12.927224159240723,
          -7.31311559677124,
          5.359427452087402,
          5.220720291137695,
          -5.1127400398254395,
          -12.095605850219727,
          7.367884159088135,
          8.476554870605469,
          5.329236030578613,
          -10.859545707702637,
          -2.6693475246429443,
          -11.93173885345459,
          -2.5632545948028564,
          8.777241706848145,
          5.869227409362793,
          8.683638572692871,
          -10.50205135345459,
          4.045167922973633,
          2.1186983585357666,
          -7.077681541442871,
          11.584080696105957,
          -12.993132591247559,
          5.301873207092285,
          -3.5491106510162354,
          1.6697453260421753,
          11.25554370880127,
          -11.87562370300293,
          2.623891592025757,
          8.46656322479248,
          0.9865717887878418,
          4.358702182769775,
          -7.15833854675293,
          -0.3645576536655426,
          -9.71149730682373,
          5.300515651702881,
          8.111289978027344,
          -7.819919109344482,
          6.542632579803467,
          -10.929423332214355,
          4.623721122741699,
          -11.690675735473633,
          -3.115379571914673,
          -12.645809173583984,
          -7.638753890991211,
          8.73824405670166,
          4.548289775848389,
          -3.5568180084228516,
          2.2695868015289307,
          3.340545415878296,
          2.5536253452301025,
          0.38526591658592224,
          7.131420135498047,
          8.341334342956543,
          -0.32879021763801575,
          -0.47355401515960693,
          8.493040084838867,
          3.8891260623931885,
          8.772686958312988,
          -9.425114631652832,
          -11.149862289428711,
          -4.95584774017334,
          5.7552947998046875,
          7.291076183319092,
          -8.627135276794434,
          -2.103790760040283,
          4.600097179412842,
          -2.4313998222351074,
          -13.286393165588379,
          -6.533097267150879,
          -11.517051696777344,
          -7.751196384429932,
          4.337920665740967,
          4.471007823944092,
          -2.907684326171875,
          1.7736165523529053,
          4.09218168258667,
          -2.122068405151367,
          -9.677403450012207,
          -12.107844352722168,
          1.2417875528335571,
          -2.1107654571533203,
          6.895019054412842,
          8.188807487487793,
          5.904816627502441,
          7.304537773132324,
          -8.105234146118164,
          2.827530860900879,
          -10.472357749938965,
          -13.903712272644043,
          -9.586116790771484,
          -1.7668513059616089,
          -4.362005710601807,
          2.3939154148101807,
          -10.233566284179688,
          3.269613027572632,
          -8.527290344238281
         ],
         "y": [
          -0.8063226342201233,
          1.3989156484603882,
          -9.365384101867676,
          -7.500615119934082,
          -17.472213745117188,
          -6.580331802368164,
          9.041247367858887,
          -18.5653076171875,
          -1.9641978740692139,
          9.901744842529297,
          -16.874486923217773,
          -14.40059757232666,
          -12.408488273620605,
          -15.210297584533691,
          -10.956836700439453,
          -16.30199432373047,
          -12.41721248626709,
          9.213340759277344,
          -7.5800700187683105,
          -7.219517707824707,
          -5.579397201538086,
          1.4213693141937256,
          -15.103702545166016,
          -2.037656545639038,
          -10.455845832824707,
          0.5713463425636292,
          -13.599838256835938,
          0.009059899486601353,
          -20.4565372467041,
          -16.670957565307617,
          -1.17313814163208,
          4.588225364685059,
          -1.745378017425537,
          -11.390414237976074,
          6.331782817840576,
          2.3611676692962646,
          -6.20994234085083,
          -0.07786843180656433,
          -0.6950492262840271,
          -7.828498363494873,
          17.36276626586914,
          -14.351399421691895,
          13.58287525177002,
          -8.223641395568848,
          -13.509428024291992,
          -16.875776290893555,
          -13.48132038116455,
          -1.7046093940734863,
          -14.215638160705566,
          12.668673515319824,
          -18.471473693847656,
          -5.562004089355469,
          6.704457759857178,
          -16.58377456665039,
          -8.077634811401367,
          10.168931007385254,
          -7.7171525955200195,
          3.4841814041137695,
          -12.068281173706055,
          -10.77285385131836,
          4.138631343841553,
          7.000150680541992,
          -19.523876190185547,
          -14.473745346069336,
          14.75199031829834,
          -13.900429725646973,
          8.652013778686523,
          10.829500198364258,
          -14.437474250793457,
          -10.636039733886719,
          -21.266759872436523,
          -16.74142074584961,
          -1.4418014287948608,
          -14.411724090576172,
          9.162247657775879,
          5.040901184082031,
          -14.792393684387207,
          -16.580886840820312,
          12.99082088470459,
          11.818004608154297,
          11.461349487304688,
          4.88951301574707,
          -16.666988372802734,
          7.273734092712402,
          7.1944499015808105,
          1.1451863050460815,
          11.72697925567627,
          9.976014137268066,
          5.3580217361450195,
          2.3982162475585938,
          4.532524108886719,
          -15.36941146850586,
          14.177901268005371,
          10.342696189880371,
          9.762849807739258,
          -19.83375358581543,
          10.701563835144043,
          2.978548288345337,
          6.783478736877441,
          -15.471023559570312,
          0.01564033329486847,
          13.124265670776367,
          2.868640422821045,
          8.920222282409668,
          -19.952945709228516,
          11.141939163208008,
          3.769090175628662,
          6.731624126434326,
          9.825600624084473,
          -16.335575103759766,
          4.067814350128174,
          -0.4955710470676422,
          -13.792778015136719,
          6.318350791931152,
          -14.0529203414917,
          6.923731327056885,
          11.80357837677002,
          10.639091491699219,
          -13.628138542175293,
          7.823822498321533,
          7.958425998687744,
          3.199521541595459,
          4.768168926239014,
          13.853570938110352,
          3.129131317138672,
          3.4773871898651123,
          9.260359764099121,
          -14.574915885925293,
          6.282334804534912,
          3.8196804523468018,
          5.326897144317627,
          10.555791854858398,
          -18.54296875,
          7.146514415740967,
          13.271309852600098,
          3.964592218399048,
          -15.302231788635254,
          -17.327287673950195,
          3.4402236938476562,
          2.872615337371826,
          -15.274880409240723,
          3.4662227630615234,
          8.43645191192627,
          -16.70070457458496,
          8.976305961608887,
          11.571405410766602,
          -14.761005401611328,
          12.927781105041504,
          2.681901454925537,
          2.6296277046203613,
          3.1486024856567383,
          6.899980545043945,
          1.7466057538986206,
          9.392367362976074,
          0.6730837821960449,
          11.152026176452637,
          13.958011627197266,
          15.423925399780273,
          9.568918228149414,
          -11.691243171691895,
          10.293402671813965,
          6.095027923583984,
          8.04594898223877,
          14.047414779663086,
          -12.774700164794922,
          14.298065185546875,
          -15.564374923706055,
          -18.348548889160156,
          -12.11611270904541,
          4.404544353485107,
          4.369937896728516,
          1.6472926139831543,
          -10.511576652526855,
          -13.119474411010742,
          0.2740873396396637,
          11.047593116760254,
          -9.465383529663086,
          -12.087239265441895,
          3.284048557281494,
          -16.551532745361328,
          2.642019033432007,
          -11.729499816894531,
          5.284104347229004,
          -19.904422760009766,
          -18.878904342651367,
          11.99181079864502,
          -13.507755279541016,
          6.134306907653809,
          9.854255676269531,
          6.624212265014648,
          13.200214385986328,
          -16.421072006225586,
          -16.288745880126953,
          -12.988900184631348,
          13.657435417175293,
          8.79955005645752,
          3.989229917526245,
          5.78179407119751,
          0.47071123123168945,
          -0.7601089477539062,
          3.197458028793335,
          2.5425727367401123,
          8.205146789550781,
          -17.19732666015625,
          -11.377921104431152,
          4.898536682128906,
          13.24436092376709,
          3.8257458209991455,
          -11.791558265686035,
          4.0716962814331055,
          0.4832591414451599,
          -13.759354591369629,
          -17.035491943359375,
          5.526257514953613,
          3.1717047691345215,
          3.728201150894165,
          4.093522071838379,
          -16.948665618896484,
          -19.516193389892578,
          1.8605293035507202,
          -11.129681587219238,
          6.329883098602295,
          -16.27058982849121,
          11.052949905395508,
          12.275300025939941,
          12.139567375183105,
          15.075858116149902,
          10.366552352905273,
          14.125632286071777,
          -10.313796043395996,
          8.81122875213623,
          14.538763046264648,
          -16.223920822143555,
          -17.020938873291016,
          8.066461563110352,
          6.60173225402832,
          3.9500324726104736,
          6.85338830947876,
          -14.731575012207031,
          -11.124671936035156,
          4.153140068054199,
          2.9515233039855957,
          -11.491374969482422,
          8.742429733276367,
          -16.631237030029297,
          12.387848854064941,
          7.788942813873291,
          11.159695625305176,
          15.480674743652344,
          -15.244634628295898,
          6.845301151275635,
          0.6737418174743652,
          -16.228090286254883,
          6.094292640686035,
          11.559557914733887,
          0.20840288698673248,
          1.4063223600387573,
          10.818438529968262,
          -11.29604721069336,
          8.408955574035645,
          -12.43470573425293,
          6.377079963684082,
          -15.299230575561523,
          1.3021706342697144,
          7.046075344085693,
          8.338422775268555,
          -18.80202293395996,
          11.615557670593262,
          9.484536170959473,
          4.648282051086426,
          6.372187614440918,
          7.712157726287842,
          4.262792587280273,
          -11.626239776611328,
          -11.854766845703125,
          10.114855766296387,
          -18.04471206665039,
          -16.434263229370117,
          6.781043529510498,
          9.71491527557373,
          14.443624496459961,
          -11.865147590637207,
          10.942947387695312,
          3.2210938930511475,
          -13.707176208496094,
          5.384974002838135,
          10.1029052734375,
          5.980446815490723,
          10.963747024536133,
          0.46058565378189087,
          2.803602933883667,
          7.689846038818359,
          3.385948896408081,
          6.241905689239502,
          7.370752334594727,
          -14.446756362915039,
          -13.899499893188477,
          13.125869750976562,
          2.5391647815704346,
          1.056352138519287,
          0.35708537697792053,
          10.972879409790039,
          -18.53612518310547,
          -17.072832107543945,
          -12.625357627868652,
          7.902080059051514,
          4.363323211669922,
          7.734670162200928,
          16.29412269592285,
          -19.099346160888672,
          -18.000751495361328,
          14.174588203430176,
          -11.217545509338379,
          -11.477912902832031,
          6.102227210998535,
          0.9693969488143921,
          4.20969820022583,
          8.120802879333496,
          9.088264465332031,
          8.519322395324707,
          1.2013670206069946,
          6.359593868255615,
          -17.019886016845703,
          2.987492322921753,
          10.350054740905762,
          2.75581693649292,
          -19.037425994873047,
          -19.41193389892578,
          -13.325117111206055,
          -12.983541488647461,
          11.995306015014648,
          -16.467388153076172,
          8.706361770629883,
          10.998909950256348,
          9.932703971862793,
          -14.481690406799316,
          4.167355537414551,
          3.995649576187134,
          -13.813128471374512,
          -14.66654109954834,
          3.4666409492492676,
          12.833675384521484,
          -13.615288734436035,
          9.760801315307617,
          -18.455413818359375,
          -14.921964645385742,
          6.6220011711120605,
          15.92553997039795,
          -14.215839385986328,
          -16.745532989501953,
          0.07347157597541809,
          4.693026065826416,
          7.801044940948486,
          8.268794059753418,
          10.099973678588867,
          12.691892623901367,
          6.3882060050964355,
          5.510374546051025,
          -20.754728317260742,
          1.8722862005233765,
          2.7618281841278076,
          4.450704097747803,
          2.1759111881256104,
          14.552367210388184,
          -15.906919479370117,
          8.429519653320312,
          -18.32937240600586,
          12.285374641418457,
          11.357083320617676,
          7.434906005859375,
          12.084434509277344,
          4.235326766967773,
          -15.593269348144531,
          -12.266393661499023,
          -16.924968719482422,
          13.016136169433594,
          8.646974563598633,
          -13.55356502532959,
          8.802114486694336,
          3.385963201522827,
          -13.55192756652832,
          3.1266913414001465,
          7.721659183502197,
          12.517966270446777,
          3.655702829360962,
          9.992713928222656,
          3.1429097652435303,
          3.096693277359009,
          -0.4170548915863037,
          -0.03779304772615433,
          10.88599967956543,
          11.127391815185547,
          4.573068141937256,
          7.440647602081299,
          7.6264472007751465,
          7.985883712768555,
          10.70207691192627,
          -16.79985237121582,
          1.2799149751663208,
          8.655917167663574,
          7.352700233459473,
          8.707152366638184,
          13.704113960266113,
          5.384374618530273,
          -19.276382446289062,
          10.991369247436523,
          -11.73033332824707,
          3.783714532852173,
          -10.962936401367188,
          4.987654685974121,
          7.211868762969971,
          3.8606855869293213,
          -20.79038429260254,
          -188.97317504882812,
          7.5350518226623535,
          14.112221717834473,
          10.080709457397461,
          6.113224029541016,
          -19.219572067260742,
          -15.049114227294922,
          -0.14899133145809174,
          5.494656562805176,
          6.651925563812256,
          1.5320974588394165,
          -12.730180740356445,
          12.432735443115234,
          8.970141410827637,
          -12.945186614990234,
          -0.6574193239212036,
          -14.902236938476562,
          6.299910545349121,
          10.775392532348633,
          7.503171920776367,
          -14.792105674743652,
          -20.84371566772461,
          1.6616133451461792,
          10.431550979614258,
          -15.532352447509766,
          10.24804401397705,
          -11.380566596984863,
          10.956254959106445,
          12.640522003173828,
          -12.552911758422852,
          -17.47873878479004,
          4.824188232421875,
          -10.342996597290039,
          -19.367008209228516,
          10.251343727111816,
          -14.07877254486084,
          -13.025542259216309,
          9.690133094787598,
          -15.320816040039062,
          13.481526374816895,
          8.19184398651123,
          -14.291455268859863,
          9.298224449157715,
          -0.6427481770515442,
          -14.371603965759277,
          12.17147159576416,
          12.290216445922852,
          3.94447922706604,
          -12.712944030761719,
          14.013554573059082,
          13.351227760314941,
          -0.004865541588515043,
          4.663755416870117,
          9.879026412963867,
          -20.39190673828125,
          13.968719482421875,
          -12.734188079833984,
          9.068819999694824,
          10.893375396728516,
          12.585906982421875,
          6.349942684173584,
          12.23613166809082,
          13.404248237609863,
          8.111804962158203,
          -12.024574279785156,
          1.9421966075897217,
          6.974492073059082,
          15.279152870178223,
          8.277504920959473,
          -13.343669891357422,
          -16.74972915649414,
          11.585095405578613,
          -16.99785804748535,
          1.3158248662948608,
          -1.3659367561340332,
          2.950045347213745,
          -12.018428802490234,
          10.037802696228027,
          -14.381072044372559,
          -10.556489944458008,
          -18.757408142089844,
          -11.92384147644043,
          -14.732190132141113,
          5.157954216003418,
          -12.278794288635254,
          8.873583793640137,
          1.7292126417160034,
          3.903902530670166,
          0.09066372364759445,
          2.8958394527435303,
          4.727325916290283,
          -0.8614693880081177,
          -12.214590072631836,
          11.122395515441895,
          14.99958610534668,
          -1.9792017936706543,
          -11.683506965637207,
          -16.245912551879883,
          15.546574592590332,
          4.533987998962402,
          -14.658244132995605,
          13.168743133544922,
          11.402329444885254,
          8.289798736572266,
          11.839632987976074,
          -0.009712161496281624,
          4.383488655090332,
          -1.7758597135543823,
          -17.09191131591797,
          -11.959005355834961,
          -13.626070022583008,
          -19.735347747802734,
          12.377920150756836,
          12.368119239807129,
          11.071782112121582,
          -0.3157889246940613,
          1.233210563659668,
          2.8899834156036377,
          -17.236419677734375,
          -13.040228843688965,
          12.121922492980957,
          -12.803257942199707,
          -17.27478790283203,
          5.1515607833862305,
          -17.44649314880371,
          2.150355577468872,
          4.860856533050537,
          2.003063440322876,
          -12.322868347167969,
          7.155766010284424,
          2.5636067390441895,
          15.613749504089355,
          -15.938759803771973,
          11.703961372375488,
          -14.170056343078613,
          -14.635226249694824,
          11.069747924804688,
          11.657139778137207,
          4.668328285217285,
          -14.201679229736328,
          9.555632591247559,
          9.802872657775879,
          3.6927366256713867,
          -11.83515453338623,
          7.897873401641846,
          -19.153146743774414,
          0.23267976939678192,
          -17.661027908325195,
          -19.994773864746094,
          10.557526588439941,
          -14.158804893493652,
          9.492229461669922,
          13.667489051818848,
          12.793042182922363,
          0.4555259048938751,
          -14.885183334350586,
          -13.206283569335938,
          -0.3338468372821808,
          -13.343696594238281,
          -18.491180419921875,
          -17.148921966552734,
          4.279359817504883,
          -19.861743927001953,
          6.699642181396484,
          10.294602394104004,
          2.809295892715454,
          7.911843776702881,
          -0.09154516458511353,
          8.772944450378418,
          -12.136123657226562,
          6.703835487365723,
          16.3243350982666,
          13.510322570800781,
          1.5911353826522827,
          11.911236763000488,
          12.901497840881348,
          -18.088977813720703,
          8.540125846862793,
          14.269787788391113,
          0.43453851342201233,
          -18.875558853149414,
          2.0200130939483643,
          7.874156951904297,
          -17.301362991333008,
          -17.404922485351562,
          -11.83420181274414,
          -16.844274520874023,
          -15.142653465270996,
          2.861963987350464,
          -11.84473991394043,
          10.077357292175293,
          -11.821474075317383,
          3.5808117389678955,
          -19.69097137451172,
          -18.221389770507812,
          8.348530769348145,
          1.1532272100448608,
          -11.189407348632812,
          3.1102633476257324,
          -1.737539529800415,
          2.9552295207977295,
          12.207420349121094,
          11.394203186035156,
          3.421473264694214,
          5.386184215545654,
          3.7971012592315674,
          1.6383353471755981,
          1.0990691184997559,
          7.849343299865723,
          7.188523769378662,
          -0.059870582073926926,
          -12.979962348937988,
          -20.61273956298828,
          10.787511825561523,
          -14.675809860229492,
          4.072643756866455,
          13.190841674804688,
          3.37154483795166,
          5.209990978240967,
          10.555153846740723,
          -16.833065032958984,
          1.9876267910003662,
          2.166217088699341,
          3.724119186401367,
          1.5740063190460205,
          -13.996453285217285,
          2.9288666248321533,
          -11.063960075378418,
          4.0983147621154785,
          8.853737831115723,
          3.6685972213745117,
          -16.42635154724121,
          9.078319549560547,
          -11.549419403076172,
          5.790698051452637,
          -11.753514289855957,
          4.784170627593994,
          15.079530715942383,
          12.088958740234375,
          3.1603426933288574,
          -16.44767951965332,
          11.531070709228516,
          2.8857810497283936,
          -15.955148696899414,
          3.5701804161071777,
          3.1385998725891113,
          -16.462034225463867,
          -19.632164001464844,
          7.001793384552002,
          0.17228297889232635,
          0.4895729124546051,
          -13.248401641845703,
          4.109642028808594,
          -16.95106315612793,
          6.782726287841797,
          6.003572463989258,
          11.846373558044434,
          2.6974332332611084,
          12.325407028198242,
          8.548832893371582,
          3.069488048553467,
          -10.924311637878418,
          12.259746551513672,
          4.184622287750244,
          -13.12563705444336,
          -14.634221076965332,
          7.282069683074951,
          -11.873258590698242,
          13.412307739257812,
          4.4314374923706055,
          -10.316815376281738,
          11.513738632202148,
          12.128705024719238,
          12.094799041748047,
          16.617862701416016,
          -15.695362091064453,
          -18.80472183227539,
          -16.063491821289062,
          -17.014406204223633,
          -20.56912612915039,
          0.4948597848415375,
          -15.674391746520996,
          -11.979545593261719,
          2.809277296066284,
          11.648923873901367,
          10.861159324645996,
          -12.730663299560547,
          3.916990280151367,
          13.624764442443848,
          -15.204567909240723,
          -20.50074005126953,
          8.798311233520508,
          9.960674285888672,
          -16.836626052856445,
          -18.75818634033203,
          0.756191074848175,
          -9.075407981872559,
          -12.075523376464844,
          14.902627944946289,
          4.998976230621338,
          0.48233380913734436,
          1.8406449556350708,
          -9.771491050720215,
          -6.340917110443115,
          -16.40357208251953,
          1.692520022392273,
          13.831146240234375,
          -7.704491138458252,
          12.791830062866211,
          0.5375182032585144,
          -5.456779956817627,
          -3.00006365776062,
          -1.80776846408844,
          -12.241117477416992,
          -11.617121696472168,
          -17.34726333618164,
          -7.852376937866211,
          0.7338472008705139,
          -15.402719497680664,
          2.708214282989502,
          4.334303379058838,
          -0.13934417068958282,
          -14.567192077636719,
          5.910429000854492,
          11.352636337280273,
          12.736018180847168,
          -11.19179630279541,
          2.157595157623291,
          4.2076544761657715,
          4.039040565490723,
          -10.54753303527832,
          1.2492390871047974,
          12.817062377929688,
          9.439804077148438,
          -13.755409240722656,
          -13.777042388916016,
          -20.209781646728516,
          2.115736961364746,
          -14.864248275756836,
          10.072808265686035,
          13.600560188293457,
          14.417976379394531,
          -12.21020221710205,
          11.622736930847168,
          6.673712253570557,
          -15.214835166931152,
          15.222005844116211,
          -19.611364364624023,
          8.484719276428223,
          14.559357643127441,
          11.408076286315918,
          0.7044941186904907,
          11.851757049560547,
          11.104713439941406,
          -16.151636123657227,
          8.044096946716309,
          -16.910547256469727,
          11.221059799194336,
          2.487321376800537,
          -0.04181060194969177,
          8.654240608215332,
          2.939443588256836,
          14.629928588867188,
          3.9407272338867188,
          3.4545066356658936,
          10.314619064331055,
          1.8056716918945312,
          7.195915699005127,
          11.248475074768066,
          1.6415106058120728,
          3.579125165939331,
          11.829050064086914,
          -20.219532012939453,
          7.898778438568115,
          -11.47069263458252,
          13.969978332519531,
          11.762076377868652,
          -19.83995819091797,
          7.867013931274414,
          -10.645856857299805,
          7.835440158843994,
          13.159749984741211,
          5.659451484680176,
          13.221577644348145,
          -13.968901634216309,
          8.179256439208984,
          13.094197273254395,
          4.91118049621582,
          2.7658638954162598,
          -0.24179953336715698,
          2.080460786819458,
          -11.669839859008789,
          13.296747207641602,
          10.939072608947754,
          3.158923864364624,
          -15.75892448425293,
          11.534438133239746,
          -15.142733573913574,
          -10.418473243713379,
          8.643718719482422,
          -0.1385364681482315,
          1.279327392578125,
          -13.932660102844238,
          3.805495023727417,
          -19.847806930541992,
          -9.053387641906738,
          -15.03179931640625,
          -14.259455680847168,
          -11.5250883102417,
          13.765435218811035,
          1.4502718448638916,
          4.459748268127441,
          10.964581489562988,
          -15.654414176940918,
          11.842681884765625,
          5.1500935554504395,
          -17.563730239868164,
          3.780848264694214,
          2.9049060344696045,
          -18.834529876708984,
          -10.488913536071777,
          -14.474471092224121,
          -11.223125457763672,
          -16.59171485900879,
          -16.366416931152344,
          -12.929258346557617,
          10.052290916442871,
          7.717604637145996,
          8.580024719238281,
          -15.283534049987793,
          7.3974504470825195,
          9.32645320892334,
          -12.085969924926758,
          2.4204235076904297,
          8.427242279052734,
          4.302080154418945,
          3.2279410362243652,
          -11.95145320892334,
          -1.701231598854065,
          9.793068885803223,
          7.676852226257324,
          -0.3144165575504303,
          4.715467929840088,
          2.4390013217926025,
          -15.376346588134766,
          12.482000350952148,
          -10.66743278503418,
          0.10062666237354279,
          11.05594253540039,
          0.3648265302181244,
          9.2702054977417,
          4.275920391082764,
          -17.287702560424805,
          11.288028717041016,
          11.791019439697266,
          -12.036920547485352,
          2.926046848297119,
          -13.970174789428711,
          11.60833740234375,
          11.702414512634277,
          5.117092132568359,
          9.83478832244873,
          12.861934661865234,
          7.554101467132568,
          5.693350315093994,
          2.122493267059326,
          -11.154526710510254,
          3.5723023414611816,
          8.768306732177734,
          12.204290390014648,
          -17.037874221801758,
          -17.154434204101562,
          -14.237828254699707,
          2.062330961227417,
          3.2692999839782715,
          1.1237995624542236,
          -9.783794403076172,
          -15.957266807556152,
          -18.152292251586914,
          -12.777636528015137,
          11.201631546020508,
          -19.674287796020508,
          4.944947719573975,
          4.848255634307861,
          11.782554626464844,
          -0.5132327079772949,
          5.5389862060546875,
          5.939664840698242,
          6.845319747924805,
          14.072176933288574,
          -20.147335052490234,
          10.186051368713379,
          -17.364789962768555,
          -14.607864379882812,
          4.2494401931762695,
          -12.524569511413574,
          10.985485076904297,
          8.786909103393555,
          11.976127624511719,
          14.621206283569336,
          9.553380012512207,
          -10.374276161193848,
          -15.307861328125,
          1.8591125011444092,
          4.084506034851074,
          -15.001340866088867,
          -14.987727165222168,
          -0.9997252821922302,
          -18.692665100097656,
          6.708521366119385,
          8.660773277282715,
          4.264886856079102,
          3.010056495666504,
          8.74453353881836,
          1.7551887035369873,
          2.4480645656585693,
          4.996257305145264,
          -16.283723831176758,
          10.54749584197998,
          11.845027923583984,
          -19.62464714050293,
          -16.885211944580078,
          -14.19672966003418,
          10.848465919494629,
          -10.690763473510742,
          2.733381748199463,
          -14.548872947692871,
          -11.386226654052734,
          5.760704517364502,
          12.80567455291748,
          -12.464491844177246,
          9.224510192871094,
          -12.648848533630371,
          10.336312294006348,
          6.6777496337890625,
          6.152343273162842,
          9.455050468444824,
          1.3320850133895874,
          3.1008095741271973,
          -19.629037857055664,
          -16.997434616088867,
          2.9123027324676514,
          9.986536979675293,
          -15.375944137573242,
          -14.417374610900879,
          -10.240983009338379,
          4.800039768218994,
          13.016887664794922,
          5.666562080383301,
          -11.475881576538086,
          11.411308288574219,
          3.0641729831695557,
          15.674529075622559,
          6.661072254180908,
          9.438423156738281,
          -11.69704532623291,
          8.710976600646973,
          -18.470500946044922,
          8.299219131469727,
          3.9293601512908936,
          -15.23322868347168,
          9.857020378112793,
          9.530230522155762,
          7.6764912605285645,
          -17.354145050048828,
          2.6587471961975098,
          -11.064173698425293,
          -11.491602897644043,
          0.06284233182668686,
          13.369892120361328,
          11.394522666931152,
          -17.228382110595703,
          8.77031421661377,
          5.551919937133789,
          -13.164655685424805,
          -13.329264640808105,
          -17.151880264282227,
          -12.44802474975586,
          8.146028518676758,
          9.245410919189453,
          -10.850358963012695,
          -13.410347938537598,
          2.517402410507202,
          9.01797866821289,
          13.319594383239746,
          -13.822375297546387,
          -16.050525665283203
         ],
         "z": [
          -7.609882831573486,
          7.020500659942627,
          -0.9209996461868286,
          2.1648926734924316,
          1.4654544591903687,
          5.834024429321289,
          5.896630764007568,
          5.482524871826172,
          -5.783785343170166,
          -2.254343032836914,
          7.137503147125244,
          4.964179515838623,
          11.271634101867676,
          -5.810482025146484,
          -0.6392422914505005,
          9.126009941101074,
          11.33226203918457,
          1.3603830337524414,
          -0.8864070773124695,
          0.39578214287757874,
          5.803258419036865,
          -3.096464157104492,
          -4.363644599914551,
          -6.201712608337402,
          3.0262601375579834,
          -0.16909059882164001,
          3.4668400287628174,
          -2.0789098739624023,
          -0.1652260422706604,
          1.9303245544433594,
          -3.3936684131622314,
          8.86057186126709,
          -1.9728139638900757,
          -1.1436752080917358,
          -4.54252290725708,
          -2.204468250274658,
          -0.20922869443893433,
          -1.8393104076385498,
          -4.235259056091309,
          6.157079219818115,
          -0.35882148146629333,
          0.7866342067718506,
          -4.923629283905029,
          3.8861494064331055,
          0.02478772960603237,
          9.85213565826416,
          -0.7680801153182983,
          -5.943764686584473,
          4.575222969055176,
          0.5817739963531494,
          11.050780296325684,
          -0.9265592694282532,
          -4.226134777069092,
          9.793027877807617,
          5.1275248527526855,
          11.701571464538574,
          7.06492280960083,
          7.660660266876221,
          -0.8339251279830933,
          2.5103540420532227,
          -6.561748027801514,
          -2.019404411315918,
          7.491915702819824,
          1.1512938737869263,
          -2.233079195022583,
          -1.5905548334121704,
          -5.487433433532715,
          -0.8356991410255432,
          3.6833555698394775,
          3.812617778778076,
          2.2531380653381348,
          4.991244792938232,
          -5.639470100402832,
          9.653542518615723,
          -13.210647583007812,
          -5.868716239929199,
          2.942241668701172,
          4.879509925842285,
          -9.83121109008789,
          -6.197021484375,
          -6.626211166381836,
          -6.808847427368164,
          -0.8550677299499512,
          -0.6328232884407043,
          5.81911039352417,
          4.010421276092529,
          4.603820323944092,
          2.7651543617248535,
          -4.319745063781738,
          -5.114428997039795,
          -4.37723970413208,
          7.228592395782471,
          -6.385390758514404,
          4.68785285949707,
          9.060846328735352,
          5.939237594604492,
          -2.588287115097046,
          2.4697484970092773,
          -0.7986348271369934,
          2.0737626552581787,
          -6.313756465911865,
          0.6762338876724243,
          2.1941628456115723,
          -4.405848026275635,
          7.242053508758545,
          -4.054978370666504,
          1.7595598697662354,
          4.728418827056885,
          -13.536218643188477,
          3.5084352493286133,
          -6.02379846572876,
          -3.8885374069213867,
          9.399880409240723,
          -6.578543663024902,
          0.4616461992263794,
          -5.487339019775391,
          8.470541000366211,
          4.637311935424805,
          8.294011116027832,
          0.3355986177921295,
          -5.446778297424316,
          -4.37054967880249,
          5.145826816558838,
          -1.9228883981704712,
          -2.195664167404175,
          5.119762420654297,
          9.309110641479492,
          6.285265922546387,
          5.388701438903809,
          4.245894432067871,
          -7.101719379425049,
          -3.3529696464538574,
          9.532001495361328,
          7.804043292999268,
          2.1291894912719727,
          -8.61063289642334,
          -1.8104908466339111,
          8.654921531677246,
          5.076711177825928,
          -0.9069409370422363,
          9.254419326782227,
          -3.4438936710357666,
          -5.204606533050537,
          -0.15311245620250702,
          0.710452139377594,
          -5.17512845993042,
          5.02268648147583,
          0.115486279129982,
          6.145280838012695,
          -0.7544597387313843,
          -5.302811145782471,
          -8.22605037689209,
          0.875524640083313,
          -6.039463043212891,
          -4.226389408111572,
          -1.5019252300262451,
          -0.6762981414794922,
          -0.5657318830490112,
          -10.285792350769043,
          8.21650218963623,
          8.48015308380127,
          -7.060141086578369,
          -9.113214492797852,
          -8.197534561157227,
          6.381906986236572,
          1.2411091327667236,
          9.663446426391602,
          0.5883297920227051,
          0.732593297958374,
          -1.736543893814087,
          1.3731794357299805,
          2.363250732421875,
          4.354962348937988,
          -1.3542711734771729,
          -2.7472054958343506,
          1.930666446685791,
          6.059061050415039,
          -1.4212989807128906,
          7.106813907623291,
          7.259653568267822,
          -1.5280805826187134,
          2.0575242042541504,
          8.792881965637207,
          1.4278862476348877,
          0.601574718952179,
          7.342261791229248,
          3.16082501411438,
          -6.574416160583496,
          -6.267240524291992,
          -7.499244689941406,
          0.2356603741645813,
          0.23508237302303314,
          7.8359904289245605,
          -0.5921429395675659,
          6.535306930541992,
          7.967400074005127,
          -0.9659906625747681,
          5.5588579177856445,
          -7.128733158111572,
          -0.7065151929855347,
          -6.02333927154541,
          -0.5930719375610352,
          8.458089828491211,
          -0.09768009185791016,
          -0.5654423832893372,
          9.489750862121582,
          -4.783893585205078,
          -6.163130760192871,
          3.0603697299957275,
          6.942229270935059,
          -3.009958505630493,
          5.6033148765563965,
          3.4121618270874023,
          -5.004631996154785,
          -4.511908531188965,
          -2.5862443447113037,
          6.180163860321045,
          6.543309688568115,
          5.395387649536133,
          -2.366187334060669,
          -0.558772087097168,
          2.756211519241333,
          0.5968852639198303,
          -12.568317413330078,
          5.345273971557617,
          -4.452340126037598,
          -3.4141204357147217,
          -7.78200626373291,
          2.349177598953247,
          6.91813325881958,
          6.645847797393799,
          -6.10688591003418,
          7.993095874786377,
          8.252105712890625,
          -2.0588181018829346,
          2.336786985397339,
          4.675981521606445,
          -7.034266948699951,
          5.955421447753906,
          -2.6986825466156006,
          -5.802560806274414,
          2.7854349613189697,
          -1.672082781791687,
          3.517634391784668,
          3.366098403930664,
          4.30580472946167,
          -6.787595748901367,
          -9.538595199584961,
          -3.304395914077759,
          -3.368360757827759,
          -7.851593494415283,
          -0.6300123929977417,
          4.8043975830078125,
          -6.828070163726807,
          -4.213564872741699,
          -6.259040832519531,
          -8.725446701049805,
          2.9151649475097656,
          6.960089683532715,
          0.9723885655403137,
          -2.32724928855896,
          -6.04325532913208,
          -1.1128835678100586,
          -0.7959010601043701,
          -6.749372959136963,
          3.5012500286102295,
          8.188180923461914,
          6.831279277801514,
          -13.552117347717285,
          4.401129245758057,
          2.9711854457855225,
          8.705328941345215,
          -8.148468971252441,
          -2.865321636199951,
          7.063701152801514,
          -6.771209239959717,
          5.737750053405762,
          0.40387609601020813,
          3.5177958011627197,
          -5.990318775177002,
          -3.343846321105957,
          -2.69616436958313,
          -6.192848205566406,
          -6.520114421844482,
          0.7966596484184265,
          4.911631107330322,
          -1.117647647857666,
          2.9616260528564453,
          4.082594394683838,
          -7.970956802368164,
          -4.235081672668457,
          4.908174514770508,
          1.3920907974243164,
          5.081824779510498,
          -0.3756557106971741,
          9.695124626159668,
          4.745828151702881,
          -7.4224724769592285,
          0.9345868229866028,
          -6.843677520751953,
          4.43071174621582,
          3.599217414855957,
          2.628095865249634,
          4.185431957244873,
          3.3243138790130615,
          -10.355064392089844,
          2.0640673637390137,
          -9.127776145935059,
          -0.6612676382064819,
          0.4540291428565979,
          0.43709391355514526,
          0.26724961400032043,
          1.4491106271743774,
          -2.8233911991119385,
          -2.333157777786255,
          -7.583110332489014,
          -2.0515782833099365,
          4.784788608551025,
          -10.625813484191895,
          7.74547815322876,
          4.36413049697876,
          -6.2184834480285645,
          6.141807556152344,
          2.8612844944000244,
          -4.930176734924316,
          -4.821639060974121,
          7.397552013397217,
          7.27988338470459,
          -0.06968053430318832,
          4.406264305114746,
          7.17228889465332,
          6.8849005699157715,
          -6.800816059112549,
          -3.3841958045959473,
          2.4736053943634033,
          1.921010971069336,
          4.524731636047363,
          -9.25141716003418,
          3.20232892036438,
          6.434789657592773,
          -9.26216983795166,
          -6.859783172607422,
          8.615328788757324,
          -6.4404449462890625,
          5.589486598968506,
          -0.38213419914245605,
          8.299958229064941,
          1.8026494979858398,
          6.914383888244629,
          7.3550238609313965,
          -1.3136725425720215,
          -8.434520721435547,
          0.560839056968689,
          8.537463188171387,
          -1.1365509033203125,
          -7.574654579162598,
          -4.489376068115234,
          2.390993595123291,
          4.919084548950195,
          -2.098210334777832,
          5.893330097198486,
          2.228739023208618,
          -5.307281017303467,
          -1.0820904970169067,
          6.7756500244140625,
          -8.875770568847656,
          4.112255573272705,
          5.434666156768799,
          2.799647808074951,
          5.220761775970459,
          -4.545212745666504,
          -5.55219841003418,
          2.346198320388794,
          1.8050956726074219,
          6.146927356719971,
          -2.861062526702881,
          -11.729084968566895,
          4.111083030700684,
          8.169204711914062,
          -3.2302405834198,
          7.495846748352051,
          -2.2998692989349365,
          -13.032243728637695,
          -9.421012878417969,
          5.310036659240723,
          -2.25337290763855,
          1.2427546977996826,
          0.09648466855287552,
          -1.3057407140731812,
          -4.772727012634277,
          -1.4933445453643799,
          -2.6722357273101807,
          -6.368875980377197,
          -7.51440954208374,
          -0.9034659266471863,
          8.587843894958496,
          -4.358707904815674,
          3.3499348163604736,
          -4.520900726318359,
          -6.533254623413086,
          0.32422733306884766,
          -2.5916316509246826,
          0.23805955052375793,
          9.072029113769531,
          3.1472373008728027,
          7.210602283477783,
          1.2804203033447266,
          -2.9847145080566406,
          9.41890811920166,
          7.774527549743652,
          4.4706902503967285,
          -5.105696678161621,
          5.974620342254639,
          14.252345085144043,
          5.685102462768555,
          -5.463294982910156,
          1.7060837745666504,
          4.423544406890869,
          7.80460262298584,
          0.16345380246639252,
          -4.542065143585205,
          -0.12165603041648865,
          2.861243724822998,
          5.246891975402832,
          1.4122952222824097,
          3.000370740890503,
          5.994671821594238,
          3.810563325881958,
          -6.313262939453125,
          2.9993739128112793,
          -5.819345474243164,
          7.4620490074157715,
          -1.0370488166809082,
          4.027937412261963,
          2.7602734565734863,
          -0.6350749135017395,
          1.2298604249954224,
          1.6014353036880493,
          -12.787094116210938,
          0.35076838731765747,
          -4.6349196434021,
          -9.259112358093262,
          0.20098456740379333,
          4.045823097229004,
          -3.4480907917022705,
          6.4454426765441895,
          2.855111837387085,
          -5.418967247009277,
          -2.5418007373809814,
          2.427931785583496,
          -2.3879141807556152,
          -0.9910600781440735,
          -2.5905590057373047,
          -10.43448257446289,
          8.395357131958008,
          9.25893497467041,
          -4.5291008949279785,
          -1.8411860466003418,
          -10.144713401794434,
          -9.53531551361084,
          5.762944221496582,
          1.0309441089630127,
          -5.283517837524414,
          -8.507920265197754,
          -4.453509330749512,
          -4.654212951660156,
          -14.041349411010742,
          3.6893856525421143,
          1.425992488861084,
          0.22410111129283905,
          -5.382750511169434,
          0.178318589925766,
          4.99699068069458,
          -7.148937225341797,
          -3.0598185062408447,
          5.904330730438232,
          7.652174949645996,
          4.242112159729004,
          -8.850870132446289,
          3.531297206878662,
          -0.9387476444244385,
          -1.6230581998825073,
          2.5882725715637207,
          2.569766044616699,
          8.0951509475708,
          2.724228620529175,
          1.5299007892608643,
          -6.814970016479492,
          -8.725018501281738,
          -3.174480676651001,
          -8.389328002929688,
          9.059629440307617,
          6.070176124572754,
          2.370816230773926,
          -0.9769946336746216,
          4.239699840545654,
          6.925007343292236,
          8.733379364013672,
          -5.307449817657471,
          -6.088854789733887,
          5.289635181427002,
          -2.3562281131744385,
          -3.9553096294403076,
          -4.060185432434082,
          -6.507494926452637,
          -3.0101490020751953,
          -11.455057144165039,
          1.418439507484436,
          -6.4192214012146,
          1.2427406311035156,
          1.1843496561050415,
          0.0696917474269867,
          1.4054863452911377,
          5.9328813552856445,
          -8.440041542053223,
          -4.156514644622803,
          -7.6908674240112305,
          -10.913363456726074,
          -1.6164920330047607,
          2.5969793796539307,
          -4.952630519866943,
          -0.08665643632411957,
          5.751908302307129,
          0.30987951159477234,
          6.120901584625244,
          8.732558250427246,
          -9.71886920928955,
          3.5664660930633545,
          -2.699974536895752,
          -8.423415184020996,
          2.0968167781829834,
          4.331229209899902,
          9.762906074523926,
          -5.282472610473633,
          8.681970596313477,
          0.5276238322257996,
          8.401114463806152,
          0.9711024761199951,
          -6.73851203918457,
          4.6955389976501465,
          -0.09890810400247574,
          5.933880805969238,
          4.609724998474121,
          6.842630386352539,
          2.2376279830932617,
          10.928464889526367,
          -4.452859878540039,
          6.176745891571045,
          3.793839454650879,
          -5.437870979309082,
          -4.433677673339844,
          -6.670238971710205,
          1.9348337650299072,
          -10.448152542114258,
          -6.184673309326172,
          1.2753504514694214,
          9.612985610961914,
          -12.639625549316406,
          7.615912437438965,
          -6.368670463562012,
          3.8221089839935303,
          5.425539493560791,
          -6.803152084350586,
          5.326478481292725,
          -0.5261821150779724,
          -6.132340908050537,
          -0.44628942012786865,
          -2.2957706451416016,
          3.0239078998565674,
          6.772281169891357,
          -7.159825325012207,
          7.982107162475586,
          4.473288059234619,
          7.420052528381348,
          7.356627464294434,
          0.9087859392166138,
          4.022922039031982,
          3.3407301902770996,
          -6.895064830780029,
          -5.536677837371826,
          -4.892452239990234,
          -7.265974044799805,
          1.6194871664047241,
          4.815008163452148,
          -0.7019687294960022,
          -4.613064289093018,
          -7.905359268188477,
          -2.8601558208465576,
          5.529049873352051,
          4.300179481506348,
          -1.821067214012146,
          -2.6625890731811523,
          -6.7763848304748535,
          3.7626826763153076,
          -5.300536155700684,
          -5.540722846984863,
          5.373393535614014,
          3.2908337116241455,
          3.5647358894348145,
          3.456514358520508,
          8.882134437561035,
          -5.208829879760742,
          0.7034327387809753,
          6.55552864074707,
          4.7151665687561035,
          5.466410160064697,
          6.391876697540283,
          6.458616256713867,
          0.4163433909416199,
          3.6256489753723145,
          5.698009967803955,
          -5.266341209411621,
          -5.762795925140381,
          -8.594991683959961,
          -8.642143249511719,
          -6.1646246910095215,
          -2.3793411254882812,
          -4.717576026916504,
          -2.457883834838867,
          -8.517760276794434,
          -5.604594707489014,
          -4.32643985748291,
          -7.513835430145264,
          -2.1104609966278076,
          0.5374643206596375,
          4.896296501159668,
          7.910912990570068,
          0.7625699043273926,
          -3.2275424003601074,
          -8.670272827148438,
          -8.059532165527344,
          5.22454309463501,
          -12.101551055908203,
          -0.43257808685302734,
          -5.099564075469971,
          -7.0292863845825195,
          -9.025428771972656,
          -5.503605842590332,
          7.956535339355469,
          -5.562313079833984,
          -0.7678409218788147,
          7.212052822113037,
          7.7145819664001465,
          -3.661561965942383,
          5.534663677215576,
          -9.53010082244873,
          0.20362430810928345,
          -8.289201736450195,
          2.339777708053589,
          -7.301835060119629,
          -3.4505810737609863,
          -0.5788547992706299,
          -2.452014923095703,
          9.714601516723633,
          1.744158148765564,
          3.407346725463867,
          0.9814605116844177,
          -7.148012161254883,
          -1.2219622135162354,
          4.017274856567383,
          2.54829740524292,
          -4.586126804351807,
          -4.753312587738037,
          -7.358799934387207,
          5.8328704833984375,
          5.0929856300354,
          7.20354700088501,
          8.175276756286621,
          5.582953453063965,
          0.7693813443183899,
          -1.0897481441497803,
          -6.85125207901001,
          -7.787728309631348,
          -4.676060199737549,
          7.221909999847412,
          -3.808753728866577,
          7.812320709228516,
          9.921810150146484,
          5.075131893157959,
          7.678625106811523,
          0.34488219022750854,
          -4.149021625518799,
          -9.177356719970703,
          4.527314186096191,
          -7.544393539428711,
          1.2610337734222412,
          -4.2018609046936035,
          0.8491950631141663,
          7.25506067276001,
          1.141578197479248,
          4.341646671295166,
          0.4878716766834259,
          5.366581916809082,
          0.6314911246299744,
          9.363815307617188,
          9.930437088012695,
          -3.135298013687134,
          -4.360706329345703,
          -10.11316204071045,
          3.0417075157165527,
          -4.3984527587890625,
          -4.286284923553467,
          -5.759688377380371,
          -0.20846940577030182,
          -5.870428085327148,
          10.662114143371582,
          6.744292736053467,
          11.65461254119873,
          -6.429182052612305,
          4.080865383148193,
          -1.2046771049499512,
          -1.248838186264038,
          -0.7774711847305298,
          0.057512231171131134,
          1.7973722219467163,
          7.667869567871094,
          5.846900939941406,
          10.626715660095215,
          1.8837591409683228,
          -4.8334503173828125,
          -0.8827946782112122,
          8.959010124206543,
          1.9116401672363281,
          -0.9212375283241272,
          -0.7474584579467773,
          -1.919708013534546,
          2.0632688999176025,
          10.405510902404785,
          6.977755069732666,
          5.810930252075195,
          -2.7521090507507324,
          3.5586345195770264,
          -5.06732177734375,
          -3.1818959712982178,
          -4.937284469604492,
          7.369942665100098,
          -5.6222968101501465,
          -7.737019062042236,
          -8.311885833740234,
          4.659626007080078,
          -0.3172805905342102,
          -5.0329155921936035,
          -6.142805099487305,
          7.142893314361572,
          -4.226678848266602,
          -7.557419300079346,
          -4.676360607147217,
          9.497539520263672,
          -1.832572340965271,
          2.89174747467041,
          6.472102642059326,
          1.9424902200698853,
          9.32907485961914,
          6.555813312530518,
          -2.7806546688079834,
          -1.1644816398620605,
          -5.942361831665039,
          -6.126173496246338,
          5.8141326904296875,
          1.653574824333191,
          1.5189474821090698,
          -8.02739143371582,
          -3.41426420211792,
          3.1986818313598633,
          -7.253325462341309,
          5.964509963989258,
          7.259700775146484,
          1.2387174367904663,
          4.894982814788818,
          -0.21710212528705597,
          -6.124242782592773,
          -8.151625633239746,
          -5.029205322265625,
          6.475215911865234,
          -5.351624965667725,
          -1.8698731660842896,
          -3.1992416381835938,
          -3.081116199493408,
          -12.058221817016602,
          -5.249410152435303,
          -6.3914642333984375,
          6.769683361053467,
          2.8447320461273193,
          -5.312447547912598,
          -9.02929401397705,
          2.029233694076538,
          -4.498948574066162,
          7.110088348388672,
          -6.835015773773193,
          -3.311269998550415,
          2.8019096851348877,
          -7.019987106323242,
          6.267720699310303,
          -11.019712448120117,
          6.9505085945129395,
          8.391326904296875,
          -3.622710704803467,
          -2.2306127548217773,
          -7.368839263916016,
          -0.3219020962715149,
          -3.445723056793213,
          -2.2866837978363037,
          -2.1425247192382812,
          7.463939189910889,
          -2.3211562633514404,
          1.3915296792984009,
          -4.5035576820373535,
          1.607560634613037,
          9.342512130737305,
          -5.032439231872559,
          0.9834434986114502,
          7.3092474937438965,
          -11.506370544433594,
          -3.9704527854919434,
          3.421799659729004,
          -2.4089603424072266,
          2.153210401535034,
          4.016512393951416,
          5.466454029083252,
          6.640902996063232,
          5.391145706176758,
          -3.154283046722412,
          -8.049715042114258,
          2.971850872039795,
          0.48960867524147034,
          0.8588959574699402,
          9.181742668151855,
          -6.528768062591553,
          -5.321806907653809,
          4.598515510559082,
          1.1064205169677734,
          -3.2696475982666016,
          6.462902545928955,
          6.100271224975586,
          -2.3467180728912354,
          4.8983330726623535,
          3.6177027225494385,
          -0.7280629277229309,
          5.04710578918457,
          -4.964101791381836,
          -6.734082221984863,
          -4.369017124176025,
          6.914944171905518,
          3.802671194076538,
          4.921279430389404,
          8.88522720336914,
          3.8797390460968018,
          -6.880668640136719,
          -5.5141987800598145,
          -2.3886077404022217,
          9.402225494384766,
          -6.035467624664307,
          -5.879896640777588,
          -6.13759708404541,
          -2.1119651794433594,
          3.031939744949341,
          -2.261457681655884,
          10.790851593017578,
          -5.707128524780273,
          6.60459566116333,
          -4.776881217956543,
          -5.435250282287598,
          -6.8012518882751465,
          -4.061406135559082,
          2.079746723175049,
          8.592370986938477,
          4.953487396240234,
          -3.836271047592163,
          5.190167427062988,
          -4.161771774291992,
          2.7067456245422363,
          -4.07194185256958,
          4.5682878494262695,
          -5.250131607055664,
          7.478858947753906,
          -3.2406492233276367,
          -1.720023274421692,
          -2.9643442630767822,
          -6.606766223907471,
          -0.41051918268203735,
          -3.778339385986328,
          -9.054978370666504,
          -6.931326389312744,
          5.688803195953369,
          3.3975720405578613,
          9.351709365844727,
          -5.110140323638916,
          0.9671860337257385,
          -7.637421131134033,
          4.56858491897583,
          0.4949283003807068,
          1.0951975584030151,
          0.7394658327102661,
          -7.178553581237793,
          0.3144600987434387,
          -6.845193386077881,
          -7.8902668952941895,
          2.3775243759155273,
          -3.113166332244873,
          1.1259528398513794,
          2.489563465118408,
          -6.0586466789245605,
          -3.0229036808013916,
          4.634363174438477,
          -5.184179782867432,
          -0.6848121285438538,
          4.824599266052246,
          9.65239143371582,
          0.7536017298698425,
          -12.21684455871582,
          -0.546053946018219,
          -2.707618474960327,
          -6.577017307281494,
          -13.087274551391602,
          5.187011241912842,
          0.5988104343414307,
          -7.586901664733887,
          4.7283830642700195,
          10.217151641845703,
          8.198615074157715,
          -5.9060211181640625,
          9.117376327514648,
          0.2631379961967468,
          -6.533929824829102,
          3.970838785171509,
          -4.428970813751221,
          8.532233238220215,
          -7.609787940979004,
          1.1199740171432495,
          3.459153175354004,
          -0.0004409348184708506,
          -3.938943386077881,
          4.690160751342773,
          3.1936657428741455,
          4.207690238952637,
          2.498680830001831,
          -2.062556505203247,
          0.35142025351524353,
          6.733325958251953,
          5.925660133361816,
          1.8349460363388062,
          -6.719890117645264,
          -8.891389846801758,
          9.781841278076172,
          -9.740220069885254,
          4.993247985839844,
          -8.294757843017578,
          -5.597461700439453,
          3.144224166870117,
          8.874526977539062,
          -8.735872268676758,
          -2.634901523590088,
          4.003428936004639,
          7.167989253997803,
          -0.5676890015602112,
          1.669134259223938,
          9.162835121154785,
          3.6153273582458496,
          6.318914413452148,
          -4.209277153015137,
          5.243463516235352,
          -0.34869280457496643,
          -1.7266385555267334,
          -10.2905855178833,
          -7.078274250030518,
          0.5251344442367554,
          4.449993133544922,
          -11.06615924835205,
          4.203384876251221,
          -6.1674017906188965,
          5.230162620544434,
          -6.436984539031982,
          -9.656601905822754,
          0.9557080268859863,
          -6.134967803955078,
          4.77822732925415,
          3.034885883331299,
          6.072329998016357,
          -5.096418380737305,
          7.021933078765869,
          5.172165870666504,
          -6.312453269958496,
          -6.670052528381348,
          6.626164436340332,
          6.191213607788086,
          -3.2000348567962646,
          -3.480537176132202,
          4.449077606201172,
          7.374928951263428,
          2.8741238117218018,
          7.348805904388428,
          -11.374095916748047,
          -9.273245811462402,
          0.4837096333503723,
          5.692273139953613,
          -8.005005836486816,
          0.4842417538166046,
          -6.4554243087768555,
          4.5733537673950195,
          3.6854231357574463
         ]
        }
       ],
       "layout": {
        "coloraxis": {
         "colorbar": {
          "title": {
           "text": "Label"
          }
         },
         "colorscale": [
          [
           0,
           "#0d0887"
          ],
          [
           0.1111111111111111,
           "#46039f"
          ],
          [
           0.2222222222222222,
           "#7201a8"
          ],
          [
           0.3333333333333333,
           "#9c179e"
          ],
          [
           0.4444444444444444,
           "#bd3786"
          ],
          [
           0.5555555555555556,
           "#d8576b"
          ],
          [
           0.6666666666666666,
           "#ed7953"
          ],
          [
           0.7777777777777778,
           "#fb9f3a"
          ],
          [
           0.8888888888888888,
           "#fdca26"
          ],
          [
           1,
           "#f0f921"
          ]
         ]
        },
        "height": 800,
        "legend": {
         "tracegroupgap": 0
        },
        "scene": {
         "domain": {
          "x": [
           0,
           1
          ],
          "y": [
           0,
           1
          ]
         },
         "xaxis": {
          "title": {
           "text": "0"
          }
         },
         "yaxis": {
          "title": {
           "text": "1"
          }
         },
         "zaxis": {
          "title": {
           "text": "2"
          }
         }
        },
        "template": {
         "data": {
          "bar": [
           {
            "error_x": {
             "color": "#2a3f5f"
            },
            "error_y": {
             "color": "#2a3f5f"
            },
            "marker": {
             "line": {
              "color": "#E5ECF6",
              "width": 0.5
             }
            },
            "type": "bar"
           }
          ],
          "barpolar": [
           {
            "marker": {
             "line": {
              "color": "#E5ECF6",
              "width": 0.5
             }
            },
            "type": "barpolar"
           }
          ],
          "carpet": [
           {
            "aaxis": {
             "endlinecolor": "#2a3f5f",
             "gridcolor": "white",
             "linecolor": "white",
             "minorgridcolor": "white",
             "startlinecolor": "#2a3f5f"
            },
            "baxis": {
             "endlinecolor": "#2a3f5f",
             "gridcolor": "white",
             "linecolor": "white",
             "minorgridcolor": "white",
             "startlinecolor": "#2a3f5f"
            },
            "type": "carpet"
           }
          ],
          "choropleth": [
           {
            "colorbar": {
             "outlinewidth": 0,
             "ticks": ""
            },
            "type": "choropleth"
           }
          ],
          "contour": [
           {
            "colorbar": {
             "outlinewidth": 0,
             "ticks": ""
            },
            "colorscale": [
             [
              0,
              "#0d0887"
             ],
             [
              0.1111111111111111,
              "#46039f"
             ],
             [
              0.2222222222222222,
              "#7201a8"
             ],
             [
              0.3333333333333333,
              "#9c179e"
             ],
             [
              0.4444444444444444,
              "#bd3786"
             ],
             [
              0.5555555555555556,
              "#d8576b"
             ],
             [
              0.6666666666666666,
              "#ed7953"
             ],
             [
              0.7777777777777778,
              "#fb9f3a"
             ],
             [
              0.8888888888888888,
              "#fdca26"
             ],
             [
              1,
              "#f0f921"
             ]
            ],
            "type": "contour"
           }
          ],
          "contourcarpet": [
           {
            "colorbar": {
             "outlinewidth": 0,
             "ticks": ""
            },
            "type": "contourcarpet"
           }
          ],
          "heatmap": [
           {
            "colorbar": {
             "outlinewidth": 0,
             "ticks": ""
            },
            "colorscale": [
             [
              0,
              "#0d0887"
             ],
             [
              0.1111111111111111,
              "#46039f"
             ],
             [
              0.2222222222222222,
              "#7201a8"
             ],
             [
              0.3333333333333333,
              "#9c179e"
             ],
             [
              0.4444444444444444,
              "#bd3786"
             ],
             [
              0.5555555555555556,
              "#d8576b"
             ],
             [
              0.6666666666666666,
              "#ed7953"
             ],
             [
              0.7777777777777778,
              "#fb9f3a"
             ],
             [
              0.8888888888888888,
              "#fdca26"
             ],
             [
              1,
              "#f0f921"
             ]
            ],
            "type": "heatmap"
           }
          ],
          "heatmapgl": [
           {
            "colorbar": {
             "outlinewidth": 0,
             "ticks": ""
            },
            "colorscale": [
             [
              0,
              "#0d0887"
             ],
             [
              0.1111111111111111,
              "#46039f"
             ],
             [
              0.2222222222222222,
              "#7201a8"
             ],
             [
              0.3333333333333333,
              "#9c179e"
             ],
             [
              0.4444444444444444,
              "#bd3786"
             ],
             [
              0.5555555555555556,
              "#d8576b"
             ],
             [
              0.6666666666666666,
              "#ed7953"
             ],
             [
              0.7777777777777778,
              "#fb9f3a"
             ],
             [
              0.8888888888888888,
              "#fdca26"
             ],
             [
              1,
              "#f0f921"
             ]
            ],
            "type": "heatmapgl"
           }
          ],
          "histogram": [
           {
            "marker": {
             "colorbar": {
              "outlinewidth": 0,
              "ticks": ""
             }
            },
            "type": "histogram"
           }
          ],
          "histogram2d": [
           {
            "colorbar": {
             "outlinewidth": 0,
             "ticks": ""
            },
            "colorscale": [
             [
              0,
              "#0d0887"
             ],
             [
              0.1111111111111111,
              "#46039f"
             ],
             [
              0.2222222222222222,
              "#7201a8"
             ],
             [
              0.3333333333333333,
              "#9c179e"
             ],
             [
              0.4444444444444444,
              "#bd3786"
             ],
             [
              0.5555555555555556,
              "#d8576b"
             ],
             [
              0.6666666666666666,
              "#ed7953"
             ],
             [
              0.7777777777777778,
              "#fb9f3a"
             ],
             [
              0.8888888888888888,
              "#fdca26"
             ],
             [
              1,
              "#f0f921"
             ]
            ],
            "type": "histogram2d"
           }
          ],
          "histogram2dcontour": [
           {
            "colorbar": {
             "outlinewidth": 0,
             "ticks": ""
            },
            "colorscale": [
             [
              0,
              "#0d0887"
             ],
             [
              0.1111111111111111,
              "#46039f"
             ],
             [
              0.2222222222222222,
              "#7201a8"
             ],
             [
              0.3333333333333333,
              "#9c179e"
             ],
             [
              0.4444444444444444,
              "#bd3786"
             ],
             [
              0.5555555555555556,
              "#d8576b"
             ],
             [
              0.6666666666666666,
              "#ed7953"
             ],
             [
              0.7777777777777778,
              "#fb9f3a"
             ],
             [
              0.8888888888888888,
              "#fdca26"
             ],
             [
              1,
              "#f0f921"
             ]
            ],
            "type": "histogram2dcontour"
           }
          ],
          "mesh3d": [
           {
            "colorbar": {
             "outlinewidth": 0,
             "ticks": ""
            },
            "type": "mesh3d"
           }
          ],
          "parcoords": [
           {
            "line": {
             "colorbar": {
              "outlinewidth": 0,
              "ticks": ""
             }
            },
            "type": "parcoords"
           }
          ],
          "pie": [
           {
            "automargin": true,
            "type": "pie"
           }
          ],
          "scatter": [
           {
            "marker": {
             "colorbar": {
              "outlinewidth": 0,
              "ticks": ""
             }
            },
            "type": "scatter"
           }
          ],
          "scatter3d": [
           {
            "line": {
             "colorbar": {
              "outlinewidth": 0,
              "ticks": ""
             }
            },
            "marker": {
             "colorbar": {
              "outlinewidth": 0,
              "ticks": ""
             }
            },
            "type": "scatter3d"
           }
          ],
          "scattercarpet": [
           {
            "marker": {
             "colorbar": {
              "outlinewidth": 0,
              "ticks": ""
             }
            },
            "type": "scattercarpet"
           }
          ],
          "scattergeo": [
           {
            "marker": {
             "colorbar": {
              "outlinewidth": 0,
              "ticks": ""
             }
            },
            "type": "scattergeo"
           }
          ],
          "scattergl": [
           {
            "marker": {
             "colorbar": {
              "outlinewidth": 0,
              "ticks": ""
             }
            },
            "type": "scattergl"
           }
          ],
          "scattermapbox": [
           {
            "marker": {
             "colorbar": {
              "outlinewidth": 0,
              "ticks": ""
             }
            },
            "type": "scattermapbox"
           }
          ],
          "scatterpolar": [
           {
            "marker": {
             "colorbar": {
              "outlinewidth": 0,
              "ticks": ""
             }
            },
            "type": "scatterpolar"
           }
          ],
          "scatterpolargl": [
           {
            "marker": {
             "colorbar": {
              "outlinewidth": 0,
              "ticks": ""
             }
            },
            "type": "scatterpolargl"
           }
          ],
          "scatterternary": [
           {
            "marker": {
             "colorbar": {
              "outlinewidth": 0,
              "ticks": ""
             }
            },
            "type": "scatterternary"
           }
          ],
          "surface": [
           {
            "colorbar": {
             "outlinewidth": 0,
             "ticks": ""
            },
            "colorscale": [
             [
              0,
              "#0d0887"
             ],
             [
              0.1111111111111111,
              "#46039f"
             ],
             [
              0.2222222222222222,
              "#7201a8"
             ],
             [
              0.3333333333333333,
              "#9c179e"
             ],
             [
              0.4444444444444444,
              "#bd3786"
             ],
             [
              0.5555555555555556,
              "#d8576b"
             ],
             [
              0.6666666666666666,
              "#ed7953"
             ],
             [
              0.7777777777777778,
              "#fb9f3a"
             ],
             [
              0.8888888888888888,
              "#fdca26"
             ],
             [
              1,
              "#f0f921"
             ]
            ],
            "type": "surface"
           }
          ],
          "table": [
           {
            "cells": {
             "fill": {
              "color": "#EBF0F8"
             },
             "line": {
              "color": "white"
             }
            },
            "header": {
             "fill": {
              "color": "#C8D4E3"
             },
             "line": {
              "color": "white"
             }
            },
            "type": "table"
           }
          ]
         },
         "layout": {
          "annotationdefaults": {
           "arrowcolor": "#2a3f5f",
           "arrowhead": 0,
           "arrowwidth": 1
          },
          "coloraxis": {
           "colorbar": {
            "outlinewidth": 0,
            "ticks": ""
           }
          },
          "colorscale": {
           "diverging": [
            [
             0,
             "#8e0152"
            ],
            [
             0.1,
             "#c51b7d"
            ],
            [
             0.2,
             "#de77ae"
            ],
            [
             0.3,
             "#f1b6da"
            ],
            [
             0.4,
             "#fde0ef"
            ],
            [
             0.5,
             "#f7f7f7"
            ],
            [
             0.6,
             "#e6f5d0"
            ],
            [
             0.7,
             "#b8e186"
            ],
            [
             0.8,
             "#7fbc41"
            ],
            [
             0.9,
             "#4d9221"
            ],
            [
             1,
             "#276419"
            ]
           ],
           "sequential": [
            [
             0,
             "#0d0887"
            ],
            [
             0.1111111111111111,
             "#46039f"
            ],
            [
             0.2222222222222222,
             "#7201a8"
            ],
            [
             0.3333333333333333,
             "#9c179e"
            ],
            [
             0.4444444444444444,
             "#bd3786"
            ],
            [
             0.5555555555555556,
             "#d8576b"
            ],
            [
             0.6666666666666666,
             "#ed7953"
            ],
            [
             0.7777777777777778,
             "#fb9f3a"
            ],
            [
             0.8888888888888888,
             "#fdca26"
            ],
            [
             1,
             "#f0f921"
            ]
           ],
           "sequentialminus": [
            [
             0,
             "#0d0887"
            ],
            [
             0.1111111111111111,
             "#46039f"
            ],
            [
             0.2222222222222222,
             "#7201a8"
            ],
            [
             0.3333333333333333,
             "#9c179e"
            ],
            [
             0.4444444444444444,
             "#bd3786"
            ],
            [
             0.5555555555555556,
             "#d8576b"
            ],
            [
             0.6666666666666666,
             "#ed7953"
            ],
            [
             0.7777777777777778,
             "#fb9f3a"
            ],
            [
             0.8888888888888888,
             "#fdca26"
            ],
            [
             1,
             "#f0f921"
            ]
           ]
          },
          "colorway": [
           "#636efa",
           "#EF553B",
           "#00cc96",
           "#ab63fa",
           "#FFA15A",
           "#19d3f3",
           "#FF6692",
           "#B6E880",
           "#FF97FF",
           "#FECB52"
          ],
          "font": {
           "color": "#2a3f5f"
          },
          "geo": {
           "bgcolor": "white",
           "lakecolor": "white",
           "landcolor": "#E5ECF6",
           "showlakes": true,
           "showland": true,
           "subunitcolor": "white"
          },
          "hoverlabel": {
           "align": "left"
          },
          "hovermode": "closest",
          "mapbox": {
           "style": "light"
          },
          "paper_bgcolor": "white",
          "plot_bgcolor": "#E5ECF6",
          "polar": {
           "angularaxis": {
            "gridcolor": "white",
            "linecolor": "white",
            "ticks": ""
           },
           "bgcolor": "#E5ECF6",
           "radialaxis": {
            "gridcolor": "white",
            "linecolor": "white",
            "ticks": ""
           }
          },
          "scene": {
           "xaxis": {
            "backgroundcolor": "#E5ECF6",
            "gridcolor": "white",
            "gridwidth": 2,
            "linecolor": "white",
            "showbackground": true,
            "ticks": "",
            "zerolinecolor": "white"
           },
           "yaxis": {
            "backgroundcolor": "#E5ECF6",
            "gridcolor": "white",
            "gridwidth": 2,
            "linecolor": "white",
            "showbackground": true,
            "ticks": "",
            "zerolinecolor": "white"
           },
           "zaxis": {
            "backgroundcolor": "#E5ECF6",
            "gridcolor": "white",
            "gridwidth": 2,
            "linecolor": "white",
            "showbackground": true,
            "ticks": "",
            "zerolinecolor": "white"
           }
          },
          "shapedefaults": {
           "line": {
            "color": "#2a3f5f"
           }
          },
          "ternary": {
           "aaxis": {
            "gridcolor": "white",
            "linecolor": "white",
            "ticks": ""
           },
           "baxis": {
            "gridcolor": "white",
            "linecolor": "white",
            "ticks": ""
           },
           "bgcolor": "#E5ECF6",
           "caxis": {
            "gridcolor": "white",
            "linecolor": "white",
            "ticks": ""
           }
          },
          "title": {
           "x": 0.05
          },
          "xaxis": {
           "automargin": true,
           "gridcolor": "white",
           "linecolor": "white",
           "ticks": "",
           "title": {
            "standoff": 15
           },
           "zerolinecolor": "white",
           "zerolinewidth": 2
          },
          "yaxis": {
           "automargin": true,
           "gridcolor": "white",
           "linecolor": "white",
           "ticks": "",
           "title": {
            "standoff": 15
           },
           "zerolinecolor": "white",
           "zerolinewidth": 2
          }
         }
        },
        "title": {
         "text": "3d TSNE Plot for Outliers"
        },
        "width": 900
       }
      },
      "text/html": [
       "<div>\n",
       "        \n",
       "        \n",
       "            <div id=\"ebb01133-609c-4384-a02f-c6872dc62f36\" class=\"plotly-graph-div\" style=\"height:800px; width:900px;\"></div>\n",
       "            <script type=\"text/javascript\">\n",
       "                require([\"plotly\"], function(Plotly) {\n",
       "                    window.PLOTLYENV=window.PLOTLYENV || {};\n",
       "                    \n",
       "                if (document.getElementById(\"ebb01133-609c-4384-a02f-c6872dc62f36\")) {\n",
       "                    Plotly.newPlot(\n",
       "                        'ebb01133-609c-4384-a02f-c6872dc62f36',\n",
       "                        [{\"customdata\": [[0.263995357], [0.546092303], [0.33671410399999996], [0.092107835], [0.325261175], [0.212464853], [0.258565714], [0.869236755], [0.197077957], [0.292984504], [0.82178316], [0.796622959], [0.045577010999999994], [0.613660351], [0.9507445659999999], [0.33634633700000005], [0.034440667], [0.741544275], [0.18443265], [0.664514943], [0.16282485800000002], [0.729838445], [0.62837389], [0.057883660999999996], [0.445534827], [0.80183695], [0.27709612], [0.228634015], [0.834860657], [0.6697665110000001], [0.532527349], [0.17045907100000002], [0.5102884679999999], [0.977561989], [0.249775993], [0.9755006820000001], [0.613701727], [0.16742036300000002], [0.537472516], [0.379899131], [0.633897303], [0.633960424], [0.5499746529999999], [0.178172988], [0.85563814], [0.321796672], [0.8174905370000001], [0.254879417], [0.344140513], [0.8061457259999999], [0.27708167100000003], [0.544328519], [0.07708393], [0.273081458], [0.390877336], [0.349621385], [0.214549744], [0.206075222], [0.86461997], [0.9817088540000001], [0.33482964600000004], [0.648387061], [0.093643561], [0.837802698], [0.7603439670000001], [0.29140417399999996], [0.3413454], [0.7611124840000001], [0.541899775], [0.684176639], [0.983535597], [0.52081245], [0.328227724], [0.09715793800000001], [0.876088593], [0.870214512], [0.656086992], [0.306791514], [0.48126734], [0.259559174], [0.326123655], [0.930568042], [0.6583894], [0.689992335], [0.315781109], [0.5669050929999999], [0.637526619], [0.687540723], [0.324300602], [0.592704906], [0.7402531259999999], [0.5940328770000001], [0.596452977], [0.27768081699999997], [0.258329663], [0.142460864], [0.435533461], [0.7024990440000001], [0.58897535], [0.653304374], [0.336968524], [0.631244736], [0.73530076], [0.050390366], [0.064264924], [0.665359476], [0.917835245], [0.44651012], [0.661938199], [0.43935985299999997], [0.6875724040000001], [0.363462248], [0.6542621820000001], [0.578553536], [0.065927945], [0.550148559], [0.13918281400000002], [0.080004635], [0.278228358], [0.560124266], [0.53639864], [0.42653190399999996], [0.789109796], [0.742900474], [0.901692589], [0.650337401], [0.114057311], [0.260812592], [0.43991232], [0.964409284], [0.184401415], [0.345145446], [0.17589458100000002], [0.312514453], [0.674131879], [0.32825045], [0.598231057], [0.09259881699999999], [0.497916521], [0.419776521], [0.31217670000000003], [0.937857107], [0.049030963], [0.47610452600000003], [0.447397526], [0.295806058], [0.737363977], [0.625896253], [0.408813429], [0.437511156], [0.691351375], [0.935555275], [0.437846654], [0.072217715], [0.67636067], [0.468883999], [0.543820644], [0.6555226470000001], [0.6935289240000001], [0.10887831199999999], [0.285463743], [0.0], [0.706495497], [0.273530633], [0.292320271], [0.673984307], [0.12612182800000002], [0.9467074590000001], [0.9363388979999999], [0.8537553640000001], [0.7060713609999999], [0.693682186], [0.508527882], [0.34717038899999997], [0.704154263], [0.658730088], [0.155841557], [0.311085435], [0.281135347], [0.094587802], [0.6832609540000001], [0.9077292509999999], [0.29151267399999997], [0.752734459], [0.93482964], [0.071413953], [0.5948963270000001], [0.404672015], [0.13837621], [0.7473384679999999], [0.530882486], [0.282649594], [0.699335734], [0.056111250999999994], [0.855234998], [0.07789512700000001], [0.891649583], [0.38674227899999997], [0.27113158], [0.958888961], [0.085120869], [0.5269022489999999], [0.066577785], [0.841506738], [0.255342095], [0.060545771], [0.073385869], [0.187493723], [0.858365688], [0.090640352], [0.7097252270000001], [0.631300647], [0.24750447399999997], [0.822843584], [0.373476759], [0.625538582], [0.292951715], [0.299730324], [0.25121407], [0.344480551], [0.293064767], [0.7628032240000001], [0.7384708040000001], [0.674883265], [0.719151612], [0.13098021599999998], [0.511328036], [0.04492903], [0.560914449], [0.7440406409999999], [0.266961634], [0.644231853], [0.038113352], [0.05715529900000001], [0.34139246100000004], [0.7204636320000001], [0.402878236], [0.635148967], [0.320729467], [0.09120969400000001], [0.23414609], [0.8902211309999999], [0.602170884], [0.633652055], [0.806240837], [0.739731184], [0.465231269], [0.7321109], [0.373874305], [0.501587947], [0.11538315800000001], [0.7319466040000001], [0.41829872799999995], [0.062259590999999996], [0.391496379], [0.35984929], [0.24523562699999998], [0.610028339], [0.43540360200000006], [0.434309675], [0.523763344], [0.17118786600000002], [0.18773430300000002], [0.945014638], [0.027851097000000002], [0.68445706], [0.178014532], [0.643427879], [0.59588355], [0.372361682], [0.586103584], [0.271658852], [0.59951107], [0.468363088], [0.314515565], [0.21893726], [0.254716562], [0.25612815], [0.602259755], [0.134381075], [0.513887424], [0.624241636], [0.160251854], [0.580708108], [0.270540486], [0.832919932], [0.93032134], [0.719157884], [0.886720033], [0.098792281], [0.787174286], [0.365592376], [0.719576193], [0.8058956], [0.7555783340000001], [0.526005909], [0.68880424], [0.22111531199999998], [0.739369477], [0.408440236], [0.348926542], [0.433713763], [0.5964966070000001], [0.6942953000000001], [0.7090309659999999], [0.867652984], [0.89332545], [0.746020922], [0.538284443], [0.8922193140000001], [0.935175765], [0.260527707], [0.956780449], [0.204932484], [0.687733351], [0.329063619], [0.632149831], [0.463744506], [0.698859621], [0.385446564], [0.47997537700000004], [0.732279108], [0.3813543], [0.459326013], [0.257401434], [0.665014804], [0.103399542], [0.425284413], [0.943529051], [0.594750236], [0.543776817], [0.18203988], [0.23584208399999998], [0.585984497], [0.762013168], [0.6849829070000001], [0.676936933], [0.290184964], [0.48106822200000005], [0.492766033], [0.22185623399999999], [0.053875998], [0.082751144], [0.385366225], [0.702513961], [0.91553156], [0.082087436], [0.251280378], [0.41672181700000005], [0.277032672], [0.579539754], [0.569363476], [0.133399703], [0.265045463], [0.936571901], [0.252618554], [0.054033081], [0.802481439], [0.528197693], [0.9515026], [0.572121173], [0.752938227], [0.143857535], [0.513484576], [0.313322389], [0.6877973959999999], [0.37705984], [0.348226142], [0.67763282], [0.24138752100000002], [0.8506501790000001], [0.22034810300000002], [0.476445464], [0.690324025], [0.364695946], [0.6492491970000001], [0.9437019209999999], [0.529645971], [0.299097002], [0.96696247], [0.272005242], [0.314161447], [0.752020991], [0.221882453], [0.7203326729999999], [0.379204782], [0.60168653], [0.582932673], [0.950809853], [0.58830141], [0.880887227], [0.467857701], [0.8799021709999999], [0.619844009], [0.359002573], [0.291511278], [0.694157143], [0.727960353], [0.617703921], [0.39581257], [0.58317282], [0.710332374], [0.253753693], [0.049412227999999996], [0.728378695], [0.432432881], [0.58612345], [0.052342373], [0.053483902], [0.518729378], [0.933040208], [0.7035542840000001], [0.268989899], [0.733006927], [0.44435246700000003], [0.5833946210000001], [0.871172692], [0.42876707799999997], [0.30046084100000003], [0.9533294590000001], [0.606443965], [0.90986815], [0.714896449], [0.49734950899999997], [0.8530974859999999], [0.721804145], [0.303467328], [0.664485096], [0.27978062], [0.569481665], [0.628628926], [0.088368123], [0.733567326], [0.537436778], [0.638593691], [0.954726948], [0.632202332], [0.642134651], [0.744653087], [0.115714007], [0.48625007299999995], [0.440356144], [0.08272289], [0.511591027], [0.394627555], [0.224394], [0.626927584], [0.290254057], [0.779008053], [0.86610579], [0.873326081], [0.49548916], [0.594297695], [0.9182015840000001], [0.5770427539999999], [0.019467671000000002], [0.6702982820000001], [0.546595316], [0.591665146], [0.42155819], [0.6856085590000001], [0.340303024], [0.675626741], [0.319067345], [0.38849966399999997], [0.706949589], [0.559409515], [0.687663508], [0.7088045540000001], [0.6818880940000001], [0.42253510899999996], [0.320004605], [0.6582813679999999], [0.634154867], [0.7773320090000001], [0.812677205], [0.074280797], [0.39600217], [0.054933913], [0.825058925], [0.382642009], [0.8687298179999999], [0.588043346], [0.891551577], [0.10920046], [0.647682781], [0.724342512], [0.07016304400000001], [0.280882054], [0.039113261], [0.579641592], [0.639000922], [0.281745925], [0.647857744], [0.6479057970000001], [0.875226264], [0.567603305], [0.262940591], [0.268026042], [0.40519133], [0.479965451], [0.33552403], [0.777165379], [0.42548796299999997], [0.237986115], [0.142522971], [0.724176488], [0.234698933], [0.07818228099999999], [0.855990155], [0.270251765], [0.435517841], [0.762697513], [0.46448725799999996], [0.396112685], [0.37638092100000003], [0.29459467699999997], [0.6944921209999999], [0.622767949], [0.8475597220000001], [0.301463054], [0.912937812], [0.500017182], [0.902587935], [0.304517943], [0.299165673], [0.092014087], [0.488548917], [0.664664437], [0.26534954899999996], [0.723657021], [0.149262385], [0.04577339], [0.69661064], [0.42181486], [0.733845785], [0.418795386], [0.677443529], [0.26128360300000003], [0.268527767], [0.5443222360000001], [0.431632036], [0.981018141], [0.21498072399999998], [0.39472999299999995], [0.122224944], [0.297496875], [0.37490443100000004], [0.68698771], [0.388549207], [0.039296071], [0.73553424], [0.37929489299999997], [0.7321233859999999], [0.33922143899999996], [0.659450594], [0.054838642], [0.640112102], [0.30714170399999996], [0.39661190700000004], [0.420439161], [0.24171497399999997], [0.065893153], [0.9105219370000001], [0.697163103], [0.072559853], [0.81825094], [0.311888815], [0.961644609], [0.816325524], [0.14647302], [0.548753945], [0.946158087], [0.293992717], [0.331479643], [0.9062200309999999], [0.525540416], [0.83301411], [0.514849806], [0.574609024], [0.46871185299999996], [0.71002775], [0.645973276], [0.229794416], [0.551783393], [0.055822990999999995], [0.331750941], [0.715520198], [0.583924357], [0.30695769100000003], [0.7914782370000001], [0.16423663900000002], [0.065711219], [0.948993132], [0.080423835], [0.052495426], [0.566346135], [0.3630266], [0.605442195], [0.6308505839999999], [0.065791238], [0.28681707100000003], [0.685462839], [0.260853706], [0.659122429], [0.44317392200000005], [0.602063986], [0.060366910999999995], [0.781903153], [0.5145798070000001], [0.48388621299999995], [0.600213807], [0.49736405200000006], [0.411145245], [0.116999171], [0.34189014100000004], [0.746950848], [0.39629274600000003], [0.6221438429999999], [0.335271141], [0.140257137], [0.081620681], [0.069837569], [0.46894000799999996], [0.9908574170000001], [0.896616832], [0.255310561], [0.22464526699999998], [0.01991825], [0.296480415], [0.155458996], [0.577916714], [0.9563030309999999], [0.813464394], [0.529675785], [0.287671353], [0.48039136], [0.28104482199999997], [0.633196521], [0.09332537699999999], [0.28447398100000004], [0.052223775], [0.051129385], [0.967405608], [0.040045727999999996], [0.9085829209999999], [0.6621174160000001], [0.42470320899999997], [0.72207806], [0.666193327], [0.509681253], [0.7513536209999999], [0.279073124], [0.074927], [0.916359535], [0.31040327], [0.716604052], [0.485587085], [0.30607518100000003], [0.477558204], [0.7119239409999999], [0.066348638], [0.27453935100000004], [0.31082252], [0.47607312700000004], [0.186795565], [0.26654207], [0.070231142], [0.26951927], [0.800004713], [0.27363366699999997], [0.14647919199999998], [0.378318951], [0.373849065], [0.242170835], [0.249796488], [0.066591188], [0.372956798], [0.501812291], [0.313097752], [0.8802021959999999], [0.51981893], [0.364138746], [0.49268289600000004], [0.285732652], [0.890114985], [0.316419561], [0.26866354], [0.771975959], [0.968888992], [0.080334377], [0.7368282209999999], [0.30055807100000004], [0.9179503929999999], [0.465815039], [0.054036682], [0.963150123], [0.08965350300000001], [0.7076932340000001], [0.636416037], [0.539521117], [0.114757161], [0.357312419], [0.67639834], [0.43482839], [0.032326387000000005], [0.711365605], [0.187486519], [0.052789653], [0.5058636129999999], [0.927431873], [0.6809842559999999], [0.882822186], [0.495705441], [0.596240398], [0.320610701], [0.3413685], [0.159681797], [0.318133669], [0.8393010479999999], [0.06435925099999999], [0.470216633], [0.7762522909999999], [0.635843383], [0.62510543], [0.52959065], [0.986900166], [0.078585688], [0.233284267], [0.363330957], [0.7167169809999999], [0.37588979200000006], [0.223316889], [0.299343986], [0.538595767], [0.730297124], [0.66033077], [0.435296009], [0.326494313], [0.854402708], [0.5734938470000001], [0.757786135], [0.704743233], [0.281575597], [0.671968208], [0.313726015], [0.364338275], [0.368216396], [0.38629520700000003], [0.655971865], [0.5660252729999999], [0.424999093], [0.090110371], [0.772350538], [0.331047258], [0.273716188], [0.23877568], [0.37307977200000003], [0.331185868], [0.256134531], [0.678373225], [0.43463833799999996], [0.654668307], [0.986681065], [0.371520495], [0.408359618], [0.40932365], [0.283412082], [0.395246531], [0.010984428000000001], [0.306013869], [0.266194806], [0.299318521], [0.318293946], [0.74282591], [0.09766432900000001], [0.079666942], [0.613258767], [0.99443072], [0.568835082], [0.7080345159999999], [0.37059271899999996], [0.669867361], [0.651295625], [0.462531569], [0.7196256190000001], [0.45377248], [0.394863946], [0.323974831], [0.146454724], [0.7790670409999999], [0.401828915], [0.601479585], [0.856423023], [0.565242962], [0.301225108], [0.282108144], [0.594378011], [0.705312368], [0.5408696279999999], [0.319249574], [0.36176613799999996], [0.625000704], [0.316287401], [0.047239021], [0.801182233], [0.508474436], [0.8178934109999999], [0.399235601], [0.9740519990000001], [0.72241535], [0.039564764], [0.908684108], [0.47301013399999997], [0.7180496279999999], [0.7634790690000001], [0.6475965370000001], [0.8949973859999999], [0.22282590100000002], [0.359012234], [0.944910252], [0.297877816], [0.172517997], [0.556586265], [0.876481735], [0.48667784299999994], [0.459496733], [0.47412637700000004], [0.70101144], [0.337597387], [0.537578886], [0.966992448], [0.056849545], [0.233249065], [0.380054711], [0.602929443], [0.303847999], [0.170194553], [0.972168554], [0.332168927], [0.6887286890000001], [0.110773401], [0.273352065], [0.572939678], [0.491457065], [0.281389999], [0.821697261], [0.6749776829999999], [0.585134549], [0.7105961159999999], [0.040488789], [0.568054311], [0.321752928], [0.611850232], [0.926096887], [0.618347428], [0.667629785], [0.39773346600000004], [0.290875487], [0.594375103], [0.508255233], [0.338571357], [0.43230234700000003], [0.302221978], [0.87619819], [0.080204492], [0.092333532], [0.09365644699999999], [0.6084523510000001], [0.732654598], [0.944158855], [0.26742308], [0.731124201], [0.661308553], [0.38776626200000003], [0.962585273], [0.322067067], [0.6340810929999999], [0.475345002], [0.35355897299999994], [0.8859363159999999], [0.876798106], [0.221581064], [0.394362449], [0.8050356759999999], [0.452898486], [0.592520516], [0.761026394], [0.245049023], [0.37213936299999995], [0.681054822], [0.7471431479999999], [0.9207395290000001], [0.097207945], [0.699302998], [0.721647006], [0.5353561139999999], [0.738293805], [0.7064675509999999], [0.67395061], [0.7112122909999999], [0.302558708], [0.080097855], [0.707010837], [0.512248622], [0.659627472], [0.657559694], [0.100645606], [0.92665363], [0.892879338], [0.839157508], [0.890959718], [0.556754471], [0.960361937], [0.631037864], [0.029838065], [0.278843351], [0.926157705], [0.551504258], [0.485942349], [0.43723469600000003], [0.25231801800000003], [0.515466972], [0.43725229600000004], [0.493724207], [0.83324725], [0.317521477], [0.28623456199999997], [0.726833965], [0.495667033], [0.028645255], [0.31967191699999997], [0.674344598], [0.7660371890000001], [0.65456992], [0.7565143809999999], [0.528253719], [0.38971949100000003], [0.355087459], [0.87015202], [0.7390833059999999], [0.305761846], [0.411587673], [0.063633094], [0.735409395], [0.605916669], [0.539395562], [0.566183532], [0.674795186], [0.070993366], [0.12526410000000002], [0.279601492], [0.952174402], [0.233806762], [0.43724742899999997], [0.925423095], [0.433498634], [0.52517902], [0.088435529], [0.447677638], [0.647000631], [0.9036033370000001], [0.265790738], [0.66419695], [0.498120658], [0.49018894399999996], [0.747084187], [0.906783648], [0.678770917], [0.348599859], [0.294839683], [0.705691827], [0.211917931], [0.063201124], [0.276699543], [0.672459395], [0.8082059490000001], [0.296538373], [0.16012686199999998], [0.439385032], [0.555951416], [0.386240112], [0.158689619], [0.214499855], [0.299579429], [0.569161656], [0.488614799], [0.8782950209999999], [0.649380949], [0.465713341], [0.16813774], [0.87529545], [0.8411323409999999], [0.33292081], [0.5130478589999999], [0.30505507800000004], [0.8126269909999999], [0.25096706], [0.5024355779999999], [0.45799074100000003]], \"hoverlabel\": {\"namelength\": 0}, \"hovertemplate\": \"0=%{x}<br>1=%{y}<br>2=%{z}<br>Feature=%{customdata[0]}<br>Label=%{marker.color}\", \"legendgroup\": \"\", \"marker\": {\"color\": [0, 0, 1, 1, 0, 0, 0, 1, 1, 0, 0, 1, 0, 1, 1, 0, 0, 0, 1, 0, 1, 0, 0, 1, 1, 1, 0, 0, 1, 1, 0, 0, 0, 1, 1, 0, 0, 0, 0, 0, 0, 0, 0, 1, 0, 0, 0, 0, 0, 0, 1, 1, 0, 1, 0, 1, 0, 0, 0, 1, 0, 0, 1, 1, 1, 0, 1, 0, 0, 0, 0, 0, 0, 0, 0, 0, 0, 0, 0, 0, 0, 0, 0, 0, 0, 0, 0, 0, 0, 0, 0, 0, 0, 0, 0, 0, 0, 0, 0, 0, 0, 0, 0, 0, 0, 0, 0, 0, 0, 0, 0, 0, 0, 0, 0, 0, 0, 0, 0, 0, 0, 0, 0, 0, 0, 0, 0, 0, 0, 0, 1, 0, 0, 0, 0, 0, 1, 0, 0, 0, 0, 0, 0, 0, 0, 0, 0, 0, 0, 0, 0, 0, 0, 0, 0, 0, 0, 0, 0, 0, 0, 0, 0, 0, 0, 0, 0, 0, 0, 0, 0, 0, 0, 0, 0, 0, 0, 0, 0, 0, 0, 0, 0, 0, 0, 0, 0, 0, 0, 0, 0, 0, 0, 0, 0, 0, 0, 0, 0, 0, 0, 0, 0, 0, 0, 0, 0, 0, 0, 0, 0, 0, 0, 0, 0, 0, 0, 0, 0, 0, 0, 0, 0, 0, 0, 0, 0, 0, 0, 0, 0, 0, 0, 0, 0, 0, 0, 0, 0, 0, 0, 0, 0, 0, 0, 0, 0, 0, 0, 0, 0, 0, 0, 0, 0, 0, 0, 0, 0, 0, 0, 0, 0, 0, 0, 0, 0, 0, 0, 0, 0, 0, 0, 0, 0, 0, 0, 0, 0, 0, 0, 0, 0, 0, 0, 0, 0, 0, 0, 0, 0, 0, 0, 0, 0, 0, 0, 0, 0, 0, 0, 0, 0, 0, 0, 0, 0, 0, 0, 0, 0, 0, 0, 0, 0, 0, 0, 0, 0, 0, 0, 0, 0, 0, 0, 0, 0, 0, 0, 0, 0, 0, 0, 0, 0, 0, 0, 0, 0, 0, 0, 0, 0, 0, 0, 0, 0, 0, 0, 0, 0, 0, 0, 0, 0, 0, 0, 0, 0, 0, 0, 0, 0, 0, 0, 0, 0, 0, 0, 0, 0, 0, 0, 0, 0, 0, 0, 0, 0, 0, 0, 0, 0, 0, 0, 0, 0, 0, 0, 0, 0, 0, 0, 0, 0, 0, 0, 0, 0, 0, 0, 0, 0, 0, 0, 0, 0, 0, 0, 0, 0, 0, 1, 0, 0, 0, 0, 0, 0, 0, 0, 0, 0, 0, 0, 0, 0, 0, 0, 0, 0, 0, 0, 0, 0, 0, 0, 0, 0, 0, 0, 0, 0, 0, 0, 0, 0, 0, 0, 0, 0, 1, 0, 0, 0, 0, 0, 0, 0, 0, 0, 0, 0, 0, 0, 0, 0, 0, 0, 0, 0, 0, 0, 0, 0, 0, 0, 0, 0, 0, 0, 0, 0, 0, 0, 0, 0, 0, 0, 0, 0, 0, 0, 0, 0, 0, 0, 0, 0, 0, 0, 0, 0, 0, 0, 0, 0, 0, 0, 0, 0, 0, 0, 0, 0, 0, 0, 0, 0, 0, 0, 0, 0, 1, 0, 0, 0, 0, 0, 0, 0, 0, 0, 0, 0, 0, 0, 0, 0, 0, 0, 0, 0, 0, 0, 0, 0, 0, 0, 0, 0, 0, 0, 0, 0, 0, 0, 0, 0, 0, 0, 0, 0, 0, 0, 0, 0, 0, 0, 0, 0, 0, 0, 0, 0, 0, 0, 0, 0, 0, 0, 0, 0, 0, 0, 0, 0, 0, 0, 0, 0, 0, 0, 0, 0, 0, 0, 0, 0, 0, 0, 0, 0, 0, 0, 0, 0, 0, 0, 0, 0, 0, 0, 0, 0, 0, 0, 0, 0, 0, 0, 0, 0, 0, 0, 0, 0, 0, 0, 0, 0, 0, 0, 0, 0, 0, 0, 0, 0, 0, 0, 0, 0, 0, 0, 0, 0, 0, 0, 0, 0, 0, 0, 0, 0, 0, 0, 0, 0, 0, 0, 0, 0, 0, 0, 0, 0, 0, 0, 0, 1, 0, 0, 0, 0, 0, 0, 0, 0, 0, 0, 0, 0, 0, 0, 0, 0, 0, 0, 0, 0, 0, 0, 0, 0, 0, 0, 0, 0, 0, 1, 1, 0, 1, 0, 0, 0, 1, 1, 0, 1, 0, 1, 1, 0, 0, 0, 1, 1, 0, 1, 0, 1, 1, 1, 0, 0, 0, 1, 0, 0, 0, 0, 0, 0, 0, 0, 0, 0, 0, 0, 0, 0, 0, 0, 0, 0, 0, 0, 0, 0, 0, 0, 0, 0, 0, 0, 0, 0, 0, 0, 0, 0, 0, 0, 0, 0, 0, 0, 0, 0, 0, 0, 0, 0, 0, 0, 0, 0, 0, 0, 0, 0, 0, 0, 0, 0, 0, 0, 0, 1, 0, 0, 0, 0, 0, 0, 0, 0, 1, 0, 0, 0, 0, 0, 0, 0, 0, 0, 0, 0, 0, 0, 0, 0, 0, 0, 0, 0, 0, 0, 0, 0, 0, 0, 0, 0, 0, 0, 0, 0, 0, 0, 0, 0, 0, 0, 0, 0, 0, 0, 0, 0, 0, 0, 0, 0, 0, 0, 0, 0, 0, 0, 0, 0, 0, 0, 0, 0, 0, 0, 0, 0, 0, 0, 0, 0, 0, 0, 0, 0, 0, 0, 0, 0, 0, 0, 0, 0, 0, 0, 0, 0, 0, 0, 0, 0, 0, 0, 0, 0, 0, 0, 0, 0, 0, 0, 0, 0, 0, 0, 0, 0, 0, 0, 0, 0, 0, 0, 0, 0, 0, 0, 0, 0, 0, 0, 0, 0, 0, 0, 0, 0, 0, 0, 0, 0, 0, 0, 0, 0, 0, 0, 0, 0, 0, 0, 0, 0, 0, 0, 0, 0, 0, 0, 0, 0, 0, 0, 0, 0, 0, 1, 0, 0, 0, 0, 0, 0, 0, 0, 0, 0, 0, 0, 0, 0, 0, 0, 0, 0, 0, 0, 0, 0, 0, 0, 0, 0, 0, 0, 0, 0, 0, 0, 0, 0, 0, 0, 0, 0, 0, 0, 0, 0, 0, 0, 0, 0, 0], \"coloraxis\": \"coloraxis\", \"opacity\": 0.7, \"symbol\": \"circle\"}, \"mode\": \"markers\", \"name\": \"\", \"scene\": \"scene\", \"showlegend\": false, \"type\": \"scatter3d\", \"x\": [-5.172070503234863, 6.567863941192627, -11.08640193939209, 2.091864824295044, -11.475711822509766, 3.264720916748047, -0.035534366965293884, 6.189387321472168, 2.833822250366211, -6.302335262298584, 8.843596458435059, -11.106990814208984, 0.4838014245033264, -5.706056594848633, -2.906578540802002, -2.892908811569214, 0.5855433344841003, 9.007715225219727, -11.177383422851562, 1.680086612701416, 3.4111368656158447, -8.221807479858398, -6.348428249359131, 3.775348663330078, 1.0963383913040161, -7.133749008178711, -10.703300476074219, 1.1548118591308594, -3.1156749725341797, 0.5722289681434631, 2.393404722213745, 5.757721900939941, -4.940751075744629, -0.8643338680267334, 4.078719139099121, -6.605527400970459, 1.9032925367355347, 0.6994409561157227, -7.626889228820801, 4.582253932952881, 4.207766532897949, -0.6457563042640686, 5.252878665924072, -0.5509009957313538, -2.1351828575134277, -2.639202356338501, -1.4474977254867554, 3.4462573528289795, -10.990218162536621, 7.548726558685303, 4.566123008728027, -11.072874069213867, 1.0137022733688354, -2.718764543533325, 1.3687127828598022, 7.217099666595459, 5.567005157470703, 1.1738251447677612, -0.4205830991268158, -7.611582279205322, 3.420102834701538, 4.9716105461120605, -3.3118886947631836, -0.015196605585515499, 8.076876640319824, -1.3078508377075195, 7.6078338623046875, 1.4525322914123535, -10.053498268127441, 4.829071521759033, -0.8990634083747864, 2.6319026947021484, -8.549166679382324, 3.3032195568084717, -11.221236228942871, -6.07223653793335, -7.865767955780029, -1.1627470254898071, -10.858922004699707, -9.164412498474121, -8.570584297180176, -10.053001403808594, -6.814739227294922, 4.958174705505371, 3.00930118560791, 6.7602128982543945, 7.694077968597412, 5.434055805206299, 7.9464287757873535, -11.145432472229004, -7.924534320831299, 7.115289211273193, 5.344712734222412, 0.41472285985946655, 7.063421726226807, -3.3824782371520996, -0.6342672109603882, 7.55615234375, 2.7174060344696045, -7.095778465270996, -9.35645580291748, 5.657309532165527, 6.841932773590088, 0.7560370564460754, -1.270527720451355, -3.402876138687134, -0.585796594619751, 10.181900978088379, -12.109782218933105, -0.6706387400627136, -12.612716674804688, -10.163351058959961, 8.911805152893066, -4.926385402679443, -11.159360885620117, -11.604613304138184, 2.5991342067718506, 0.16745036840438843, 1.8355530500411987, 1.6047532558441162, -11.592034339904785, 7.712921142578125, 9.402300834655762, 6.118226051330566, -3.42293643951416, 6.242425441741943, 8.727066993713379, 1.8886463642120361, 3.4243552684783936, 7.1459736824035645, 6.7967119216918945, -0.3045770227909088, 3.923952579498291, 3.7621428966522217, 5.555448055267334, -5.359686374664307, -8.36709213256836, 1.3719457387924194, 4.461349010467529, 4.205993175506592, 4.098098278045654, -10.743670463562012, 1.0788222551345825, -8.777753829956055, 0.7768310308456421, -6.378955841064453, 6.453939437866211, 3.7844460010528564, 4.853758811950684, 1.0096126794815063, -12.886534690856934, -9.655137062072754, 9.74876880645752, 1.1405234336853027, -7.923469066619873, -0.0642082616686821, 8.144704818725586, 5.973703384399414, -9.21781063079834, 3.090428590774536, 2.2866384983062744, 3.1984682083129883, -12.937564849853516, -10.855917930603027, 2.1966805458068848, 6.676661014556885, 3.1998589038848877, -0.2831909954547882, -6.5747785568237305, -2.540858745574951, -0.9285538792610168, 7.686437129974365, 2.370340347290039, -10.128814697265625, 7.3243727684021, 6.083348751068115, 2.0752060413360596, -9.621450424194336, 5.031903266906738, 1.7143044471740723, 8.337053298950195, 5.439599514007568, 7.510748386383057, 2.5872058868408203, 0.6962034702301025, 1.7460108995437622, -1.4771432876586914, 6.309362411499023, -7.110428810119629, -9.968339920043945, 4.4803571701049805, -9.973540306091309, 7.395044326782227, -11.232715606689453, 5.499727725982666, 1.0604580640792847, 9.266888618469238, 10.968634605407715, -10.76695728302002, 8.094837188720703, 6.411534309387207, 2.847360610961914, 8.06633472442627, -7.087313175201416, -10.790292739868164, 5.878448963165283, -9.925113677978516, 6.855674743652344, 5.953778266906738, 2.5733642578125, 8.454665184020996, -2.5861823558807373, -2.4441263675689697, -11.995906829833984, 7.866129398345947, 7.422831058502197, 3.210538864135742, -0.9600857496261597, -1.9291434288024902, 4.651511192321777, -11.588933944702148, 7.507224082946777, -7.454753875732422, -12.361285209655762, 5.7907185554504395, -10.674518585205078, 5.850524425506592, -6.887347221374512, 5.37194299697876, -3.292832612991333, 1.7163145542144775, 5.535931587219238, 2.4425172805786133, 1.5647820234298706, 0.1930292695760727, 7.962435245513916, 1.8291155099868774, -9.134218215942383, 1.8980306386947632, -9.998947143554688, 7.190244674682617, 10.099019050598145, -7.364946365356445, 4.328770637512207, 4.729880332946777, 6.038036823272705, -6.267381191253662, -12.969744682312012, 5.2813825607299805, -7.080699920654297, 1.8361682891845703, 5.148255348205566, 2.347388982772827, 3.5962274074554443, -4.405348777770996, 4.188466548919678, -6.2035088539123535, 3.2624671459198, -3.3011348247528076, 0.5920276045799255, -8.209053993225098, 4.754883766174316, -10.658496856689453, 7.715260028839111, 0.5168110132217407, 4.5049214363098145, 1.6386966705322266, 5.125932693481445, -12.113411903381348, 12.308931350708008, 10.339630126953125, 5.9079132080078125, -8.114296913146973, -7.854930877685547, 2.1672720909118652, 4.222919940948486, -3.6316730976104736, -10.142460823059082, 9.405399322509766, -6.84268045425415, 5.39534854888916, -7.492600440979004, -5.591355323791504, -4.278894424438477, -10.456808090209961, 8.269755363464355, 4.420382499694824, 7.146971702575684, 4.588094711303711, -9.9829740524292, -12.203653335571289, 9.294132232666016, -0.7422466278076172, 7.420078277587891, 5.300570487976074, 6.092280864715576, 5.4298481941223145, -11.837191581726074, 1.4088175296783447, -5.651785373687744, 5.9143900871276855, 1.8928369283676147, -0.8962869048118591, 4.482458114624023, 3.3669142723083496, -11.026881217956543, 9.158479690551758, -11.407694816589355, 3.9082422256469727, 1.1919541358947754, 1.0066667795181274, 2.4942967891693115, 4.831089019775391, -9.279842376708984, 9.103947639465332, -7.306432723999023, -2.243168830871582, 2.305799722671509, -10.950947761535645, 7.593007564544678, 6.662261486053467, -7.170405387878418, 2.804752826690674, 4.448110103607178, -12.718088150024414, -7.401978492736816, 0.08221033215522766, 2.560356855392456, -4.533545017242432, 4.155167102813721, 4.848628997802734, -2.8158469200134277, 4.892191410064697, -1.9759083986282349, 6.004347801208496, -7.065213680267334, 6.059574127197266, -5.3484110832214355, -1.1020047664642334, -3.746555805206299, -6.4640069007873535, -6.34757661819458, 1.8002381324768066, 1.8236082792282104, 5.266348838806152, -5.548985004425049, 3.07829213142395, 4.1225409507751465, 2.190608024597168, -2.377422571182251, 4.418402671813965, -7.275052547454834, -0.10971785336732864, 5.901934623718262, 4.387650012969971, -5.994170665740967, 2.6835460662841797, 5.920022964477539, -2.8944294452667236, -7.608471393585205, 6.709813117980957, 7.950819492340088, 0.4323181211948395, 4.136443138122559, 2.8920507431030273, -13.054828643798828, -0.617458701133728, 2.112816095352173, 3.4957571029663086, 10.36707878112793, 6.532622814178467, 7.303709506988525, -8.908987998962402, -4.267800331115723, 2.693408727645874, 6.625617504119873, -12.271068572998047, 3.4467029571533203, 7.076157093048096, -9.45193862915039, 4.02227783203125, 3.187117338180542, -11.425783157348633, -7.896097660064697, 6.929854393005371, -0.869380533695221, -1.088046908378601, 0.08133596926927567, 8.082188606262207, -10.922919273376465, 6.126978397369385, -1.2552380561828613, -8.007225036621094, -9.159809112548828, 0.7172957062721252, 6.086187362670898, -3.310718059539795, 4.135210037231445, -6.850356578826904, -5.6982645988464355, 1.6503151655197144, 6.68512487411499, 2.2665200233459473, 6.323015213012695, 4.036364555358887, 4.252195358276367, -8.368634223937988, 2.1167163848876953, 3.763838052749634, 9.351869583129883, 5.78331184387207, -9.945374488830566, -0.8606168031692505, -2.9256153106689453, 8.725530624389648, 5.514507293701172, 7.11916971206665, 2.720984935760498, 2.6196815967559814, -5.419691562652588, -11.095723152160645, 8.837855339050293, 7.801663398742676, 5.201911449432373, -6.502786159515381, 5.203334808349609, 1.4747296571731567, 3.8686649799346924, -7.810909748077393, -7.280496120452881, -11.36401653289795, 0.9885246157646179, 4.506521701812744, 3.0692050457000732, -1.6445677280426025, 7.9252028465271, 1.642605185508728, -8.07632064819336, -12.195765495300293, -10.80289363861084, -4.142539024353027, -11.597146987915039, -10.999283790588379, -7.248137474060059, 6.462387561798096, 2.0951409339904785, -0.13313651084899902, 3.5140721797943115, -6.421730041503906, 6.842586994171143, 6.44655179977417, -8.673791885375977, 5.8392462730407715, -11.706515312194824, 8.152111053466797, 8.144917488098145, 6.770788669586182, -8.266430854797363, -10.902482032775879, -9.198655128479004, 7.492169380187988, -9.586562156677246, 6.404049873352051, -7.419255256652832, 4.14434289932251, -8.140880584716797, -12.104231834411621, 1.2323007583618164, 6.312799453735352, -7.1311140060424805, -11.244097709655762, -0.37119683623313904, 7.781050205230713, -6.419682025909424, 6.871345520019531, 4.994481563568115, 1.5943354368209839, 2.1546571254730225, -3.927903890609741, 4.406083106994629, 4.495020389556885, 5.699729919433594, 2.9541141986846924, -6.0068583488464355, 2.0794999599456787, -7.353428840637207, 8.577348709106445, -8.105484008789062, -5.587320327758789, -10.849167823791504, -12.717439651489258, 6.749510288238525, -0.11029405146837234, -1.6067943572998047, -7.395670413970947, 6.148251056671143, 9.89057731628418, 4.573567867279053, 2.671693801879883, -11.450434684753418, 4.637560844421387, 1.9979292154312134, -8.076162338256836, 8.11400032043457, -7.2818427085876465, -10.094378471374512, -10.48150634765625, 3.0464491844177246, -8.68833065032959, 4.5560760498046875, -11.085309982299805, 5.635837554931641, 10.314281463623047, -2.9741673469543457, -10.569591522216797, 4.229538917541504, 1.391736388206482, -10.532858848571777, 4.736577987670898, 10.10113525390625, -9.986726760864258, -5.151458263397217, -1.9521487951278687, -4.065280914306641, -2.45835280418396, 3.6095917224884033, -6.866218566894531, 1.9695979356765747, 6.9356608390808105, -8.451790809631348, 7.0465779304504395, -1.1160669326782227, 3.4480535984039307, 6.505441665649414, 6.353600025177002, 1.513279676437378, 8.38811206817627, -7.446979999542236, -1.215628981590271, 11.946274757385254, 5.176937580108643, 4.808351039886475, 6.003331661224365, 4.263197898864746, 4.512270927429199, 4.220637798309326, -5.373930931091309, 4.082843780517578, 5.39769172668457, -5.579675674438477, 1.152707815170288, -4.724464416503906, -9.631484985351562, -9.189631462097168, 4.208792209625244, 4.866762638092041, 3.475694179534912, -9.9346923828125, 1.2666393518447876, 4.3858561515808105, -7.981020450592041, -1.5975905656814575, 3.9623944759368896, 7.700575828552246, 3.2004969120025635, -9.302538871765137, 6.536769866943359, 2.359729766845703, 7.310030460357666, 7.985967636108398, -6.5667243003845215, 7.186379432678223, 4.938790321350098, -2.6715445518493652, 6.303512096405029, -0.044549111276865005, 2.872140407562256, 4.705740451812744, -4.946620941162109, -12.713369369506836, -10.088770866394043, -12.84729290008545, -4.952658653259277, 2.0148394107818604, 4.1343841552734375, -9.718158721923828, -7.8543829917907715, 8.12016487121582, 4.345052719116211, -0.6579620242118835, 7.199228763580322, 2.7154881954193115, 3.1393985748291016, 4.271760940551758, 3.404273748397827, 0.912058413028717, 4.23911190032959, -2.0296356678009033, 3.172520399093628, -7.319136142730713, 2.227829933166504, 6.2097601890563965, 3.951601266860962, 0.9702511429786682, 5.484004974365234, 4.3613457679748535, 2.9611523151397705, -3.8178958892822266, 2.3544554710388184, 5.001723289489746, -2.0091090202331543, -11.062125205993652, -10.76585578918457, -7.311004161834717, -6.543141841888428, 3.431358814239502, 9.309255599975586, 9.048365592956543, -2.5440335273742676, -8.117981910705566, 1.3729220628738403, 1.6200263500213623, 1.1583698987960815, 3.9137234687805176, -4.432370185852051, 2.9182353019714355, 2.2766592502593994, -12.079010963439941, 3.317584991455078, -7.991217136383057, -0.178146630525589, 10.27128791809082, -10.237531661987305, -5.96726655960083, -11.021166801452637, -1.3931947946548462, -0.4761587083339691, 1.7533780336380005, 8.237679481506348, 2.7666449546813965, -10.74163818359375, 2.635115385055542, 1.371335506439209, -10.133641242980957, -3.7732155323028564, -13.465201377868652, -7.702068328857422, -4.85667610168457, 1.7290362119674683, -7.715004920959473, 5.899349212646484, 6.298003196716309, 4.0447468757629395, 2.9345974922180176, 6.486624717712402, 4.191656589508057, -7.128760814666748, -4.6705322265625, 0.5353617072105408, -0.5649967789649963, 0.25714027881622314, 2.144972085952759, 3.9864251613616943, -5.845700263977051, 4.566091060638428, 1.910176157951355, 0.5412382483482361, 3.35194730758667, 11.172642707824707, 5.949650764465332, 4.819113731384277, -5.688413143157959, 1.5347970724105835, 1.4059662818908691, 2.940934896469116, 1.8687412738800049, 4.019942760467529, 7.433109283447266, 4.009487628936768, 3.84912109375, -6.074230194091797, 5.276487350463867, -6.975327968597412, 2.508859395980835, 1.7567213773727417, 5.735662937164307, -6.224562168121338, 4.179258823394775, 7.864306926727295, 0.0070597222074866295, -3.8383166790008545, 1.6700587272644043, -1.3771727085113525, 8.340068817138672, 8.391371726989746, 2.7546839714050293, -8.090190887451172, -10.581759452819824, -9.987013816833496, -2.026066303253174, 9.82475757598877, -12.12710189819336, -5.729544162750244, -3.144712209701538, -4.932907581329346, 6.9096784591674805, 6.646441459655762, 4.6203131675720215, 0.3043048679828644, -0.6899973750114441, -1.0826219320297241, 6.1501851081848145, -2.498298168182373, -7.093984603881836, -2.5013251304626465, 4.963238716125488, 3.4545655250549316, -2.528140068054199, -2.622572183609009, 8.85630989074707, -11.179028511047363, 4.445039749145508, 9.507421493530273, -11.063873291015625, 5.799941539764404, -4.865963935852051, 6.112743854522705, 2.1941590309143066, 3.6159815788269043, 4.071389198303223, 8.643031120300293, -8.51636028289795, 1.5025734901428223, -0.5727462768554688, 6.108397483825684, 8.34051513671875, -11.716647148132324, -12.10068130493164, -11.165080070495605, -3.0836448669433594, 1.8412126302719116, -4.834259033203125, -4.986880302429199, -1.5302190780639648, -6.936697483062744, -11.685912132263184, -12.0057954788208, 7.5813398361206055, -8.757415771484375, -0.1349126696586609, 6.231161594390869, -9.300905227661133, 6.520692825317383, 5.335537433624268, 4.3917317390441895, -10.233699798583984, -9.105891227722168, 4.882707118988037, -3.0480196475982666, 3.386718988418579, 1.7737562656402588, 1.497969388961792, 7.056192874908447, 6.9961748123168945, -7.001621246337891, 2.482053279876709, 4.17149543762207, -9.737407684326172, 1.9074175357818604, -10.657751083374023, -8.881335258483887, -3.316682815551758, 2.4189276695251465, 1.9901468753814697, -6.534366607666016, 2.3650593757629395, 3.271893262863159, 9.345955848693848, -10.118391990661621, -5.450245380401611, -10.20050048828125, 3.1951963901519775, 7.529514312744141, -12.536408424377441, -12.987234115600586, 0.6123843789100647, 5.932633876800537, 3.6729815006256104, -10.373428344726562, -10.419177055358887, 4.3382134437561035, -8.169934272766113, -3.103408098220825, -10.611196517944336, 4.368237018585205, 6.672963619232178, 2.626619815826416, -7.109266757965088, -11.19556999206543, 3.0783069133758545, 6.119889736175537, 2.0056211948394775, 5.92058801651001, 5.6835246086120605, -10.492277145385742, 6.374631404876709, 4.494103908538818, 5.6801862716674805, 4.7697930335998535, 7.271646976470947, -7.835378170013428, -0.13507302105426788, -10.966294288635254, -10.349260330200195, 7.662247657775879, -6.287644863128662, 6.874476909637451, 2.992107629776001, 2.4635536670684814, 3.8566150665283203, 7.884777545928955, -8.794282913208008, -11.914112091064453, 4.756661891937256, 9.830183982849121, 0.24716214835643768, 4.957268714904785, -10.291094779968262, -7.922060489654541, -1.9404826164245605, 4.601172924041748, -8.140386581420898, -3.6638450622558594, -0.4812433123588562, -8.731740951538086, 4.541380882263184, -8.83188533782959, -10.1027193069458, 7.769308567047119, 3.4787497520446777, -11.081541061401367, 0.723227858543396, 3.2868142127990723, 9.181381225585938, 2.8810465335845947, 4.996457576751709, 10.028226852416992, -11.414849281311035, -12.752068519592285, -3.1769728660583496, 3.3829236030578613, -11.147221565246582, 2.2065775394439697, -11.27679443359375, 7.7722086906433105, 11.104910850524902, 6.859877109527588, 5.406912326812744, -10.914050102233887, -2.928014039993286, -8.49154281616211, -9.957610130310059, 5.424964427947998, -12.028214454650879, 9.783089637756348, 1.7529239654541016, 0.2338094860315323, -10.42614459991455, 5.344860553741455, -10.709314346313477, 7.4857635498046875, 1.5294201374053955, 7.371510982513428, -13.11383056640625, 6.893799304962158, 8.54970645904541, 0.7316012382507324, 8.469812393188477, -3.4637107849121094, -9.198688507080078, -11.932337760925293, -14.50351333618164, -5.620717525482178, 1.0318902730941772, 4.438016414642334, 8.40638256072998, -5.746021747589111, 0.3031541705131531, -5.714585781097412, -0.7943679094314575, -7.894733428955078, 1.308031439781189, -5.633920669555664, -6.075479030609131, 2.0377395153045654, -9.73690414428711, -5.437718868255615, 5.431568622589111, 7.113402366638184, 2.676213264465332, 7.047854423522949, 4.414064407348633, 2.653242826461792, 2.4860310554504395, -12.927224159240723, -7.31311559677124, 5.359427452087402, 5.220720291137695, -5.1127400398254395, -12.095605850219727, 7.367884159088135, 8.476554870605469, 5.329236030578613, -10.859545707702637, -2.6693475246429443, -11.93173885345459, -2.5632545948028564, 8.777241706848145, 5.869227409362793, 8.683638572692871, -10.50205135345459, 4.045167922973633, 2.1186983585357666, -7.077681541442871, 11.584080696105957, -12.993132591247559, 5.301873207092285, -3.5491106510162354, 1.6697453260421753, 11.25554370880127, -11.87562370300293, 2.623891592025757, 8.46656322479248, 0.9865717887878418, 4.358702182769775, -7.15833854675293, -0.3645576536655426, -9.71149730682373, 5.300515651702881, 8.111289978027344, -7.819919109344482, 6.542632579803467, -10.929423332214355, 4.623721122741699, -11.690675735473633, -3.115379571914673, -12.645809173583984, -7.638753890991211, 8.73824405670166, 4.548289775848389, -3.5568180084228516, 2.2695868015289307, 3.340545415878296, 2.5536253452301025, 0.38526591658592224, 7.131420135498047, 8.341334342956543, -0.32879021763801575, -0.47355401515960693, 8.493040084838867, 3.8891260623931885, 8.772686958312988, -9.425114631652832, -11.149862289428711, -4.95584774017334, 5.7552947998046875, 7.291076183319092, -8.627135276794434, -2.103790760040283, 4.600097179412842, -2.4313998222351074, -13.286393165588379, -6.533097267150879, -11.517051696777344, -7.751196384429932, 4.337920665740967, 4.471007823944092, -2.907684326171875, 1.7736165523529053, 4.09218168258667, -2.122068405151367, -9.677403450012207, -12.107844352722168, 1.2417875528335571, -2.1107654571533203, 6.895019054412842, 8.188807487487793, 5.904816627502441, 7.304537773132324, -8.105234146118164, 2.827530860900879, -10.472357749938965, -13.903712272644043, -9.586116790771484, -1.7668513059616089, -4.362005710601807, 2.3939154148101807, -10.233566284179688, 3.269613027572632, -8.527290344238281], \"y\": [-0.8063226342201233, 1.3989156484603882, -9.365384101867676, -7.500615119934082, -17.472213745117188, -6.580331802368164, 9.041247367858887, -18.5653076171875, -1.9641978740692139, 9.901744842529297, -16.874486923217773, -14.40059757232666, -12.408488273620605, -15.210297584533691, -10.956836700439453, -16.30199432373047, -12.41721248626709, 9.213340759277344, -7.5800700187683105, -7.219517707824707, -5.579397201538086, 1.4213693141937256, -15.103702545166016, -2.037656545639038, -10.455845832824707, 0.5713463425636292, -13.599838256835938, 0.009059899486601353, -20.4565372467041, -16.670957565307617, -1.17313814163208, 4.588225364685059, -1.745378017425537, -11.390414237976074, 6.331782817840576, 2.3611676692962646, -6.20994234085083, -0.07786843180656433, -0.6950492262840271, -7.828498363494873, 17.36276626586914, -14.351399421691895, 13.58287525177002, -8.223641395568848, -13.509428024291992, -16.875776290893555, -13.48132038116455, -1.7046093940734863, -14.215638160705566, 12.668673515319824, -18.471473693847656, -5.562004089355469, 6.704457759857178, -16.58377456665039, -8.077634811401367, 10.168931007385254, -7.7171525955200195, 3.4841814041137695, -12.068281173706055, -10.77285385131836, 4.138631343841553, 7.000150680541992, -19.523876190185547, -14.473745346069336, 14.75199031829834, -13.900429725646973, 8.652013778686523, 10.829500198364258, -14.437474250793457, -10.636039733886719, -21.266759872436523, -16.74142074584961, -1.4418014287948608, -14.411724090576172, 9.162247657775879, 5.040901184082031, -14.792393684387207, -16.580886840820312, 12.99082088470459, 11.818004608154297, 11.461349487304688, 4.88951301574707, -16.666988372802734, 7.273734092712402, 7.1944499015808105, 1.1451863050460815, 11.72697925567627, 9.976014137268066, 5.3580217361450195, 2.3982162475585938, 4.532524108886719, -15.36941146850586, 14.177901268005371, 10.342696189880371, 9.762849807739258, -19.83375358581543, 10.701563835144043, 2.978548288345337, 6.783478736877441, -15.471023559570312, 0.01564033329486847, 13.124265670776367, 2.868640422821045, 8.920222282409668, -19.952945709228516, 11.141939163208008, 3.769090175628662, 6.731624126434326, 9.825600624084473, -16.335575103759766, 4.067814350128174, -0.4955710470676422, -13.792778015136719, 6.318350791931152, -14.0529203414917, 6.923731327056885, 11.80357837677002, 10.639091491699219, -13.628138542175293, 7.823822498321533, 7.958425998687744, 3.199521541595459, 4.768168926239014, 13.853570938110352, 3.129131317138672, 3.4773871898651123, 9.260359764099121, -14.574915885925293, 6.282334804534912, 3.8196804523468018, 5.326897144317627, 10.555791854858398, -18.54296875, 7.146514415740967, 13.271309852600098, 3.964592218399048, -15.302231788635254, -17.327287673950195, 3.4402236938476562, 2.872615337371826, -15.274880409240723, 3.4662227630615234, 8.43645191192627, -16.70070457458496, 8.976305961608887, 11.571405410766602, -14.761005401611328, 12.927781105041504, 2.681901454925537, 2.6296277046203613, 3.1486024856567383, 6.899980545043945, 1.7466057538986206, 9.392367362976074, 0.6730837821960449, 11.152026176452637, 13.958011627197266, 15.423925399780273, 9.568918228149414, -11.691243171691895, 10.293402671813965, 6.095027923583984, 8.04594898223877, 14.047414779663086, -12.774700164794922, 14.298065185546875, -15.564374923706055, -18.348548889160156, -12.11611270904541, 4.404544353485107, 4.369937896728516, 1.6472926139831543, -10.511576652526855, -13.119474411010742, 0.2740873396396637, 11.047593116760254, -9.465383529663086, -12.087239265441895, 3.284048557281494, -16.551532745361328, 2.642019033432007, -11.729499816894531, 5.284104347229004, -19.904422760009766, -18.878904342651367, 11.99181079864502, -13.507755279541016, 6.134306907653809, 9.854255676269531, 6.624212265014648, 13.200214385986328, -16.421072006225586, -16.288745880126953, -12.988900184631348, 13.657435417175293, 8.79955005645752, 3.989229917526245, 5.78179407119751, 0.47071123123168945, -0.7601089477539062, 3.197458028793335, 2.5425727367401123, 8.205146789550781, -17.19732666015625, -11.377921104431152, 4.898536682128906, 13.24436092376709, 3.8257458209991455, -11.791558265686035, 4.0716962814331055, 0.4832591414451599, -13.759354591369629, -17.035491943359375, 5.526257514953613, 3.1717047691345215, 3.728201150894165, 4.093522071838379, -16.948665618896484, -19.516193389892578, 1.8605293035507202, -11.129681587219238, 6.329883098602295, -16.27058982849121, 11.052949905395508, 12.275300025939941, 12.139567375183105, 15.075858116149902, 10.366552352905273, 14.125632286071777, -10.313796043395996, 8.81122875213623, 14.538763046264648, -16.223920822143555, -17.020938873291016, 8.066461563110352, 6.60173225402832, 3.9500324726104736, 6.85338830947876, -14.731575012207031, -11.124671936035156, 4.153140068054199, 2.9515233039855957, -11.491374969482422, 8.742429733276367, -16.631237030029297, 12.387848854064941, 7.788942813873291, 11.159695625305176, 15.480674743652344, -15.244634628295898, 6.845301151275635, 0.6737418174743652, -16.228090286254883, 6.094292640686035, 11.559557914733887, 0.20840288698673248, 1.4063223600387573, 10.818438529968262, -11.29604721069336, 8.408955574035645, -12.43470573425293, 6.377079963684082, -15.299230575561523, 1.3021706342697144, 7.046075344085693, 8.338422775268555, -18.80202293395996, 11.615557670593262, 9.484536170959473, 4.648282051086426, 6.372187614440918, 7.712157726287842, 4.262792587280273, -11.626239776611328, -11.854766845703125, 10.114855766296387, -18.04471206665039, -16.434263229370117, 6.781043529510498, 9.71491527557373, 14.443624496459961, -11.865147590637207, 10.942947387695312, 3.2210938930511475, -13.707176208496094, 5.384974002838135, 10.1029052734375, 5.980446815490723, 10.963747024536133, 0.46058565378189087, 2.803602933883667, 7.689846038818359, 3.385948896408081, 6.241905689239502, 7.370752334594727, -14.446756362915039, -13.899499893188477, 13.125869750976562, 2.5391647815704346, 1.056352138519287, 0.35708537697792053, 10.972879409790039, -18.53612518310547, -17.072832107543945, -12.625357627868652, 7.902080059051514, 4.363323211669922, 7.734670162200928, 16.29412269592285, -19.099346160888672, -18.000751495361328, 14.174588203430176, -11.217545509338379, -11.477912902832031, 6.102227210998535, 0.9693969488143921, 4.20969820022583, 8.120802879333496, 9.088264465332031, 8.519322395324707, 1.2013670206069946, 6.359593868255615, -17.019886016845703, 2.987492322921753, 10.350054740905762, 2.75581693649292, -19.037425994873047, -19.41193389892578, -13.325117111206055, -12.983541488647461, 11.995306015014648, -16.467388153076172, 8.706361770629883, 10.998909950256348, 9.932703971862793, -14.481690406799316, 4.167355537414551, 3.995649576187134, -13.813128471374512, -14.66654109954834, 3.4666409492492676, 12.833675384521484, -13.615288734436035, 9.760801315307617, -18.455413818359375, -14.921964645385742, 6.6220011711120605, 15.92553997039795, -14.215839385986328, -16.745532989501953, 0.07347157597541809, 4.693026065826416, 7.801044940948486, 8.268794059753418, 10.099973678588867, 12.691892623901367, 6.3882060050964355, 5.510374546051025, -20.754728317260742, 1.8722862005233765, 2.7618281841278076, 4.450704097747803, 2.1759111881256104, 14.552367210388184, -15.906919479370117, 8.429519653320312, -18.32937240600586, 12.285374641418457, 11.357083320617676, 7.434906005859375, 12.084434509277344, 4.235326766967773, -15.593269348144531, -12.266393661499023, -16.924968719482422, 13.016136169433594, 8.646974563598633, -13.55356502532959, 8.802114486694336, 3.385963201522827, -13.55192756652832, 3.1266913414001465, 7.721659183502197, 12.517966270446777, 3.655702829360962, 9.992713928222656, 3.1429097652435303, 3.096693277359009, -0.4170548915863037, -0.03779304772615433, 10.88599967956543, 11.127391815185547, 4.573068141937256, 7.440647602081299, 7.6264472007751465, 7.985883712768555, 10.70207691192627, -16.79985237121582, 1.2799149751663208, 8.655917167663574, 7.352700233459473, 8.707152366638184, 13.704113960266113, 5.384374618530273, -19.276382446289062, 10.991369247436523, -11.73033332824707, 3.783714532852173, -10.962936401367188, 4.987654685974121, 7.211868762969971, 3.8606855869293213, -20.79038429260254, -188.97317504882812, 7.5350518226623535, 14.112221717834473, 10.080709457397461, 6.113224029541016, -19.219572067260742, -15.049114227294922, -0.14899133145809174, 5.494656562805176, 6.651925563812256, 1.5320974588394165, -12.730180740356445, 12.432735443115234, 8.970141410827637, -12.945186614990234, -0.6574193239212036, -14.902236938476562, 6.299910545349121, 10.775392532348633, 7.503171920776367, -14.792105674743652, -20.84371566772461, 1.6616133451461792, 10.431550979614258, -15.532352447509766, 10.24804401397705, -11.380566596984863, 10.956254959106445, 12.640522003173828, -12.552911758422852, -17.47873878479004, 4.824188232421875, -10.342996597290039, -19.367008209228516, 10.251343727111816, -14.07877254486084, -13.025542259216309, 9.690133094787598, -15.320816040039062, 13.481526374816895, 8.19184398651123, -14.291455268859863, 9.298224449157715, -0.6427481770515442, -14.371603965759277, 12.17147159576416, 12.290216445922852, 3.94447922706604, -12.712944030761719, 14.013554573059082, 13.351227760314941, -0.004865541588515043, 4.663755416870117, 9.879026412963867, -20.39190673828125, 13.968719482421875, -12.734188079833984, 9.068819999694824, 10.893375396728516, 12.585906982421875, 6.349942684173584, 12.23613166809082, 13.404248237609863, 8.111804962158203, -12.024574279785156, 1.9421966075897217, 6.974492073059082, 15.279152870178223, 8.277504920959473, -13.343669891357422, -16.74972915649414, 11.585095405578613, -16.99785804748535, 1.3158248662948608, -1.3659367561340332, 2.950045347213745, -12.018428802490234, 10.037802696228027, -14.381072044372559, -10.556489944458008, -18.757408142089844, -11.92384147644043, -14.732190132141113, 5.157954216003418, -12.278794288635254, 8.873583793640137, 1.7292126417160034, 3.903902530670166, 0.09066372364759445, 2.8958394527435303, 4.727325916290283, -0.8614693880081177, -12.214590072631836, 11.122395515441895, 14.99958610534668, -1.9792017936706543, -11.683506965637207, -16.245912551879883, 15.546574592590332, 4.533987998962402, -14.658244132995605, 13.168743133544922, 11.402329444885254, 8.289798736572266, 11.839632987976074, -0.009712161496281624, 4.383488655090332, -1.7758597135543823, -17.09191131591797, -11.959005355834961, -13.626070022583008, -19.735347747802734, 12.377920150756836, 12.368119239807129, 11.071782112121582, -0.3157889246940613, 1.233210563659668, 2.8899834156036377, -17.236419677734375, -13.040228843688965, 12.121922492980957, -12.803257942199707, -17.27478790283203, 5.1515607833862305, -17.44649314880371, 2.150355577468872, 4.860856533050537, 2.003063440322876, -12.322868347167969, 7.155766010284424, 2.5636067390441895, 15.613749504089355, -15.938759803771973, 11.703961372375488, -14.170056343078613, -14.635226249694824, 11.069747924804688, 11.657139778137207, 4.668328285217285, -14.201679229736328, 9.555632591247559, 9.802872657775879, 3.6927366256713867, -11.83515453338623, 7.897873401641846, -19.153146743774414, 0.23267976939678192, -17.661027908325195, -19.994773864746094, 10.557526588439941, -14.158804893493652, 9.492229461669922, 13.667489051818848, 12.793042182922363, 0.4555259048938751, -14.885183334350586, -13.206283569335938, -0.3338468372821808, -13.343696594238281, -18.491180419921875, -17.148921966552734, 4.279359817504883, -19.861743927001953, 6.699642181396484, 10.294602394104004, 2.809295892715454, 7.911843776702881, -0.09154516458511353, 8.772944450378418, -12.136123657226562, 6.703835487365723, 16.3243350982666, 13.510322570800781, 1.5911353826522827, 11.911236763000488, 12.901497840881348, -18.088977813720703, 8.540125846862793, 14.269787788391113, 0.43453851342201233, -18.875558853149414, 2.0200130939483643, 7.874156951904297, -17.301362991333008, -17.404922485351562, -11.83420181274414, -16.844274520874023, -15.142653465270996, 2.861963987350464, -11.84473991394043, 10.077357292175293, -11.821474075317383, 3.5808117389678955, -19.69097137451172, -18.221389770507812, 8.348530769348145, 1.1532272100448608, -11.189407348632812, 3.1102633476257324, -1.737539529800415, 2.9552295207977295, 12.207420349121094, 11.394203186035156, 3.421473264694214, 5.386184215545654, 3.7971012592315674, 1.6383353471755981, 1.0990691184997559, 7.849343299865723, 7.188523769378662, -0.059870582073926926, -12.979962348937988, -20.61273956298828, 10.787511825561523, -14.675809860229492, 4.072643756866455, 13.190841674804688, 3.37154483795166, 5.209990978240967, 10.555153846740723, -16.833065032958984, 1.9876267910003662, 2.166217088699341, 3.724119186401367, 1.5740063190460205, -13.996453285217285, 2.9288666248321533, -11.063960075378418, 4.0983147621154785, 8.853737831115723, 3.6685972213745117, -16.42635154724121, 9.078319549560547, -11.549419403076172, 5.790698051452637, -11.753514289855957, 4.784170627593994, 15.079530715942383, 12.088958740234375, 3.1603426933288574, -16.44767951965332, 11.531070709228516, 2.8857810497283936, -15.955148696899414, 3.5701804161071777, 3.1385998725891113, -16.462034225463867, -19.632164001464844, 7.001793384552002, 0.17228297889232635, 0.4895729124546051, -13.248401641845703, 4.109642028808594, -16.95106315612793, 6.782726287841797, 6.003572463989258, 11.846373558044434, 2.6974332332611084, 12.325407028198242, 8.548832893371582, 3.069488048553467, -10.924311637878418, 12.259746551513672, 4.184622287750244, -13.12563705444336, -14.634221076965332, 7.282069683074951, -11.873258590698242, 13.412307739257812, 4.4314374923706055, -10.316815376281738, 11.513738632202148, 12.128705024719238, 12.094799041748047, 16.617862701416016, -15.695362091064453, -18.80472183227539, -16.063491821289062, -17.014406204223633, -20.56912612915039, 0.4948597848415375, -15.674391746520996, -11.979545593261719, 2.809277296066284, 11.648923873901367, 10.861159324645996, -12.730663299560547, 3.916990280151367, 13.624764442443848, -15.204567909240723, -20.50074005126953, 8.798311233520508, 9.960674285888672, -16.836626052856445, -18.75818634033203, 0.756191074848175, -9.075407981872559, -12.075523376464844, 14.902627944946289, 4.998976230621338, 0.48233380913734436, 1.8406449556350708, -9.771491050720215, -6.340917110443115, -16.40357208251953, 1.692520022392273, 13.831146240234375, -7.704491138458252, 12.791830062866211, 0.5375182032585144, -5.456779956817627, -3.00006365776062, -1.80776846408844, -12.241117477416992, -11.617121696472168, -17.34726333618164, -7.852376937866211, 0.7338472008705139, -15.402719497680664, 2.708214282989502, 4.334303379058838, -0.13934417068958282, -14.567192077636719, 5.910429000854492, 11.352636337280273, 12.736018180847168, -11.19179630279541, 2.157595157623291, 4.2076544761657715, 4.039040565490723, -10.54753303527832, 1.2492390871047974, 12.817062377929688, 9.439804077148438, -13.755409240722656, -13.777042388916016, -20.209781646728516, 2.115736961364746, -14.864248275756836, 10.072808265686035, 13.600560188293457, 14.417976379394531, -12.21020221710205, 11.622736930847168, 6.673712253570557, -15.214835166931152, 15.222005844116211, -19.611364364624023, 8.484719276428223, 14.559357643127441, 11.408076286315918, 0.7044941186904907, 11.851757049560547, 11.104713439941406, -16.151636123657227, 8.044096946716309, -16.910547256469727, 11.221059799194336, 2.487321376800537, -0.04181060194969177, 8.654240608215332, 2.939443588256836, 14.629928588867188, 3.9407272338867188, 3.4545066356658936, 10.314619064331055, 1.8056716918945312, 7.195915699005127, 11.248475074768066, 1.6415106058120728, 3.579125165939331, 11.829050064086914, -20.219532012939453, 7.898778438568115, -11.47069263458252, 13.969978332519531, 11.762076377868652, -19.83995819091797, 7.867013931274414, -10.645856857299805, 7.835440158843994, 13.159749984741211, 5.659451484680176, 13.221577644348145, -13.968901634216309, 8.179256439208984, 13.094197273254395, 4.91118049621582, 2.7658638954162598, -0.24179953336715698, 2.080460786819458, -11.669839859008789, 13.296747207641602, 10.939072608947754, 3.158923864364624, -15.75892448425293, 11.534438133239746, -15.142733573913574, -10.418473243713379, 8.643718719482422, -0.1385364681482315, 1.279327392578125, -13.932660102844238, 3.805495023727417, -19.847806930541992, -9.053387641906738, -15.03179931640625, -14.259455680847168, -11.5250883102417, 13.765435218811035, 1.4502718448638916, 4.459748268127441, 10.964581489562988, -15.654414176940918, 11.842681884765625, 5.1500935554504395, -17.563730239868164, 3.780848264694214, 2.9049060344696045, -18.834529876708984, -10.488913536071777, -14.474471092224121, -11.223125457763672, -16.59171485900879, -16.366416931152344, -12.929258346557617, 10.052290916442871, 7.717604637145996, 8.580024719238281, -15.283534049987793, 7.3974504470825195, 9.32645320892334, -12.085969924926758, 2.4204235076904297, 8.427242279052734, 4.302080154418945, 3.2279410362243652, -11.95145320892334, -1.701231598854065, 9.793068885803223, 7.676852226257324, -0.3144165575504303, 4.715467929840088, 2.4390013217926025, -15.376346588134766, 12.482000350952148, -10.66743278503418, 0.10062666237354279, 11.05594253540039, 0.3648265302181244, 9.2702054977417, 4.275920391082764, -17.287702560424805, 11.288028717041016, 11.791019439697266, -12.036920547485352, 2.926046848297119, -13.970174789428711, 11.60833740234375, 11.702414512634277, 5.117092132568359, 9.83478832244873, 12.861934661865234, 7.554101467132568, 5.693350315093994, 2.122493267059326, -11.154526710510254, 3.5723023414611816, 8.768306732177734, 12.204290390014648, -17.037874221801758, -17.154434204101562, -14.237828254699707, 2.062330961227417, 3.2692999839782715, 1.1237995624542236, -9.783794403076172, -15.957266807556152, -18.152292251586914, -12.777636528015137, 11.201631546020508, -19.674287796020508, 4.944947719573975, 4.848255634307861, 11.782554626464844, -0.5132327079772949, 5.5389862060546875, 5.939664840698242, 6.845319747924805, 14.072176933288574, -20.147335052490234, 10.186051368713379, -17.364789962768555, -14.607864379882812, 4.2494401931762695, -12.524569511413574, 10.985485076904297, 8.786909103393555, 11.976127624511719, 14.621206283569336, 9.553380012512207, -10.374276161193848, -15.307861328125, 1.8591125011444092, 4.084506034851074, -15.001340866088867, -14.987727165222168, -0.9997252821922302, -18.692665100097656, 6.708521366119385, 8.660773277282715, 4.264886856079102, 3.010056495666504, 8.74453353881836, 1.7551887035369873, 2.4480645656585693, 4.996257305145264, -16.283723831176758, 10.54749584197998, 11.845027923583984, -19.62464714050293, -16.885211944580078, -14.19672966003418, 10.848465919494629, -10.690763473510742, 2.733381748199463, -14.548872947692871, -11.386226654052734, 5.760704517364502, 12.80567455291748, -12.464491844177246, 9.224510192871094, -12.648848533630371, 10.336312294006348, 6.6777496337890625, 6.152343273162842, 9.455050468444824, 1.3320850133895874, 3.1008095741271973, -19.629037857055664, -16.997434616088867, 2.9123027324676514, 9.986536979675293, -15.375944137573242, -14.417374610900879, -10.240983009338379, 4.800039768218994, 13.016887664794922, 5.666562080383301, -11.475881576538086, 11.411308288574219, 3.0641729831695557, 15.674529075622559, 6.661072254180908, 9.438423156738281, -11.69704532623291, 8.710976600646973, -18.470500946044922, 8.299219131469727, 3.9293601512908936, -15.23322868347168, 9.857020378112793, 9.530230522155762, 7.6764912605285645, -17.354145050048828, 2.6587471961975098, -11.064173698425293, -11.491602897644043, 0.06284233182668686, 13.369892120361328, 11.394522666931152, -17.228382110595703, 8.77031421661377, 5.551919937133789, -13.164655685424805, -13.329264640808105, -17.151880264282227, -12.44802474975586, 8.146028518676758, 9.245410919189453, -10.850358963012695, -13.410347938537598, 2.517402410507202, 9.01797866821289, 13.319594383239746, -13.822375297546387, -16.050525665283203], \"z\": [-7.609882831573486, 7.020500659942627, -0.9209996461868286, 2.1648926734924316, 1.4654544591903687, 5.834024429321289, 5.896630764007568, 5.482524871826172, -5.783785343170166, -2.254343032836914, 7.137503147125244, 4.964179515838623, 11.271634101867676, -5.810482025146484, -0.6392422914505005, 9.126009941101074, 11.33226203918457, 1.3603830337524414, -0.8864070773124695, 0.39578214287757874, 5.803258419036865, -3.096464157104492, -4.363644599914551, -6.201712608337402, 3.0262601375579834, -0.16909059882164001, 3.4668400287628174, -2.0789098739624023, -0.1652260422706604, 1.9303245544433594, -3.3936684131622314, 8.86057186126709, -1.9728139638900757, -1.1436752080917358, -4.54252290725708, -2.204468250274658, -0.20922869443893433, -1.8393104076385498, -4.235259056091309, 6.157079219818115, -0.35882148146629333, 0.7866342067718506, -4.923629283905029, 3.8861494064331055, 0.02478772960603237, 9.85213565826416, -0.7680801153182983, -5.943764686584473, 4.575222969055176, 0.5817739963531494, 11.050780296325684, -0.9265592694282532, -4.226134777069092, 9.793027877807617, 5.1275248527526855, 11.701571464538574, 7.06492280960083, 7.660660266876221, -0.8339251279830933, 2.5103540420532227, -6.561748027801514, -2.019404411315918, 7.491915702819824, 1.1512938737869263, -2.233079195022583, -1.5905548334121704, -5.487433433532715, -0.8356991410255432, 3.6833555698394775, 3.812617778778076, 2.2531380653381348, 4.991244792938232, -5.639470100402832, 9.653542518615723, -13.210647583007812, -5.868716239929199, 2.942241668701172, 4.879509925842285, -9.83121109008789, -6.197021484375, -6.626211166381836, -6.808847427368164, -0.8550677299499512, -0.6328232884407043, 5.81911039352417, 4.010421276092529, 4.603820323944092, 2.7651543617248535, -4.319745063781738, -5.114428997039795, -4.37723970413208, 7.228592395782471, -6.385390758514404, 4.68785285949707, 9.060846328735352, 5.939237594604492, -2.588287115097046, 2.4697484970092773, -0.7986348271369934, 2.0737626552581787, -6.313756465911865, 0.6762338876724243, 2.1941628456115723, -4.405848026275635, 7.242053508758545, -4.054978370666504, 1.7595598697662354, 4.728418827056885, -13.536218643188477, 3.5084352493286133, -6.02379846572876, -3.8885374069213867, 9.399880409240723, -6.578543663024902, 0.4616461992263794, -5.487339019775391, 8.470541000366211, 4.637311935424805, 8.294011116027832, 0.3355986177921295, -5.446778297424316, -4.37054967880249, 5.145826816558838, -1.9228883981704712, -2.195664167404175, 5.119762420654297, 9.309110641479492, 6.285265922546387, 5.388701438903809, 4.245894432067871, -7.101719379425049, -3.3529696464538574, 9.532001495361328, 7.804043292999268, 2.1291894912719727, -8.61063289642334, -1.8104908466339111, 8.654921531677246, 5.076711177825928, -0.9069409370422363, 9.254419326782227, -3.4438936710357666, -5.204606533050537, -0.15311245620250702, 0.710452139377594, -5.17512845993042, 5.02268648147583, 0.115486279129982, 6.145280838012695, -0.7544597387313843, -5.302811145782471, -8.22605037689209, 0.875524640083313, -6.039463043212891, -4.226389408111572, -1.5019252300262451, -0.6762981414794922, -0.5657318830490112, -10.285792350769043, 8.21650218963623, 8.48015308380127, -7.060141086578369, -9.113214492797852, -8.197534561157227, 6.381906986236572, 1.2411091327667236, 9.663446426391602, 0.5883297920227051, 0.732593297958374, -1.736543893814087, 1.3731794357299805, 2.363250732421875, 4.354962348937988, -1.3542711734771729, -2.7472054958343506, 1.930666446685791, 6.059061050415039, -1.4212989807128906, 7.106813907623291, 7.259653568267822, -1.5280805826187134, 2.0575242042541504, 8.792881965637207, 1.4278862476348877, 0.601574718952179, 7.342261791229248, 3.16082501411438, -6.574416160583496, -6.267240524291992, -7.499244689941406, 0.2356603741645813, 0.23508237302303314, 7.8359904289245605, -0.5921429395675659, 6.535306930541992, 7.967400074005127, -0.9659906625747681, 5.5588579177856445, -7.128733158111572, -0.7065151929855347, -6.02333927154541, -0.5930719375610352, 8.458089828491211, -0.09768009185791016, -0.5654423832893372, 9.489750862121582, -4.783893585205078, -6.163130760192871, 3.0603697299957275, 6.942229270935059, -3.009958505630493, 5.6033148765563965, 3.4121618270874023, -5.004631996154785, -4.511908531188965, -2.5862443447113037, 6.180163860321045, 6.543309688568115, 5.395387649536133, -2.366187334060669, -0.558772087097168, 2.756211519241333, 0.5968852639198303, -12.568317413330078, 5.345273971557617, -4.452340126037598, -3.4141204357147217, -7.78200626373291, 2.349177598953247, 6.91813325881958, 6.645847797393799, -6.10688591003418, 7.993095874786377, 8.252105712890625, -2.0588181018829346, 2.336786985397339, 4.675981521606445, -7.034266948699951, 5.955421447753906, -2.6986825466156006, -5.802560806274414, 2.7854349613189697, -1.672082781791687, 3.517634391784668, 3.366098403930664, 4.30580472946167, -6.787595748901367, -9.538595199584961, -3.304395914077759, -3.368360757827759, -7.851593494415283, -0.6300123929977417, 4.8043975830078125, -6.828070163726807, -4.213564872741699, -6.259040832519531, -8.725446701049805, 2.9151649475097656, 6.960089683532715, 0.9723885655403137, -2.32724928855896, -6.04325532913208, -1.1128835678100586, -0.7959010601043701, -6.749372959136963, 3.5012500286102295, 8.188180923461914, 6.831279277801514, -13.552117347717285, 4.401129245758057, 2.9711854457855225, 8.705328941345215, -8.148468971252441, -2.865321636199951, 7.063701152801514, -6.771209239959717, 5.737750053405762, 0.40387609601020813, 3.5177958011627197, -5.990318775177002, -3.343846321105957, -2.69616436958313, -6.192848205566406, -6.520114421844482, 0.7966596484184265, 4.911631107330322, -1.117647647857666, 2.9616260528564453, 4.082594394683838, -7.970956802368164, -4.235081672668457, 4.908174514770508, 1.3920907974243164, 5.081824779510498, -0.3756557106971741, 9.695124626159668, 4.745828151702881, -7.4224724769592285, 0.9345868229866028, -6.843677520751953, 4.43071174621582, 3.599217414855957, 2.628095865249634, 4.185431957244873, 3.3243138790130615, -10.355064392089844, 2.0640673637390137, -9.127776145935059, -0.6612676382064819, 0.4540291428565979, 0.43709391355514526, 0.26724961400032043, 1.4491106271743774, -2.8233911991119385, -2.333157777786255, -7.583110332489014, -2.0515782833099365, 4.784788608551025, -10.625813484191895, 7.74547815322876, 4.36413049697876, -6.2184834480285645, 6.141807556152344, 2.8612844944000244, -4.930176734924316, -4.821639060974121, 7.397552013397217, 7.27988338470459, -0.06968053430318832, 4.406264305114746, 7.17228889465332, 6.8849005699157715, -6.800816059112549, -3.3841958045959473, 2.4736053943634033, 1.921010971069336, 4.524731636047363, -9.25141716003418, 3.20232892036438, 6.434789657592773, -9.26216983795166, -6.859783172607422, 8.615328788757324, -6.4404449462890625, 5.589486598968506, -0.38213419914245605, 8.299958229064941, 1.8026494979858398, 6.914383888244629, 7.3550238609313965, -1.3136725425720215, -8.434520721435547, 0.560839056968689, 8.537463188171387, -1.1365509033203125, -7.574654579162598, -4.489376068115234, 2.390993595123291, 4.919084548950195, -2.098210334777832, 5.893330097198486, 2.228739023208618, -5.307281017303467, -1.0820904970169067, 6.7756500244140625, -8.875770568847656, 4.112255573272705, 5.434666156768799, 2.799647808074951, 5.220761775970459, -4.545212745666504, -5.55219841003418, 2.346198320388794, 1.8050956726074219, 6.146927356719971, -2.861062526702881, -11.729084968566895, 4.111083030700684, 8.169204711914062, -3.2302405834198, 7.495846748352051, -2.2998692989349365, -13.032243728637695, -9.421012878417969, 5.310036659240723, -2.25337290763855, 1.2427546977996826, 0.09648466855287552, -1.3057407140731812, -4.772727012634277, -1.4933445453643799, -2.6722357273101807, -6.368875980377197, -7.51440954208374, -0.9034659266471863, 8.587843894958496, -4.358707904815674, 3.3499348163604736, -4.520900726318359, -6.533254623413086, 0.32422733306884766, -2.5916316509246826, 0.23805955052375793, 9.072029113769531, 3.1472373008728027, 7.210602283477783, 1.2804203033447266, -2.9847145080566406, 9.41890811920166, 7.774527549743652, 4.4706902503967285, -5.105696678161621, 5.974620342254639, 14.252345085144043, 5.685102462768555, -5.463294982910156, 1.7060837745666504, 4.423544406890869, 7.80460262298584, 0.16345380246639252, -4.542065143585205, -0.12165603041648865, 2.861243724822998, 5.246891975402832, 1.4122952222824097, 3.000370740890503, 5.994671821594238, 3.810563325881958, -6.313262939453125, 2.9993739128112793, -5.819345474243164, 7.4620490074157715, -1.0370488166809082, 4.027937412261963, 2.7602734565734863, -0.6350749135017395, 1.2298604249954224, 1.6014353036880493, -12.787094116210938, 0.35076838731765747, -4.6349196434021, -9.259112358093262, 0.20098456740379333, 4.045823097229004, -3.4480907917022705, 6.4454426765441895, 2.855111837387085, -5.418967247009277, -2.5418007373809814, 2.427931785583496, -2.3879141807556152, -0.9910600781440735, -2.5905590057373047, -10.43448257446289, 8.395357131958008, 9.25893497467041, -4.5291008949279785, -1.8411860466003418, -10.144713401794434, -9.53531551361084, 5.762944221496582, 1.0309441089630127, -5.283517837524414, -8.507920265197754, -4.453509330749512, -4.654212951660156, -14.041349411010742, 3.6893856525421143, 1.425992488861084, 0.22410111129283905, -5.382750511169434, 0.178318589925766, 4.99699068069458, -7.148937225341797, -3.0598185062408447, 5.904330730438232, 7.652174949645996, 4.242112159729004, -8.850870132446289, 3.531297206878662, -0.9387476444244385, -1.6230581998825073, 2.5882725715637207, 2.569766044616699, 8.0951509475708, 2.724228620529175, 1.5299007892608643, -6.814970016479492, -8.725018501281738, -3.174480676651001, -8.389328002929688, 9.059629440307617, 6.070176124572754, 2.370816230773926, -0.9769946336746216, 4.239699840545654, 6.925007343292236, 8.733379364013672, -5.307449817657471, -6.088854789733887, 5.289635181427002, -2.3562281131744385, -3.9553096294403076, -4.060185432434082, -6.507494926452637, -3.0101490020751953, -11.455057144165039, 1.418439507484436, -6.4192214012146, 1.2427406311035156, 1.1843496561050415, 0.0696917474269867, 1.4054863452911377, 5.9328813552856445, -8.440041542053223, -4.156514644622803, -7.6908674240112305, -10.913363456726074, -1.6164920330047607, 2.5969793796539307, -4.952630519866943, -0.08665643632411957, 5.751908302307129, 0.30987951159477234, 6.120901584625244, 8.732558250427246, -9.71886920928955, 3.5664660930633545, -2.699974536895752, -8.423415184020996, 2.0968167781829834, 4.331229209899902, 9.762906074523926, -5.282472610473633, 8.681970596313477, 0.5276238322257996, 8.401114463806152, 0.9711024761199951, -6.73851203918457, 4.6955389976501465, -0.09890810400247574, 5.933880805969238, 4.609724998474121, 6.842630386352539, 2.2376279830932617, 10.928464889526367, -4.452859878540039, 6.176745891571045, 3.793839454650879, -5.437870979309082, -4.433677673339844, -6.670238971710205, 1.9348337650299072, -10.448152542114258, -6.184673309326172, 1.2753504514694214, 9.612985610961914, -12.639625549316406, 7.615912437438965, -6.368670463562012, 3.8221089839935303, 5.425539493560791, -6.803152084350586, 5.326478481292725, -0.5261821150779724, -6.132340908050537, -0.44628942012786865, -2.2957706451416016, 3.0239078998565674, 6.772281169891357, -7.159825325012207, 7.982107162475586, 4.473288059234619, 7.420052528381348, 7.356627464294434, 0.9087859392166138, 4.022922039031982, 3.3407301902770996, -6.895064830780029, -5.536677837371826, -4.892452239990234, -7.265974044799805, 1.6194871664047241, 4.815008163452148, -0.7019687294960022, -4.613064289093018, -7.905359268188477, -2.8601558208465576, 5.529049873352051, 4.300179481506348, -1.821067214012146, -2.6625890731811523, -6.7763848304748535, 3.7626826763153076, -5.300536155700684, -5.540722846984863, 5.373393535614014, 3.2908337116241455, 3.5647358894348145, 3.456514358520508, 8.882134437561035, -5.208829879760742, 0.7034327387809753, 6.55552864074707, 4.7151665687561035, 5.466410160064697, 6.391876697540283, 6.458616256713867, 0.4163433909416199, 3.6256489753723145, 5.698009967803955, -5.266341209411621, -5.762795925140381, -8.594991683959961, -8.642143249511719, -6.1646246910095215, -2.3793411254882812, -4.717576026916504, -2.457883834838867, -8.517760276794434, -5.604594707489014, -4.32643985748291, -7.513835430145264, -2.1104609966278076, 0.5374643206596375, 4.896296501159668, 7.910912990570068, 0.7625699043273926, -3.2275424003601074, -8.670272827148438, -8.059532165527344, 5.22454309463501, -12.101551055908203, -0.43257808685302734, -5.099564075469971, -7.0292863845825195, -9.025428771972656, -5.503605842590332, 7.956535339355469, -5.562313079833984, -0.7678409218788147, 7.212052822113037, 7.7145819664001465, -3.661561965942383, 5.534663677215576, -9.53010082244873, 0.20362430810928345, -8.289201736450195, 2.339777708053589, -7.301835060119629, -3.4505810737609863, -0.5788547992706299, -2.452014923095703, 9.714601516723633, 1.744158148765564, 3.407346725463867, 0.9814605116844177, -7.148012161254883, -1.2219622135162354, 4.017274856567383, 2.54829740524292, -4.586126804351807, -4.753312587738037, -7.358799934387207, 5.8328704833984375, 5.0929856300354, 7.20354700088501, 8.175276756286621, 5.582953453063965, 0.7693813443183899, -1.0897481441497803, -6.85125207901001, -7.787728309631348, -4.676060199737549, 7.221909999847412, -3.808753728866577, 7.812320709228516, 9.921810150146484, 5.075131893157959, 7.678625106811523, 0.34488219022750854, -4.149021625518799, -9.177356719970703, 4.527314186096191, -7.544393539428711, 1.2610337734222412, -4.2018609046936035, 0.8491950631141663, 7.25506067276001, 1.141578197479248, 4.341646671295166, 0.4878716766834259, 5.366581916809082, 0.6314911246299744, 9.363815307617188, 9.930437088012695, -3.135298013687134, -4.360706329345703, -10.11316204071045, 3.0417075157165527, -4.3984527587890625, -4.286284923553467, -5.759688377380371, -0.20846940577030182, -5.870428085327148, 10.662114143371582, 6.744292736053467, 11.65461254119873, -6.429182052612305, 4.080865383148193, -1.2046771049499512, -1.248838186264038, -0.7774711847305298, 0.057512231171131134, 1.7973722219467163, 7.667869567871094, 5.846900939941406, 10.626715660095215, 1.8837591409683228, -4.8334503173828125, -0.8827946782112122, 8.959010124206543, 1.9116401672363281, -0.9212375283241272, -0.7474584579467773, -1.919708013534546, 2.0632688999176025, 10.405510902404785, 6.977755069732666, 5.810930252075195, -2.7521090507507324, 3.5586345195770264, -5.06732177734375, -3.1818959712982178, -4.937284469604492, 7.369942665100098, -5.6222968101501465, -7.737019062042236, -8.311885833740234, 4.659626007080078, -0.3172805905342102, -5.0329155921936035, -6.142805099487305, 7.142893314361572, -4.226678848266602, -7.557419300079346, -4.676360607147217, 9.497539520263672, -1.832572340965271, 2.89174747467041, 6.472102642059326, 1.9424902200698853, 9.32907485961914, 6.555813312530518, -2.7806546688079834, -1.1644816398620605, -5.942361831665039, -6.126173496246338, 5.8141326904296875, 1.653574824333191, 1.5189474821090698, -8.02739143371582, -3.41426420211792, 3.1986818313598633, -7.253325462341309, 5.964509963989258, 7.259700775146484, 1.2387174367904663, 4.894982814788818, -0.21710212528705597, -6.124242782592773, -8.151625633239746, -5.029205322265625, 6.475215911865234, -5.351624965667725, -1.8698731660842896, -3.1992416381835938, -3.081116199493408, -12.058221817016602, -5.249410152435303, -6.3914642333984375, 6.769683361053467, 2.8447320461273193, -5.312447547912598, -9.02929401397705, 2.029233694076538, -4.498948574066162, 7.110088348388672, -6.835015773773193, -3.311269998550415, 2.8019096851348877, -7.019987106323242, 6.267720699310303, -11.019712448120117, 6.9505085945129395, 8.391326904296875, -3.622710704803467, -2.2306127548217773, -7.368839263916016, -0.3219020962715149, -3.445723056793213, -2.2866837978363037, -2.1425247192382812, 7.463939189910889, -2.3211562633514404, 1.3915296792984009, -4.5035576820373535, 1.607560634613037, 9.342512130737305, -5.032439231872559, 0.9834434986114502, 7.3092474937438965, -11.506370544433594, -3.9704527854919434, 3.421799659729004, -2.4089603424072266, 2.153210401535034, 4.016512393951416, 5.466454029083252, 6.640902996063232, 5.391145706176758, -3.154283046722412, -8.049715042114258, 2.971850872039795, 0.48960867524147034, 0.8588959574699402, 9.181742668151855, -6.528768062591553, -5.321806907653809, 4.598515510559082, 1.1064205169677734, -3.2696475982666016, 6.462902545928955, 6.100271224975586, -2.3467180728912354, 4.8983330726623535, 3.6177027225494385, -0.7280629277229309, 5.04710578918457, -4.964101791381836, -6.734082221984863, -4.369017124176025, 6.914944171905518, 3.802671194076538, 4.921279430389404, 8.88522720336914, 3.8797390460968018, -6.880668640136719, -5.5141987800598145, -2.3886077404022217, 9.402225494384766, -6.035467624664307, -5.879896640777588, -6.13759708404541, -2.1119651794433594, 3.031939744949341, -2.261457681655884, 10.790851593017578, -5.707128524780273, 6.60459566116333, -4.776881217956543, -5.435250282287598, -6.8012518882751465, -4.061406135559082, 2.079746723175049, 8.592370986938477, 4.953487396240234, -3.836271047592163, 5.190167427062988, -4.161771774291992, 2.7067456245422363, -4.07194185256958, 4.5682878494262695, -5.250131607055664, 7.478858947753906, -3.2406492233276367, -1.720023274421692, -2.9643442630767822, -6.606766223907471, -0.41051918268203735, -3.778339385986328, -9.054978370666504, -6.931326389312744, 5.688803195953369, 3.3975720405578613, 9.351709365844727, -5.110140323638916, 0.9671860337257385, -7.637421131134033, 4.56858491897583, 0.4949283003807068, 1.0951975584030151, 0.7394658327102661, -7.178553581237793, 0.3144600987434387, -6.845193386077881, -7.8902668952941895, 2.3775243759155273, -3.113166332244873, 1.1259528398513794, 2.489563465118408, -6.0586466789245605, -3.0229036808013916, 4.634363174438477, -5.184179782867432, -0.6848121285438538, 4.824599266052246, 9.65239143371582, 0.7536017298698425, -12.21684455871582, -0.546053946018219, -2.707618474960327, -6.577017307281494, -13.087274551391602, 5.187011241912842, 0.5988104343414307, -7.586901664733887, 4.7283830642700195, 10.217151641845703, 8.198615074157715, -5.9060211181640625, 9.117376327514648, 0.2631379961967468, -6.533929824829102, 3.970838785171509, -4.428970813751221, 8.532233238220215, -7.609787940979004, 1.1199740171432495, 3.459153175354004, -0.0004409348184708506, -3.938943386077881, 4.690160751342773, 3.1936657428741455, 4.207690238952637, 2.498680830001831, -2.062556505203247, 0.35142025351524353, 6.733325958251953, 5.925660133361816, 1.8349460363388062, -6.719890117645264, -8.891389846801758, 9.781841278076172, -9.740220069885254, 4.993247985839844, -8.294757843017578, -5.597461700439453, 3.144224166870117, 8.874526977539062, -8.735872268676758, -2.634901523590088, 4.003428936004639, 7.167989253997803, -0.5676890015602112, 1.669134259223938, 9.162835121154785, 3.6153273582458496, 6.318914413452148, -4.209277153015137, 5.243463516235352, -0.34869280457496643, -1.7266385555267334, -10.2905855178833, -7.078274250030518, 0.5251344442367554, 4.449993133544922, -11.06615924835205, 4.203384876251221, -6.1674017906188965, 5.230162620544434, -6.436984539031982, -9.656601905822754, 0.9557080268859863, -6.134967803955078, 4.77822732925415, 3.034885883331299, 6.072329998016357, -5.096418380737305, 7.021933078765869, 5.172165870666504, -6.312453269958496, -6.670052528381348, 6.626164436340332, 6.191213607788086, -3.2000348567962646, -3.480537176132202, 4.449077606201172, 7.374928951263428, 2.8741238117218018, 7.348805904388428, -11.374095916748047, -9.273245811462402, 0.4837096333503723, 5.692273139953613, -8.005005836486816, 0.4842417538166046, -6.4554243087768555, 4.5733537673950195, 3.6854231357574463]}],\n",
       "                        {\"coloraxis\": {\"colorbar\": {\"title\": {\"text\": \"Label\"}}, \"colorscale\": [[0.0, \"#0d0887\"], [0.1111111111111111, \"#46039f\"], [0.2222222222222222, \"#7201a8\"], [0.3333333333333333, \"#9c179e\"], [0.4444444444444444, \"#bd3786\"], [0.5555555555555556, \"#d8576b\"], [0.6666666666666666, \"#ed7953\"], [0.7777777777777778, \"#fb9f3a\"], [0.8888888888888888, \"#fdca26\"], [1.0, \"#f0f921\"]]}, \"height\": 800, \"legend\": {\"tracegroupgap\": 0}, \"scene\": {\"domain\": {\"x\": [0.0, 1.0], \"y\": [0.0, 1.0]}, \"xaxis\": {\"title\": {\"text\": \"0\"}}, \"yaxis\": {\"title\": {\"text\": \"1\"}}, \"zaxis\": {\"title\": {\"text\": \"2\"}}}, \"template\": {\"data\": {\"bar\": [{\"error_x\": {\"color\": \"#2a3f5f\"}, \"error_y\": {\"color\": \"#2a3f5f\"}, \"marker\": {\"line\": {\"color\": \"#E5ECF6\", \"width\": 0.5}}, \"type\": \"bar\"}], \"barpolar\": [{\"marker\": {\"line\": {\"color\": \"#E5ECF6\", \"width\": 0.5}}, \"type\": \"barpolar\"}], \"carpet\": [{\"aaxis\": {\"endlinecolor\": \"#2a3f5f\", \"gridcolor\": \"white\", \"linecolor\": \"white\", \"minorgridcolor\": \"white\", \"startlinecolor\": \"#2a3f5f\"}, \"baxis\": {\"endlinecolor\": \"#2a3f5f\", \"gridcolor\": \"white\", \"linecolor\": \"white\", \"minorgridcolor\": \"white\", \"startlinecolor\": \"#2a3f5f\"}, \"type\": \"carpet\"}], \"choropleth\": [{\"colorbar\": {\"outlinewidth\": 0, \"ticks\": \"\"}, \"type\": \"choropleth\"}], \"contour\": [{\"colorbar\": {\"outlinewidth\": 0, \"ticks\": \"\"}, \"colorscale\": [[0.0, \"#0d0887\"], [0.1111111111111111, \"#46039f\"], [0.2222222222222222, \"#7201a8\"], [0.3333333333333333, \"#9c179e\"], [0.4444444444444444, \"#bd3786\"], [0.5555555555555556, \"#d8576b\"], [0.6666666666666666, \"#ed7953\"], [0.7777777777777778, \"#fb9f3a\"], [0.8888888888888888, \"#fdca26\"], [1.0, \"#f0f921\"]], \"type\": \"contour\"}], \"contourcarpet\": [{\"colorbar\": {\"outlinewidth\": 0, \"ticks\": \"\"}, \"type\": \"contourcarpet\"}], \"heatmap\": [{\"colorbar\": {\"outlinewidth\": 0, \"ticks\": \"\"}, \"colorscale\": [[0.0, \"#0d0887\"], [0.1111111111111111, \"#46039f\"], [0.2222222222222222, \"#7201a8\"], [0.3333333333333333, \"#9c179e\"], [0.4444444444444444, \"#bd3786\"], [0.5555555555555556, \"#d8576b\"], [0.6666666666666666, \"#ed7953\"], [0.7777777777777778, \"#fb9f3a\"], [0.8888888888888888, \"#fdca26\"], [1.0, \"#f0f921\"]], \"type\": \"heatmap\"}], \"heatmapgl\": [{\"colorbar\": {\"outlinewidth\": 0, \"ticks\": \"\"}, \"colorscale\": [[0.0, \"#0d0887\"], [0.1111111111111111, \"#46039f\"], [0.2222222222222222, \"#7201a8\"], [0.3333333333333333, \"#9c179e\"], [0.4444444444444444, \"#bd3786\"], [0.5555555555555556, \"#d8576b\"], [0.6666666666666666, \"#ed7953\"], [0.7777777777777778, \"#fb9f3a\"], [0.8888888888888888, \"#fdca26\"], [1.0, \"#f0f921\"]], \"type\": \"heatmapgl\"}], \"histogram\": [{\"marker\": {\"colorbar\": {\"outlinewidth\": 0, \"ticks\": \"\"}}, \"type\": \"histogram\"}], \"histogram2d\": [{\"colorbar\": {\"outlinewidth\": 0, \"ticks\": \"\"}, \"colorscale\": [[0.0, \"#0d0887\"], [0.1111111111111111, \"#46039f\"], [0.2222222222222222, \"#7201a8\"], [0.3333333333333333, \"#9c179e\"], [0.4444444444444444, \"#bd3786\"], [0.5555555555555556, \"#d8576b\"], [0.6666666666666666, \"#ed7953\"], [0.7777777777777778, \"#fb9f3a\"], [0.8888888888888888, \"#fdca26\"], [1.0, \"#f0f921\"]], \"type\": \"histogram2d\"}], \"histogram2dcontour\": [{\"colorbar\": {\"outlinewidth\": 0, \"ticks\": \"\"}, \"colorscale\": [[0.0, \"#0d0887\"], [0.1111111111111111, \"#46039f\"], [0.2222222222222222, \"#7201a8\"], [0.3333333333333333, \"#9c179e\"], [0.4444444444444444, \"#bd3786\"], [0.5555555555555556, \"#d8576b\"], [0.6666666666666666, \"#ed7953\"], [0.7777777777777778, \"#fb9f3a\"], [0.8888888888888888, \"#fdca26\"], [1.0, \"#f0f921\"]], \"type\": \"histogram2dcontour\"}], \"mesh3d\": [{\"colorbar\": {\"outlinewidth\": 0, \"ticks\": \"\"}, \"type\": \"mesh3d\"}], \"parcoords\": [{\"line\": {\"colorbar\": {\"outlinewidth\": 0, \"ticks\": \"\"}}, \"type\": \"parcoords\"}], \"pie\": [{\"automargin\": true, \"type\": \"pie\"}], \"scatter\": [{\"marker\": {\"colorbar\": {\"outlinewidth\": 0, \"ticks\": \"\"}}, \"type\": \"scatter\"}], \"scatter3d\": [{\"line\": {\"colorbar\": {\"outlinewidth\": 0, \"ticks\": \"\"}}, \"marker\": {\"colorbar\": {\"outlinewidth\": 0, \"ticks\": \"\"}}, \"type\": \"scatter3d\"}], \"scattercarpet\": [{\"marker\": {\"colorbar\": {\"outlinewidth\": 0, \"ticks\": \"\"}}, \"type\": \"scattercarpet\"}], \"scattergeo\": [{\"marker\": {\"colorbar\": {\"outlinewidth\": 0, \"ticks\": \"\"}}, \"type\": \"scattergeo\"}], \"scattergl\": [{\"marker\": {\"colorbar\": {\"outlinewidth\": 0, \"ticks\": \"\"}}, \"type\": \"scattergl\"}], \"scattermapbox\": [{\"marker\": {\"colorbar\": {\"outlinewidth\": 0, \"ticks\": \"\"}}, \"type\": \"scattermapbox\"}], \"scatterpolar\": [{\"marker\": {\"colorbar\": {\"outlinewidth\": 0, \"ticks\": \"\"}}, \"type\": \"scatterpolar\"}], \"scatterpolargl\": [{\"marker\": {\"colorbar\": {\"outlinewidth\": 0, \"ticks\": \"\"}}, \"type\": \"scatterpolargl\"}], \"scatterternary\": [{\"marker\": {\"colorbar\": {\"outlinewidth\": 0, \"ticks\": \"\"}}, \"type\": \"scatterternary\"}], \"surface\": [{\"colorbar\": {\"outlinewidth\": 0, \"ticks\": \"\"}, \"colorscale\": [[0.0, \"#0d0887\"], [0.1111111111111111, \"#46039f\"], [0.2222222222222222, \"#7201a8\"], [0.3333333333333333, \"#9c179e\"], [0.4444444444444444, \"#bd3786\"], [0.5555555555555556, \"#d8576b\"], [0.6666666666666666, \"#ed7953\"], [0.7777777777777778, \"#fb9f3a\"], [0.8888888888888888, \"#fdca26\"], [1.0, \"#f0f921\"]], \"type\": \"surface\"}], \"table\": [{\"cells\": {\"fill\": {\"color\": \"#EBF0F8\"}, \"line\": {\"color\": \"white\"}}, \"header\": {\"fill\": {\"color\": \"#C8D4E3\"}, \"line\": {\"color\": \"white\"}}, \"type\": \"table\"}]}, \"layout\": {\"annotationdefaults\": {\"arrowcolor\": \"#2a3f5f\", \"arrowhead\": 0, \"arrowwidth\": 1}, \"coloraxis\": {\"colorbar\": {\"outlinewidth\": 0, \"ticks\": \"\"}}, \"colorscale\": {\"diverging\": [[0, \"#8e0152\"], [0.1, \"#c51b7d\"], [0.2, \"#de77ae\"], [0.3, \"#f1b6da\"], [0.4, \"#fde0ef\"], [0.5, \"#f7f7f7\"], [0.6, \"#e6f5d0\"], [0.7, \"#b8e186\"], [0.8, \"#7fbc41\"], [0.9, \"#4d9221\"], [1, \"#276419\"]], \"sequential\": [[0.0, \"#0d0887\"], [0.1111111111111111, \"#46039f\"], [0.2222222222222222, \"#7201a8\"], [0.3333333333333333, \"#9c179e\"], [0.4444444444444444, \"#bd3786\"], [0.5555555555555556, \"#d8576b\"], [0.6666666666666666, \"#ed7953\"], [0.7777777777777778, \"#fb9f3a\"], [0.8888888888888888, \"#fdca26\"], [1.0, \"#f0f921\"]], \"sequentialminus\": [[0.0, \"#0d0887\"], [0.1111111111111111, \"#46039f\"], [0.2222222222222222, \"#7201a8\"], [0.3333333333333333, \"#9c179e\"], [0.4444444444444444, \"#bd3786\"], [0.5555555555555556, \"#d8576b\"], [0.6666666666666666, \"#ed7953\"], [0.7777777777777778, \"#fb9f3a\"], [0.8888888888888888, \"#fdca26\"], [1.0, \"#f0f921\"]]}, \"colorway\": [\"#636efa\", \"#EF553B\", \"#00cc96\", \"#ab63fa\", \"#FFA15A\", \"#19d3f3\", \"#FF6692\", \"#B6E880\", \"#FF97FF\", \"#FECB52\"], \"font\": {\"color\": \"#2a3f5f\"}, \"geo\": {\"bgcolor\": \"white\", \"lakecolor\": \"white\", \"landcolor\": \"#E5ECF6\", \"showlakes\": true, \"showland\": true, \"subunitcolor\": \"white\"}, \"hoverlabel\": {\"align\": \"left\"}, \"hovermode\": \"closest\", \"mapbox\": {\"style\": \"light\"}, \"paper_bgcolor\": \"white\", \"plot_bgcolor\": \"#E5ECF6\", \"polar\": {\"angularaxis\": {\"gridcolor\": \"white\", \"linecolor\": \"white\", \"ticks\": \"\"}, \"bgcolor\": \"#E5ECF6\", \"radialaxis\": {\"gridcolor\": \"white\", \"linecolor\": \"white\", \"ticks\": \"\"}}, \"scene\": {\"xaxis\": {\"backgroundcolor\": \"#E5ECF6\", \"gridcolor\": \"white\", \"gridwidth\": 2, \"linecolor\": \"white\", \"showbackground\": true, \"ticks\": \"\", \"zerolinecolor\": \"white\"}, \"yaxis\": {\"backgroundcolor\": \"#E5ECF6\", \"gridcolor\": \"white\", \"gridwidth\": 2, \"linecolor\": \"white\", \"showbackground\": true, \"ticks\": \"\", \"zerolinecolor\": \"white\"}, \"zaxis\": {\"backgroundcolor\": \"#E5ECF6\", \"gridcolor\": \"white\", \"gridwidth\": 2, \"linecolor\": \"white\", \"showbackground\": true, \"ticks\": \"\", \"zerolinecolor\": \"white\"}}, \"shapedefaults\": {\"line\": {\"color\": \"#2a3f5f\"}}, \"ternary\": {\"aaxis\": {\"gridcolor\": \"white\", \"linecolor\": \"white\", \"ticks\": \"\"}, \"baxis\": {\"gridcolor\": \"white\", \"linecolor\": \"white\", \"ticks\": \"\"}, \"bgcolor\": \"#E5ECF6\", \"caxis\": {\"gridcolor\": \"white\", \"linecolor\": \"white\", \"ticks\": \"\"}}, \"title\": {\"x\": 0.05}, \"xaxis\": {\"automargin\": true, \"gridcolor\": \"white\", \"linecolor\": \"white\", \"ticks\": \"\", \"title\": {\"standoff\": 15}, \"zerolinecolor\": \"white\", \"zerolinewidth\": 2}, \"yaxis\": {\"automargin\": true, \"gridcolor\": \"white\", \"linecolor\": \"white\", \"ticks\": \"\", \"title\": {\"standoff\": 15}, \"zerolinecolor\": \"white\", \"zerolinewidth\": 2}}}, \"title\": {\"text\": \"3d TSNE Plot for Outliers\"}, \"width\": 900},\n",
       "                        {\"responsive\": true}\n",
       "                    ).then(function(){\n",
       "                            \n",
       "var gd = document.getElementById('ebb01133-609c-4384-a02f-c6872dc62f36');\n",
       "var x = new MutationObserver(function (mutations, observer) {{\n",
       "        var display = window.getComputedStyle(gd).display;\n",
       "        if (!display || display === 'none') {{\n",
       "            console.log([gd, 'removed!']);\n",
       "            Plotly.purge(gd);\n",
       "            observer.disconnect();\n",
       "        }}\n",
       "}});\n",
       "\n",
       "// Listen for the removal of the full notebook cells\n",
       "var notebookContainer = gd.closest('#notebook-container');\n",
       "if (notebookContainer) {{\n",
       "    x.observe(notebookContainer, {childList: true});\n",
       "}}\n",
       "\n",
       "// Listen for the clearing of the current output cell\n",
       "var outputEl = gd.closest('.output');\n",
       "if (outputEl) {{\n",
       "    x.observe(outputEl, {childList: true});\n",
       "}}\n",
       "\n",
       "                        })\n",
       "                };\n",
       "                });\n",
       "            </script>\n",
       "        </div>"
      ]
     },
     "metadata": {
      "tags": []
     },
     "output_type": "display_data"
    }
   ],
   "source": [
    "plot_model(model) # so from here we will see yellow points which basically detect the fraud points . This is 3d plot "
   ]
  },
  {
   "cell_type": "code",
   "execution_count": 0,
   "metadata": {
    "colab": {},
    "colab_type": "code",
    "id": "iRj4kS-yO1pm"
   },
   "outputs": [],
   "source": [
    "model2=create_model('knn')"
   ]
  },
  {
   "cell_type": "code",
   "execution_count": 0,
   "metadata": {
    "colab": {},
    "colab_type": "code",
    "id": "nd9PjIXNQoPp"
   },
   "outputs": [],
   "source": [
    "prediction=predict_model(model2,data=data)"
   ]
  },
  {
   "cell_type": "code",
   "execution_count": 15,
   "metadata": {
    "colab": {
     "base_uri": "https://localhost:8080/",
     "height": 415
    },
    "colab_type": "code",
    "id": "9auoSkwDQ5lV",
    "outputId": "24136851-a8ee-48e0-b830-352d26a00666"
   },
   "outputs": [
    {
     "data": {
      "text/html": [
       "<div>\n",
       "<style scoped>\n",
       "    .dataframe tbody tr th:only-of-type {\n",
       "        vertical-align: middle;\n",
       "    }\n",
       "\n",
       "    .dataframe tbody tr th {\n",
       "        vertical-align: top;\n",
       "    }\n",
       "\n",
       "    .dataframe thead th {\n",
       "        text-align: right;\n",
       "    }\n",
       "</style>\n",
       "<table border=\"1\" class=\"dataframe\">\n",
       "  <thead>\n",
       "    <tr style=\"text-align: right;\">\n",
       "      <th></th>\n",
       "      <th>Col1</th>\n",
       "      <th>Col2</th>\n",
       "      <th>Col3</th>\n",
       "      <th>Col4</th>\n",
       "      <th>Col5</th>\n",
       "      <th>Col6</th>\n",
       "      <th>Col7</th>\n",
       "      <th>Col8</th>\n",
       "      <th>Col9</th>\n",
       "      <th>Col10</th>\n",
       "      <th>Label</th>\n",
       "      <th>Score</th>\n",
       "    </tr>\n",
       "  </thead>\n",
       "  <tbody>\n",
       "    <tr>\n",
       "      <th>0</th>\n",
       "      <td>0.263995</td>\n",
       "      <td>0.764929</td>\n",
       "      <td>0.138424</td>\n",
       "      <td>0.935242</td>\n",
       "      <td>0.605867</td>\n",
       "      <td>0.518790</td>\n",
       "      <td>0.912225</td>\n",
       "      <td>0.608234</td>\n",
       "      <td>0.723782</td>\n",
       "      <td>0.733591</td>\n",
       "      <td>0</td>\n",
       "      <td>0.558927</td>\n",
       "    </tr>\n",
       "    <tr>\n",
       "      <th>1</th>\n",
       "      <td>0.546092</td>\n",
       "      <td>0.653975</td>\n",
       "      <td>0.065575</td>\n",
       "      <td>0.227772</td>\n",
       "      <td>0.845269</td>\n",
       "      <td>0.837066</td>\n",
       "      <td>0.272379</td>\n",
       "      <td>0.331679</td>\n",
       "      <td>0.429297</td>\n",
       "      <td>0.367422</td>\n",
       "      <td>0</td>\n",
       "      <td>0.477482</td>\n",
       "    </tr>\n",
       "    <tr>\n",
       "      <th>2</th>\n",
       "      <td>0.336714</td>\n",
       "      <td>0.538842</td>\n",
       "      <td>0.192801</td>\n",
       "      <td>0.553563</td>\n",
       "      <td>0.074515</td>\n",
       "      <td>0.332993</td>\n",
       "      <td>0.365792</td>\n",
       "      <td>0.861309</td>\n",
       "      <td>0.899017</td>\n",
       "      <td>0.088600</td>\n",
       "      <td>0</td>\n",
       "      <td>0.676207</td>\n",
       "    </tr>\n",
       "    <tr>\n",
       "      <th>3</th>\n",
       "      <td>0.092108</td>\n",
       "      <td>0.995017</td>\n",
       "      <td>0.014465</td>\n",
       "      <td>0.176371</td>\n",
       "      <td>0.241530</td>\n",
       "      <td>0.514724</td>\n",
       "      <td>0.562208</td>\n",
       "      <td>0.158963</td>\n",
       "      <td>0.073715</td>\n",
       "      <td>0.208463</td>\n",
       "      <td>1</td>\n",
       "      <td>0.804769</td>\n",
       "    </tr>\n",
       "    <tr>\n",
       "      <th>4</th>\n",
       "      <td>0.325261</td>\n",
       "      <td>0.805968</td>\n",
       "      <td>0.957033</td>\n",
       "      <td>0.331665</td>\n",
       "      <td>0.307923</td>\n",
       "      <td>0.355315</td>\n",
       "      <td>0.501899</td>\n",
       "      <td>0.558449</td>\n",
       "      <td>0.885169</td>\n",
       "      <td>0.182754</td>\n",
       "      <td>0</td>\n",
       "      <td>0.630836</td>\n",
       "    </tr>\n",
       "    <tr>\n",
       "      <th>...</th>\n",
       "      <td>...</td>\n",
       "      <td>...</td>\n",
       "      <td>...</td>\n",
       "      <td>...</td>\n",
       "      <td>...</td>\n",
       "      <td>...</td>\n",
       "      <td>...</td>\n",
       "      <td>...</td>\n",
       "      <td>...</td>\n",
       "      <td>...</td>\n",
       "      <td>...</td>\n",
       "      <td>...</td>\n",
       "    </tr>\n",
       "    <tr>\n",
       "      <th>995</th>\n",
       "      <td>0.305055</td>\n",
       "      <td>0.656837</td>\n",
       "      <td>0.331665</td>\n",
       "      <td>0.822525</td>\n",
       "      <td>0.907127</td>\n",
       "      <td>0.882276</td>\n",
       "      <td>0.855732</td>\n",
       "      <td>0.584786</td>\n",
       "      <td>0.808640</td>\n",
       "      <td>0.242762</td>\n",
       "      <td>0</td>\n",
       "      <td>0.266822</td>\n",
       "    </tr>\n",
       "    <tr>\n",
       "      <th>996</th>\n",
       "      <td>0.812627</td>\n",
       "      <td>0.864258</td>\n",
       "      <td>0.616604</td>\n",
       "      <td>0.167966</td>\n",
       "      <td>0.811223</td>\n",
       "      <td>0.938071</td>\n",
       "      <td>0.418462</td>\n",
       "      <td>0.472306</td>\n",
       "      <td>0.348347</td>\n",
       "      <td>0.671129</td>\n",
       "      <td>0</td>\n",
       "      <td>0.403480</td>\n",
       "    </tr>\n",
       "    <tr>\n",
       "      <th>997</th>\n",
       "      <td>0.250967</td>\n",
       "      <td>0.138627</td>\n",
       "      <td>0.919703</td>\n",
       "      <td>0.461234</td>\n",
       "      <td>0.886555</td>\n",
       "      <td>0.869888</td>\n",
       "      <td>0.800908</td>\n",
       "      <td>0.530324</td>\n",
       "      <td>0.779433</td>\n",
       "      <td>0.234952</td>\n",
       "      <td>0</td>\n",
       "      <td>0.337727</td>\n",
       "    </tr>\n",
       "    <tr>\n",
       "      <th>998</th>\n",
       "      <td>0.502436</td>\n",
       "      <td>0.936820</td>\n",
       "      <td>0.580062</td>\n",
       "      <td>0.540773</td>\n",
       "      <td>0.151995</td>\n",
       "      <td>0.059452</td>\n",
       "      <td>0.225220</td>\n",
       "      <td>0.242755</td>\n",
       "      <td>0.279385</td>\n",
       "      <td>0.538755</td>\n",
       "      <td>0</td>\n",
       "      <td>0.300265</td>\n",
       "    </tr>\n",
       "    <tr>\n",
       "      <th>999</th>\n",
       "      <td>0.457991</td>\n",
       "      <td>0.017755</td>\n",
       "      <td>0.714113</td>\n",
       "      <td>0.125992</td>\n",
       "      <td>0.063316</td>\n",
       "      <td>0.154739</td>\n",
       "      <td>0.922974</td>\n",
       "      <td>0.692299</td>\n",
       "      <td>0.816777</td>\n",
       "      <td>0.307592</td>\n",
       "      <td>0</td>\n",
       "      <td>0.367867</td>\n",
       "    </tr>\n",
       "  </tbody>\n",
       "</table>\n",
       "<p>1000 rows × 12 columns</p>\n",
       "</div>"
      ],
      "text/plain": [
       "         Col1      Col2      Col3  ...     Col10  Label     Score\n",
       "0    0.263995  0.764929  0.138424  ...  0.733591      0  0.558927\n",
       "1    0.546092  0.653975  0.065575  ...  0.367422      0  0.477482\n",
       "2    0.336714  0.538842  0.192801  ...  0.088600      0  0.676207\n",
       "3    0.092108  0.995017  0.014465  ...  0.208463      1  0.804769\n",
       "4    0.325261  0.805968  0.957033  ...  0.182754      0  0.630836\n",
       "..        ...       ...       ...  ...       ...    ...       ...\n",
       "995  0.305055  0.656837  0.331665  ...  0.242762      0  0.266822\n",
       "996  0.812627  0.864258  0.616604  ...  0.671129      0  0.403480\n",
       "997  0.250967  0.138627  0.919703  ...  0.234952      0  0.337727\n",
       "998  0.502436  0.936820  0.580062  ...  0.538755      0  0.300265\n",
       "999  0.457991  0.017755  0.714113  ...  0.307592      0  0.367867\n",
       "\n",
       "[1000 rows x 12 columns]"
      ]
     },
     "execution_count": 15,
     "metadata": {
      "tags": []
     },
     "output_type": "execute_result"
    }
   ],
   "source": [
    "prediction # so from label feature 0 indicates non fraud points and the 1 indicates the fraud points. "
   ]
  },
  {
   "cell_type": "markdown",
   "metadata": {
    "colab_type": "text",
    "id": "EeQKX80BRdwS"
   },
   "source": []
  }
 ],
 "metadata": {
  "colab": {
   "name": "LAB32_Automate_anomaly_detection_using_pycaret",
   "provenance": []
  },
  "kernelspec": {
   "display_name": "Python 3",
   "language": "python",
   "name": "python3"
  },
  "language_info": {
   "codemirror_mode": {
    "name": "ipython",
    "version": 3
   },
   "file_extension": ".py",
   "mimetype": "text/x-python",
   "name": "python",
   "nbconvert_exporter": "python",
   "pygments_lexer": "ipython3",
   "version": "3.7.3"
  },
  "widgets": {
   "application/vnd.jupyter.widget-state+json": {
    "49ea9a13f5b2472191cf4134d20c8651": {
     "model_module": "@jupyter-widgets/base",
     "model_name": "LayoutModel",
     "state": {
      "_model_module": "@jupyter-widgets/base",
      "_model_module_version": "1.2.0",
      "_model_name": "LayoutModel",
      "_view_count": null,
      "_view_module": "@jupyter-widgets/base",
      "_view_module_version": "1.2.0",
      "_view_name": "LayoutView",
      "align_content": null,
      "align_items": null,
      "align_self": null,
      "border": null,
      "bottom": null,
      "display": null,
      "flex": null,
      "flex_flow": null,
      "grid_area": null,
      "grid_auto_columns": null,
      "grid_auto_flow": null,
      "grid_auto_rows": null,
      "grid_column": null,
      "grid_gap": null,
      "grid_row": null,
      "grid_template_areas": null,
      "grid_template_columns": null,
      "grid_template_rows": null,
      "height": null,
      "justify_content": null,
      "justify_items": null,
      "left": null,
      "margin": null,
      "max_height": null,
      "max_width": null,
      "min_height": null,
      "min_width": null,
      "object_fit": null,
      "object_position": null,
      "order": null,
      "overflow": null,
      "overflow_x": null,
      "overflow_y": null,
      "padding": null,
      "right": null,
      "top": null,
      "visibility": null,
      "width": null
     }
    },
    "69380d64266b4cccb792e80dc2b65860": {
     "model_module": "@jupyter-widgets/controls",
     "model_name": "TextModel",
     "state": {
      "_dom_classes": [],
      "_model_module": "@jupyter-widgets/controls",
      "_model_module_version": "1.5.0",
      "_model_name": "TextModel",
      "_view_count": null,
      "_view_module": "@jupyter-widgets/controls",
      "_view_module_version": "1.5.0",
      "_view_name": "TextView",
      "continuous_update": true,
      "description": "",
      "description_tooltip": null,
      "disabled": false,
      "layout": "IPY_MODEL_b050eddb583c4d3db7834269f2605d20",
      "placeholder": "​",
      "style": "IPY_MODEL_ed4550269acf44aaab0195d54490b799",
      "value": "Following data types have been inferred automatically, if they are correct press enter to continue or type 'quit' otherwise."
     }
    },
    "b050eddb583c4d3db7834269f2605d20": {
     "model_module": "@jupyter-widgets/base",
     "model_name": "LayoutModel",
     "state": {
      "_model_module": "@jupyter-widgets/base",
      "_model_module_version": "1.2.0",
      "_model_name": "LayoutModel",
      "_view_count": null,
      "_view_module": "@jupyter-widgets/base",
      "_view_module_version": "1.2.0",
      "_view_name": "LayoutView",
      "align_content": null,
      "align_items": null,
      "align_self": null,
      "border": null,
      "bottom": null,
      "display": null,
      "flex": null,
      "flex_flow": null,
      "grid_area": null,
      "grid_auto_columns": null,
      "grid_auto_flow": null,
      "grid_auto_rows": null,
      "grid_column": null,
      "grid_gap": null,
      "grid_row": null,
      "grid_template_areas": null,
      "grid_template_columns": null,
      "grid_template_rows": null,
      "height": null,
      "justify_content": null,
      "justify_items": null,
      "left": null,
      "margin": null,
      "max_height": null,
      "max_width": null,
      "min_height": null,
      "min_width": null,
      "object_fit": null,
      "object_position": null,
      "order": null,
      "overflow": null,
      "overflow_x": null,
      "overflow_y": null,
      "padding": null,
      "right": null,
      "top": null,
      "visibility": null,
      "width": "100%"
     }
    },
    "b85d10ee43fc4287bc4892b2e056531f": {
     "model_module": "@jupyter-widgets/controls",
     "model_name": "ProgressStyleModel",
     "state": {
      "_model_module": "@jupyter-widgets/controls",
      "_model_module_version": "1.5.0",
      "_model_name": "ProgressStyleModel",
      "_view_count": null,
      "_view_module": "@jupyter-widgets/base",
      "_view_module_version": "1.2.0",
      "_view_name": "StyleView",
      "bar_color": null,
      "description_width": ""
     }
    },
    "ed4550269acf44aaab0195d54490b799": {
     "model_module": "@jupyter-widgets/controls",
     "model_name": "DescriptionStyleModel",
     "state": {
      "_model_module": "@jupyter-widgets/controls",
      "_model_module_version": "1.5.0",
      "_model_name": "DescriptionStyleModel",
      "_view_count": null,
      "_view_module": "@jupyter-widgets/base",
      "_view_module_version": "1.2.0",
      "_view_name": "StyleView",
      "description_width": ""
     }
    },
    "f19ea5d238ac4d258e2da33b25e02b1a": {
     "model_module": "@jupyter-widgets/controls",
     "model_name": "IntProgressModel",
     "state": {
      "_dom_classes": [],
      "_model_module": "@jupyter-widgets/controls",
      "_model_module_version": "1.5.0",
      "_model_name": "IntProgressModel",
      "_view_count": null,
      "_view_module": "@jupyter-widgets/controls",
      "_view_module_version": "1.5.0",
      "_view_name": "ProgressView",
      "bar_style": "",
      "description": "Processing: ",
      "description_tooltip": null,
      "layout": "IPY_MODEL_49ea9a13f5b2472191cf4134d20c8651",
      "max": 4,
      "min": 0,
      "orientation": "horizontal",
      "style": "IPY_MODEL_b85d10ee43fc4287bc4892b2e056531f",
      "value": 3
     }
    }
   }
  }
 },
 "nbformat": 4,
 "nbformat_minor": 1
}
